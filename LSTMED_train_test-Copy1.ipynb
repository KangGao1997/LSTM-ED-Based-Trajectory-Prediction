{
 "cells": [
  {
   "cell_type": "code",
   "execution_count": 1,
   "id": "8a47383b",
   "metadata": {},
   "outputs": [],
   "source": [
    "import torch\n",
    "import torch.nn as nn\n",
    "import torch.nn.functional as F\n",
    "from typing import Any\n",
    "\n",
    "import numpy as np\n",
    "from torch.utils.data import DataLoader,TensorDataset\n",
    "import time\n",
    "import matplotlib.pyplot as plt"
   ]
  },
  {
   "cell_type": "code",
   "execution_count": 2,
   "id": "0fb10b2d",
   "metadata": {},
   "outputs": [],
   "source": [
    "class EncoderRNN(nn.Module):\n",
    "    \"\"\"Encoder Network.\"\"\"\n",
    "    def __init__(self,\n",
    "                 input_size: int = 2,\n",
    "                 embedding_size: int = 8,\n",
    "                 hidden_size: int = 16):\n",
    "        \"\"\"Initialize the encoder network.\n",
    "        Args:\n",
    "            input_size: number of features in the input\n",
    "            embedding_size: Embedding size\n",
    "            hidden_size: Hidden size of LSTM\n",
    "        \"\"\"\n",
    "        super(EncoderRNN, self).__init__()\n",
    "        self.hidden_size = hidden_size\n",
    "\n",
    "        self.linear1 = nn.Linear(input_size, embedding_size)\n",
    "        self.lstm1 = nn.LSTMCell(embedding_size, hidden_size)\n",
    "\n",
    "    def forward(self, x: torch.FloatTensor, hidden: Any) -> Any:\n",
    "        \"\"\"Run forward propagation.\n",
    "        Args:\n",
    "            x: input to the network\n",
    "            hidden: initial hidden state\n",
    "        Returns:\n",
    "            hidden: final hidden \n",
    "        \"\"\"\n",
    "        embedded = F.relu(self.linear1(x))\n",
    "        hidden = self.lstm1(embedded, hidden)\n",
    "        return hidden\n"
   ]
  },
  {
   "cell_type": "code",
   "execution_count": 3,
   "id": "66099191",
   "metadata": {},
   "outputs": [],
   "source": [
    "class DecoderRNN(nn.Module):\n",
    "    \"\"\"Decoder Network.\"\"\"\n",
    "    def __init__(self, embedding_size=8, hidden_size=16, output_size=2):\n",
    "        \"\"\"Initialize the decoder network.\n",
    "        Args:\n",
    "            embedding_size: Embedding size\n",
    "            hidden_size: Hidden size of LSTM\n",
    "            output_size: number of features in the output\n",
    "        \"\"\"\n",
    "        super(DecoderRNN, self).__init__()\n",
    "        self.hidden_size = hidden_size\n",
    "\n",
    "        self.linear1 = nn.Linear(output_size, embedding_size)\n",
    "        self.lstm1 = nn.LSTMCell(embedding_size, hidden_size)\n",
    "        self.linear2 = nn.Linear(hidden_size, output_size)\n",
    "\n",
    "    def forward(self, x, hidden):\n",
    "        \"\"\"Run forward propagation.\n",
    "        Args:\n",
    "            x: input to the network\n",
    "            hidden: initial hidden state\n",
    "        Returns:\n",
    "            output: output from lstm\n",
    "            hidden: final hidden state\n",
    "        \"\"\"\n",
    "        embedded = F.relu(self.linear1(x))\n",
    "        hidden = self.lstm1(embedded, hidden)\n",
    "        output = self.linear2(hidden[0])\n",
    "        return output, hidden"
   ]
  },
  {
   "cell_type": "code",
   "execution_count": 4,
   "id": "55643f7b",
   "metadata": {},
   "outputs": [
    {
     "data": {
      "text/plain": [
       "(208272, 2, 49)"
      ]
     },
     "execution_count": 4,
     "metadata": {},
     "output_type": "execute_result"
    }
   ],
   "source": [
    "#train_set = train_set.transpose(0,2,1)\n",
    "#train_target = train_target.transpose(0,2,1)\n",
    "#train_set.shape,train_target.shape\n",
    "\n",
    "train_data = np.load(\"train_velocity.npy\")\n",
    "train_data.shape"
   ]
  },
  {
   "cell_type": "code",
   "execution_count": 5,
   "id": "389f521d",
   "metadata": {},
   "outputs": [],
   "source": [
    "toTensor_sig = torch.tensor(train_data[0:208272:10])\n",
    "train_data_set = TensorDataset(toTensor_sig)"
   ]
  },
  {
   "cell_type": "code",
   "execution_count": 6,
   "id": "7cbdceb3",
   "metadata": {},
   "outputs": [],
   "source": [
    "#set up the train parameters\n",
    "batch_size = 1000 #600 #500\n",
    "epoch = 70\n",
    "lr = 0.001\n",
    "\n",
    "encoder = EncoderRNN()\n",
    "decoder = DecoderRNN()\n",
    "criterion = nn.MSELoss()\n",
    "encoder_optimizer = torch.optim.Adam(encoder.parameters(), lr=lr)\n",
    "decoder_optimizer = torch.optim.Adam(decoder.parameters(), lr=lr)\n",
    "tr_data_loader = DataLoader(train_data_set,batch_size = batch_size, shuffle = True)\n",
    "loss_overall = []"
   ]
  },
  {
   "cell_type": "code",
   "execution_count": null,
   "id": "83d33685",
   "metadata": {},
   "outputs": [
    {
     "name": "stdout",
     "output_type": "stream",
     "text": [
      "============================================\n",
      "epoch:  1\n",
      "tensor(0.5550, grad_fn=<DivBackward0>)\n",
      "============================================\n",
      "epoch:  2\n",
      "tensor(0.3392, grad_fn=<DivBackward0>)\n",
      "============================================\n",
      "epoch:  3\n",
      "tensor(0.2556, grad_fn=<DivBackward0>)\n",
      "============================================\n",
      "epoch:  4\n",
      "tensor(0.2639, grad_fn=<DivBackward0>)\n",
      "============================================\n",
      "epoch:  5\n",
      "tensor(0.2628, grad_fn=<DivBackward0>)\n",
      "============================================\n",
      "epoch:  6\n",
      "tensor(0.2504, grad_fn=<DivBackward0>)\n",
      "============================================\n",
      "epoch:  7\n",
      "tensor(0.2558, grad_fn=<DivBackward0>)\n",
      "============================================\n",
      "epoch:  8\n",
      "tensor(0.3607, grad_fn=<DivBackward0>)\n",
      "============================================\n",
      "epoch:  9\n",
      "tensor(0.6093, grad_fn=<DivBackward0>)\n",
      "============================================\n",
      "epoch:  10\n",
      "tensor(0.5712, grad_fn=<DivBackward0>)\n",
      "============================================\n",
      "epoch:  11\n",
      "tensor(0.6293, grad_fn=<DivBackward0>)\n",
      "============================================\n",
      "epoch:  12\n",
      "tensor(1.9020, grad_fn=<DivBackward0>)\n",
      "============================================\n",
      "epoch:  13\n",
      "tensor(2.9094, grad_fn=<DivBackward0>)\n",
      "============================================\n",
      "epoch:  14\n",
      "tensor(4.1628, grad_fn=<DivBackward0>)\n",
      "============================================\n",
      "epoch:  15\n",
      "tensor(5.8051, grad_fn=<DivBackward0>)\n",
      "============================================\n",
      "epoch:  16\n",
      "tensor(7.5692, grad_fn=<DivBackward0>)\n",
      "============================================\n",
      "epoch:  17\n",
      "tensor(8.5917, grad_fn=<DivBackward0>)\n",
      "============================================\n",
      "epoch:  18\n",
      "tensor(9.4504, grad_fn=<DivBackward0>)\n",
      "============================================\n",
      "epoch:  19\n",
      "tensor(9.1826, grad_fn=<DivBackward0>)\n",
      "============================================\n",
      "epoch:  20\n",
      "tensor(9.2202, grad_fn=<DivBackward0>)\n",
      "============================================\n",
      "epoch:  21\n",
      "tensor(9.4424, grad_fn=<DivBackward0>)\n",
      "============================================\n",
      "epoch:  22\n",
      "tensor(8.6964, grad_fn=<DivBackward0>)\n",
      "============================================\n",
      "epoch:  23\n",
      "tensor(9.4289, grad_fn=<DivBackward0>)\n",
      "============================================\n",
      "epoch:  24\n",
      "tensor(12.2115, grad_fn=<DivBackward0>)\n",
      "============================================\n",
      "epoch:  25\n",
      "tensor(15.0421, grad_fn=<DivBackward0>)\n",
      "============================================\n",
      "epoch:  26\n",
      "tensor(17.2344, grad_fn=<DivBackward0>)\n",
      "============================================\n",
      "epoch:  27\n",
      "tensor(16.2488, grad_fn=<DivBackward0>)\n",
      "============================================\n",
      "epoch:  28\n",
      "tensor(14.4288, grad_fn=<DivBackward0>)\n",
      "============================================\n",
      "epoch:  29\n",
      "tensor(13.5577, grad_fn=<DivBackward0>)\n",
      "============================================\n",
      "epoch:  30\n",
      "tensor(12.6262, grad_fn=<DivBackward0>)\n",
      "============================================\n",
      "epoch:  31\n",
      "tensor(12.2592, grad_fn=<DivBackward0>)\n",
      "============================================\n",
      "epoch:  32\n",
      "tensor(12.2069, grad_fn=<DivBackward0>)\n",
      "============================================\n",
      "epoch:  33\n",
      "tensor(11.9714, grad_fn=<DivBackward0>)\n",
      "============================================\n",
      "epoch:  34\n",
      "tensor(12.0317, grad_fn=<DivBackward0>)\n",
      "============================================\n",
      "epoch:  35\n",
      "tensor(11.7499, grad_fn=<DivBackward0>)\n",
      "============================================\n",
      "epoch:  36\n",
      "tensor(11.7094, grad_fn=<DivBackward0>)\n",
      "============================================\n",
      "epoch:  37\n",
      "tensor(10.9002, grad_fn=<DivBackward0>)\n",
      "============================================\n",
      "epoch:  38\n",
      "tensor(10.5804, grad_fn=<DivBackward0>)\n",
      "============================================\n",
      "epoch:  39\n",
      "tensor(10.1582, grad_fn=<DivBackward0>)\n",
      "============================================\n",
      "epoch:  40\n",
      "tensor(9.7278, grad_fn=<DivBackward0>)\n",
      "============================================\n",
      "epoch:  41\n",
      "tensor(8.4566, grad_fn=<DivBackward0>)\n",
      "============================================\n",
      "epoch:  42\n",
      "tensor(7.7881, grad_fn=<DivBackward0>)\n",
      "============================================\n",
      "epoch:  43\n",
      "tensor(8.3322, grad_fn=<DivBackward0>)\n",
      "============================================\n",
      "epoch:  44\n",
      "tensor(7.5562, grad_fn=<DivBackward0>)\n",
      "============================================\n",
      "epoch:  45\n",
      "tensor(7.2727, grad_fn=<DivBackward0>)\n",
      "============================================\n",
      "epoch:  46\n",
      "tensor(6.6069, grad_fn=<DivBackward0>)\n",
      "============================================\n",
      "epoch:  47\n",
      "tensor(6.7776, grad_fn=<DivBackward0>)\n",
      "============================================\n",
      "epoch:  48\n",
      "tensor(8.7538, grad_fn=<DivBackward0>)\n",
      "============================================\n",
      "epoch:  49\n",
      "tensor(9.5003, grad_fn=<DivBackward0>)\n",
      "============================================\n",
      "epoch:  50\n",
      "tensor(10.1176, grad_fn=<DivBackward0>)\n",
      "============================================\n",
      "epoch:  51\n",
      "tensor(10.6159, grad_fn=<DivBackward0>)\n",
      "============================================\n",
      "epoch:  52\n",
      "tensor(10.8677, grad_fn=<DivBackward0>)\n",
      "============================================\n",
      "epoch:  53\n",
      "tensor(11.0512, grad_fn=<DivBackward0>)\n",
      "============================================\n",
      "epoch:  54\n",
      "tensor(10.9234, grad_fn=<DivBackward0>)\n",
      "============================================\n",
      "epoch:  55\n",
      "tensor(11.1853, grad_fn=<DivBackward0>)\n",
      "============================================\n",
      "epoch:  56\n",
      "tensor(10.7094, grad_fn=<DivBackward0>)\n",
      "============================================\n",
      "epoch:  57\n",
      "tensor(8.2275, grad_fn=<DivBackward0>)\n",
      "============================================\n",
      "epoch:  58\n",
      "tensor(7.9120, grad_fn=<DivBackward0>)\n",
      "============================================\n",
      "epoch:  59\n",
      "tensor(7.3599, grad_fn=<DivBackward0>)\n",
      "============================================\n",
      "epoch:  60\n",
      "tensor(5.5045, grad_fn=<DivBackward0>)\n",
      "============================================\n",
      "epoch:  61\n",
      "tensor(5.5886, grad_fn=<DivBackward0>)\n",
      "============================================\n",
      "epoch:  62\n",
      "tensor(5.6694, grad_fn=<DivBackward0>)\n",
      "============================================\n",
      "epoch:  63\n",
      "tensor(5.3142, grad_fn=<DivBackward0>)\n",
      "============================================\n",
      "epoch:  64\n",
      "tensor(10.0805, grad_fn=<DivBackward0>)\n",
      "============================================\n",
      "epoch:  65\n",
      "tensor(17.3625, grad_fn=<DivBackward0>)\n",
      "============================================\n",
      "epoch:  66\n"
     ]
    }
   ],
   "source": [
    "\n",
    "start = time.time()\n",
    "\n",
    "for i in range(epoch):\n",
    "    print(\"============================================\")\n",
    "    print(\"epoch: \", i+1)\n",
    "    loss_batch = 0\n",
    "    cur_MSE = 0\n",
    "    for (idx,data) in enumerate(tr_data_loader):\n",
    "        feature = data[0][:,:,0:29]#.permute(0,2,1)\n",
    "        #print(feature.shape)\n",
    "        target = data[0][:,:,29:49]\n",
    "        #print(target)\n",
    "        encoder_hidden =(\n",
    "            torch.zeros(feature.shape[0], 16),\n",
    "            torch.zeros(feature.shape[0], 16),\n",
    "        )\n",
    "        \n",
    "        loss = 0\n",
    "        \n",
    "        \n",
    "        for cur_fea in range(feature.shape[2]):\n",
    "            encoder_input = feature[:,:,cur_fea]\n",
    "            #print((encoder_input.shape))\n",
    "            #print(encoder_hidden[0].dtype)\n",
    "            encoder_hidden = encoder(encoder_input.type(torch.FloatTensor), encoder_hidden)\n",
    "        \n",
    "        # Initialize decoder input with last coordinate in encoder\n",
    "        decoder_input = encoder_input[:, :2]\n",
    "        #print(decoder_input.shape)\n",
    "\n",
    "        # Initialize decoder hidden state as encoder hidden state\n",
    "        decoder_hidden = encoder_hidden\n",
    "        decoder_outputs = torch.zeros(target.shape)\n",
    "        \n",
    "        for di in range(20):\n",
    "            decoder_output, decoder_hidden = decoder(decoder_input.type(torch.FloatTensor),\n",
    "                                                     decoder_hidden)\n",
    "            decoder_outputs[:, :, di] = decoder_output\n",
    "\n",
    "            # Update losses for all benchmarks\n",
    "            loss += criterion(decoder_output[:, :], target[:, :, di].type(torch.FloatTensor))\n",
    "            \n",
    "\n",
    "            # Use own predictions as inputs at next step\n",
    "            decoder_input = decoder_output\n",
    "            \n",
    "        \n",
    "        #loss = criterion(decoder_outputs, target.type(torch.FloatTensor))\n",
    "        # Get average loss for pred_len\n",
    "        #loss = (loss/batch_size).type(torch.FloatTensor)\n",
    "        #cur_MSE += loss\n",
    "        #print(loss.dtype)\n",
    "        loss = loss/20\n",
    "        loss_batch+= loss\n",
    "        #print(loss)\n",
    "        loss.backward()\n",
    "        encoder_optimizer.step()\n",
    "        #print(\"decoder\")\n",
    "        decoder_optimizer.step()\n",
    "        #print(decoder_outputs)\n",
    "        #print(target)\n",
    "        #break\n",
    "    #loss_overall.append(cur_MSE)\n",
    "    print(loss_batch/batch_size)    #average loss per batch\n",
    "    loss_overall.append(loss_batch/batch_size)\n",
    "\n",
    "\n",
    "\n"
   ]
  },
  {
   "cell_type": "code",
   "execution_count": 8,
   "id": "9d4dfb1c",
   "metadata": {},
   "outputs": [],
   "source": [
    "torch.save(encoder,'trained_encoder_1129.pth')\n",
    "torch.save(decoder,'trained_decoder_1129.pth')"
   ]
  },
  {
   "cell_type": "markdown",
   "id": "9e6becff-6ef5-4409-9d18-bed18615ea3a",
   "metadata": {},
   "source": [
    "## Print learning curve"
   ]
  },
  {
   "cell_type": "code",
   "execution_count": 9,
   "id": "00ec62b4",
   "metadata": {},
   "outputs": [],
   "source": [
    "\n",
    "for i in range(len(loss_overall)):\n",
    "    loss_overall[i] = loss_overall[i].detach().numpy()\n"
   ]
  },
  {
   "cell_type": "code",
   "execution_count": 10,
   "id": "4cf0ff72",
   "metadata": {},
   "outputs": [
    {
     "name": "stdout",
     "output_type": "stream",
     "text": [
      "[array(4.4679494, dtype=float32), array(2.1656873, dtype=float32), array(1.3509207, dtype=float32), array(1.104406, dtype=float32), array(1.0879691, dtype=float32)]\n"
     ]
    },
    {
     "data": {
      "text/plain": [
       "[<matplotlib.lines.Line2D at 0x2ba619ebdac0>]"
      ]
     },
     "execution_count": 10,
     "metadata": {},
     "output_type": "execute_result"
    },
    {
     "data": {
      "image/png": "[encoded data removed]",
      "text/plain": [
       "<Figure size 432x288 with 1 Axes>"
      ]
     },
     "metadata": {
      "needs_background": "light"
     },
     "output_type": "display_data"
    }
   ],
   "source": [
    "print(loss_overall)\n",
    "plt.plot(loss_overall)\n",
    "    "
   ]
  },
  {
   "cell_type": "code",
   "execution_count": 47,
   "id": "bb124035",
   "metadata": {},
   "outputs": [
    {
     "ename": "NameError",
     "evalue": "name 'end' is not defined",
     "output_type": "error",
     "traceback": [
      "\u001b[0;31m---------------------------------------------------------------------------\u001b[0m",
      "\u001b[0;31mNameError\u001b[0m                                 Traceback (most recent call last)",
      "\u001b[0;32m/scratch/local/52692570/ipykernel_59164/1726692631.py\u001b[0m in \u001b[0;36m<module>\u001b[0;34m\u001b[0m\n\u001b[0;32m----> 1\u001b[0;31m \u001b[0mprint\u001b[0m\u001b[0;34m(\u001b[0m\u001b[0;34m\"training time: \"\u001b[0m\u001b[0;34m,\u001b[0m \u001b[0mend\u001b[0m \u001b[0;34m-\u001b[0m \u001b[0mstart\u001b[0m\u001b[0;34m)\u001b[0m\u001b[0;34m\u001b[0m\u001b[0;34m\u001b[0m\u001b[0m\n\u001b[0m",
      "\u001b[0;31mNameError\u001b[0m: name 'end' is not defined"
     ]
    }
   ],
   "source": [
    "\n",
    "print(\"training time: \", end - start)"
   ]
  },
  {
   "cell_type": "markdown",
   "id": "7aac2817",
   "metadata": {},
   "source": [
    "# Test"
   ]
  },
  {
   "cell_type": "markdown",
   "id": "f1b7ffb8-5010-480f-a996-328be9a01d0e",
   "metadata": {},
   "source": [
    "## test dataset"
   ]
  },
  {
   "cell_type": "code",
   "execution_count": 130,
   "id": "d87972fe-4e37-4e0f-a5fb-1907ec93fd9c",
   "metadata": {},
   "outputs": [],
   "source": [
    "toTensor_sig = torch.tensor(train_data[1:208272:10])\n",
    "test_data_set = TensorDataset(toTensor_sig)"
   ]
  },
  {
   "cell_type": "code",
   "execution_count": 131,
   "id": "197499d1-f1de-4c6e-82de-f1dc46ee9c80",
   "metadata": {},
   "outputs": [],
   "source": [
    "encoder = torch.load(\"trained_encoder_10_downsample.pth\")\n",
    "decoder = torch.load(\"trained_decoder_10_downsample.pth\")"
   ]
  },
  {
   "cell_type": "code",
   "execution_count": 132,
   "id": "9a5f75e6-b2bf-47ce-b14b-25069ac33dd2",
   "metadata": {},
   "outputs": [],
   "source": [
    "te_data_loader = DataLoader(test_data_set,batch_size = batch_size, shuffle = False)"
   ]
  },
  {
   "cell_type": "code",
   "execution_count": 133,
   "id": "9471eaea-c87e-4955-8ef9-465058898f62",
   "metadata": {},
   "outputs": [],
   "source": [
    "predict = []\n",
    "ground_truth = []\n",
    "error = 0"
   ]
  },
  {
   "cell_type": "code",
   "execution_count": 134,
   "id": "27622614-44ed-4cef-9abc-7c12484885b6",
   "metadata": {},
   "outputs": [
    {
     "name": "stdout",
     "output_type": "stream",
     "text": [
      "0\n",
      "1\n",
      "2\n",
      "3\n",
      "4\n",
      "5\n",
      "6\n",
      "7\n",
      "8\n",
      "9\n",
      "10\n",
      "11\n",
      "12\n",
      "13\n",
      "14\n",
      "15\n",
      "16\n",
      "17\n",
      "18\n",
      "19\n",
      "20\n"
     ]
    }
   ],
   "source": [
    "for (idx,data) in enumerate(te_data_loader):\n",
    "        feature = data[0][:,:,0:29]#.permute(0,2,1)\n",
    "        #print(feature.shape)\n",
    "        target = data[0][:,:,29:49]\n",
    "        ground_truth.append(target)\n",
    "        encoder_hidden =(\n",
    "            torch.zeros(feature.shape[0], 16),\n",
    "            torch.zeros(feature.shape[0], 16),\n",
    "        )\n",
    "        \n",
    "        loss = 0\n",
    "        \n",
    "        \n",
    "        for cur_fea in range(feature.shape[2]):\n",
    "            encoder_input = feature[:,:,cur_fea]\n",
    "            #print((encoder_input.shape))\n",
    "            #print(encoder_hidden[0].dtype)\n",
    "            encoder_hidden = encoder(encoder_input.type(torch.FloatTensor), encoder_hidden)\n",
    "        \n",
    "        # Initialize decoder input with last coordinate in encoder\n",
    "        decoder_input = encoder_input[:, :2]\n",
    "\n",
    "        # Initialize decoder hidden state as encoder hidden state\n",
    "        decoder_hidden = encoder_hidden\n",
    "        decoder_outputs = torch.zeros(target.shape)\n",
    "        \n",
    "        for di in range(20):\n",
    "            decoder_output, decoder_hidden = decoder(decoder_input.type(torch.FloatTensor),decoder_hidden)\n",
    "            decoder_outputs[:, :, di] = decoder_output\n",
    "\n",
    "            # Update losses for all benchmarks\n",
    "            loss += criterion(decoder_output[:, :], target[:, :, di].type(torch.FloatTensor))\n",
    "\n",
    "            # Use own predictions as inputs at next step\n",
    "            decoder_input = decoder_output\n",
    "        error += loss\n",
    "        loss = loss / 20\n",
    "        predict.append(decoder_outputs)\n",
    "        print(idx)"
   ]
  },
  {
   "cell_type": "markdown",
   "id": "5b420758-7979-48b2-b9a3-834ecdc1b665",
   "metadata": {},
   "source": [
    "# observe the velocity"
   ]
  },
  {
   "cell_type": "code",
   "execution_count": 135,
   "id": "203edb4c-e2a1-45db-be9c-054f7bb30cc6",
   "metadata": {},
   "outputs": [
    {
     "data": {
      "text/plain": [
       "tensor([[ 1.3971,  1.0320,  1.0837,  1.0908,  1.0918,  1.0919,  1.0920,  1.0920,\n",
       "          1.0920,  1.0920,  1.0920,  1.0920,  1.0920,  1.0920,  1.0920,  1.0920,\n",
       "          1.0920,  1.0920,  1.0920,  1.0920],\n",
       "        [ 9.2632, 10.0748, 10.2747, 10.3023, 10.3060, 10.3065, 10.3066, 10.3066,\n",
       "         10.3066, 10.3066, 10.3066, 10.3066, 10.3066, 10.3066, 10.3066, 10.3066,\n",
       "         10.3066, 10.3066, 10.3066, 10.3066]], grad_fn=<SelectBackward0>)"
      ]
     },
     "execution_count": 135,
     "metadata": {},
     "output_type": "execute_result"
    }
   ],
   "source": [
    "predict[0][3]"
   ]
  },
  {
   "cell_type": "code",
   "execution_count": 136,
   "id": "f5217121-0865-48fe-a0e1-6363fe73bfcd",
   "metadata": {},
   "outputs": [
    {
     "data": {
      "text/plain": [
       "[<matplotlib.lines.Line2D at 0x2ba62d818130>]"
      ]
     },
     "execution_count": 136,
     "metadata": {},
     "output_type": "execute_result"
    },
    {
     "data": {
      "image/png": "[encoded data removed]",
      "text/plain": [
       "<Figure size 432x288 with 1 Axes>"
      ]
     },
     "metadata": {
      "needs_background": "light"
     },
     "output_type": "display_data"
    }
   ],
   "source": [
    "plt.plot(predict[0][3][0].detach().numpy(),predict[0][3][1].detach().numpy())"
   ]
  },
  {
   "cell_type": "code",
   "execution_count": 137,
   "id": "6f51c4e9-fae2-4612-b153-53a1108ddd76",
   "metadata": {},
   "outputs": [
    {
     "data": {
      "text/plain": [
       "tensor([[-0.4152, -0.4039, -0.4054, -0.4543, -0.3499, -0.4574, -0.3950, -0.3786,\n",
       "         -0.4150, -0.4008, -0.4038, -0.3959, -0.3986, -0.4482, -0.4057, -0.4401,\n",
       "         -0.3993, -0.4099, -0.4165, -0.4083],\n",
       "        [10.4431, 10.4902, 10.5210, 12.6421,  8.3810, 12.6110, 10.5605, 10.5814,\n",
       "         10.5987, 10.5776, 10.5935, 10.6567, 10.6054, 11.6653, 10.6246, 11.7575,\n",
       "         10.6129, 10.6362, 10.7001, 10.6295]], dtype=torch.float64)"
      ]
     },
     "execution_count": 137,
     "metadata": {},
     "output_type": "execute_result"
    }
   ],
   "source": [
    "ground_truth[0][3]"
   ]
  },
  {
   "cell_type": "code",
   "execution_count": 138,
   "id": "0f4da1fe-d15c-40ae-b15e-7aa8c92c00d4",
   "metadata": {},
   "outputs": [
    {
     "data": {
      "text/plain": [
       "[<matplotlib.lines.Line2D at 0x2ba62d8514c0>]"
      ]
     },
     "execution_count": 138,
     "metadata": {},
     "output_type": "execute_result"
    },
    {
     "data": {
      "image/png": "[encoded data removed]",
      "text/plain": [
       "<Figure size 432x288 with 1 Axes>"
      ]
     },
     "metadata": {
      "needs_background": "light"
     },
     "output_type": "display_data"
    }
   ],
   "source": [
    "plt.plot(ground_truth[0][3][0].detach().numpy(),ground_truth[0][3][1].detach().numpy())"
   ]
  },
  {
   "cell_type": "code",
   "execution_count": 139,
   "id": "61237fb7-196f-475c-a40e-d7bb66ab5bb6",
   "metadata": {},
   "outputs": [
    {
     "data": {
      "text/plain": [
       "array([[-0.43092714, -0.40919948, -0.46579345, -0.34830359, -0.4873915 ,\n",
       "        -0.38331933, -0.44114487, -0.35705632, -0.44052414, -0.42714435,\n",
       "        -0.4261904 , -0.33040971, -0.42589769, -0.37554081, -0.38198167,\n",
       "        -0.41551529, -0.33244577, -0.40627243, -0.36463625, -0.40802562,\n",
       "        -0.3678185 , -0.39253873, -0.40368555, -0.37223163, -0.43669586,\n",
       "        -0.33824074, -0.38052763, -0.44694556, -0.39436007, -0.41519471,\n",
       "        -0.40391339, -0.40541985, -0.45427652, -0.34992613, -0.45736888,\n",
       "        -0.39496744, -0.37856035, -0.41504027, -0.40081377, -0.40378541,\n",
       "        -0.3959084 , -0.39855564, -0.44817388, -0.40574693, -0.44006053,\n",
       "        -0.39932936, -0.40993389, -0.41649071, -0.40831913],\n",
       "       [11.33739127, 10.6076954 , 11.67378359,  8.52341242, 12.78745879,\n",
       "        10.65806861, 10.64555718,  9.54770107, 11.7072013 , 11.74705716,\n",
       "        10.62764784,  9.57861725, 12.68325366, 10.47061212,  9.40834036,\n",
       "        11.48915245,  9.40711642, 11.45819409, 10.35097262, 11.41129817,\n",
       "        10.36205752, 10.35747136, 11.39670955, 10.37084898, 11.45496097,\n",
       "         8.30141752, 10.41898361, 12.5106956 , 10.43911137, 10.44309518,\n",
       "        10.49018391, 10.52099022, 12.64213243,  8.3809583 , 12.61104663,\n",
       "        10.56051327, 10.58140389, 10.59866479, 10.57756672, 10.59354392,\n",
       "        10.65671512, 10.60544143, 11.66526098, 10.62456823, 11.75745474,\n",
       "        10.61290718, 10.63616591, 10.70007822, 10.62945497]])"
      ]
     },
     "execution_count": 139,
     "metadata": {},
     "output_type": "execute_result"
    }
   ],
   "source": [
    "train_data[31]"
   ]
  },
  {
   "cell_type": "code",
   "execution_count": 140,
   "id": "6a1ac289-c2ff-4dd7-822b-3cc0923407ca",
   "metadata": {},
   "outputs": [
    {
     "data": {
      "text/plain": [
       "tensor([[ 0.0198,  0.1225,  0.1378,  0.1399,  0.1402,  0.1402,  0.1402,  0.1402,\n",
       "          0.1402,  0.1402,  0.1402,  0.1402,  0.1402,  0.1402,  0.1402,  0.1402,\n",
       "          0.1402,  0.1402,  0.1402,  0.1402],\n",
       "        [-0.6814, -0.9319, -0.9705, -0.9759, -0.9766, -0.9767, -0.9767, -0.9767,\n",
       "         -0.9767, -0.9767, -0.9767, -0.9767, -0.9767, -0.9767, -0.9767, -0.9767,\n",
       "         -0.9767, -0.9767, -0.9767, -0.9767]], grad_fn=<SelectBackward0>)"
      ]
     },
     "execution_count": 140,
     "metadata": {},
     "output_type": "execute_result"
    }
   ],
   "source": [
    "predict[0][0]"
   ]
  },
  {
   "cell_type": "code",
   "execution_count": 141,
   "id": "b35b193a-0a54-4529-b48c-714a5da340ab",
   "metadata": {},
   "outputs": [
    {
     "data": {
      "text/plain": [
       "tensor([[ 8.4051e-02,  2.0257e-01,  1.2560e-01, -5.6649e-02, -2.4978e-02,\n",
       "          9.7937e-02,  2.7491e-01,  7.8219e-01,  9.9808e-01,  1.6083e+00,\n",
       "          1.9529e+00,  2.4643e+00,  3.1303e+00,  3.3997e+00,  3.9952e+00,\n",
       "          4.3497e+00,  5.1009e+00,  5.5272e+00,  5.5230e+00,  6.2178e+00],\n",
       "        [ 1.4382e-02,  1.8956e-02,  1.1027e-02,  5.9880e-03,  6.5454e-03,\n",
       "          1.5455e-02,  1.2154e-02,  4.2269e-02,  4.9611e-02,  6.7911e-02,\n",
       "          8.5632e-02,  9.4671e-02,  1.1151e-01,  1.1930e-01,  1.1120e-01,\n",
       "          1.3838e-01,  1.4776e-01,  1.2418e-01,  1.5055e-01,  1.4308e-01]],\n",
       "       dtype=torch.float64)"
      ]
     },
     "execution_count": 141,
     "metadata": {},
     "output_type": "execute_result"
    }
   ],
   "source": [
    "ground_truth[0][0]"
   ]
  },
  {
   "cell_type": "code",
   "execution_count": 142,
   "id": "3e3d9ecf-cb7d-426c-945f-a2ae58a24c6b",
   "metadata": {},
   "outputs": [
    {
     "data": {
      "text/plain": [
       "array([[ 1.18207279e+00,  1.23291415e+00,  1.17795915e+00,\n",
       "         1.30921899e+00,  1.16738404e+00,  1.10513157e+00,\n",
       "         1.25042092e+00,  1.23006751e+00,  1.01515814e+00,\n",
       "         8.49094128e-01,  4.81532938e-01,  1.81027265e-01,\n",
       "        -7.45337933e-02,  1.65495171e-02, -1.14981817e-02,\n",
       "         7.76208708e-02,  1.64696130e-01,  2.37584831e-01,\n",
       "         1.39908452e-01,  1.02707774e-02, -2.24943525e-02,\n",
       "        -1.20445013e-02,  2.45083239e-01,  1.75778503e-01,\n",
       "         5.85503364e-01,  5.68666417e-01,  4.20695486e-01,\n",
       "         6.71579465e-02,  1.26626590e-01,  8.40510857e-02,\n",
       "         2.02567509e-01,  1.25599229e-01, -5.66490938e-02,\n",
       "        -2.49779972e-02,  9.79366408e-02,  2.74910000e-01,\n",
       "         7.82193430e-01,  9.98078697e-01,  1.60825826e+00,\n",
       "         1.95292586e+00,  2.46429915e+00,  3.13034684e+00,\n",
       "         3.39967519e+00,  3.99515984e+00,  4.34965118e+00,\n",
       "         5.10092885e+00,  5.52723596e+00,  5.52303557e+00,\n",
       "         6.21778254e+00],\n",
       "       [ 4.29234075e-02,  4.30167005e-02,  4.90913786e-02,\n",
       "         4.85074329e-02,  4.48042580e-02,  3.70099799e-02,\n",
       "         5.09486575e-02,  4.38930610e-02,  4.22109242e-02,\n",
       "         2.80985007e-02,  1.43248964e-02,  8.62019399e-03,\n",
       "        -9.41825200e-03, -3.24562047e-04, -5.04446789e-03,\n",
       "         2.80692558e-03,  1.09171965e-02,  1.00413747e-02,\n",
       "         7.24797143e-03, -2.71445929e-03, -5.31822438e-04,\n",
       "         1.05519041e-03,  1.53565553e-02,  1.03487322e-02,\n",
       "         3.09283330e-02,  2.54104350e-02,  1.68967205e-02,\n",
       "         1.52671283e-02,  7.44887965e-03,  1.43821209e-02,\n",
       "         1.89557223e-02,  1.10272210e-02,  5.98801941e-03,\n",
       "         6.54537968e-03,  1.54545788e-02,  1.21537976e-02,\n",
       "         4.22690435e-02,  4.96105966e-02,  6.79111959e-02,\n",
       "         8.56323329e-02,  9.46706558e-02,  1.11512562e-01,\n",
       "         1.19301183e-01,  1.11202659e-01,  1.38378605e-01,\n",
       "         1.47755398e-01,  1.24183397e-01,  1.50547568e-01,\n",
       "         1.43077982e-01]])"
      ]
     },
     "execution_count": 142,
     "metadata": {},
     "output_type": "execute_result"
    }
   ],
   "source": [
    "train_data[1]"
   ]
  },
  {
   "cell_type": "code",
   "execution_count": 143,
   "id": "a4e530f1-2336-4fdb-9452-c959eb1d5d07",
   "metadata": {},
   "outputs": [
    {
     "data": {
      "text/plain": [
       "tensor([[-0.3115, -2.2244, -2.7241, -0.6268,  0.0746,  0.1314,  0.1390,  0.1400,\n",
       "          0.1402,  0.1402,  0.1402,  0.1402,  0.1402,  0.1402,  0.1402,  0.1402,\n",
       "          0.1402,  0.1402,  0.1402,  0.1402],\n",
       "        [ 3.3539,  2.4825,  1.1004, -0.8220, -0.8454, -0.9575, -0.9741, -0.9764,\n",
       "         -0.9767, -0.9767, -0.9767, -0.9767, -0.9767, -0.9767, -0.9767, -0.9767,\n",
       "         -0.9767, -0.9767, -0.9767, -0.9767]], grad_fn=<SelectBackward0>)"
      ]
     },
     "execution_count": 143,
     "metadata": {},
     "output_type": "execute_result"
    }
   ],
   "source": [
    "predict[0][1]"
   ]
  },
  {
   "cell_type": "code",
   "execution_count": 144,
   "id": "f6131a49-8c29-496f-b3d6-dfd07f3c4bd7",
   "metadata": {},
   "outputs": [
    {
     "data": {
      "text/plain": [
       "tensor([[-0.2379, -0.3433, -0.4073, -0.5484, -0.5536, -0.6838, -0.6503, -0.6841,\n",
       "         -0.8385, -0.8958, -0.8551, -0.8326, -0.9464, -0.9172, -1.0098, -1.0756,\n",
       "         -0.9437, -1.0905, -1.1195, -1.2676],\n",
       "        [ 4.1898,  3.8349,  3.4911,  4.1029,  3.7444,  4.0212,  3.3661,  3.2537,\n",
       "          3.5040,  3.6749,  3.2714,  2.9488,  3.1032,  2.8970,  2.9478,  3.1314,\n",
       "          2.6402,  2.8422,  2.8445,  3.0327]], dtype=torch.float64)"
      ]
     },
     "execution_count": 144,
     "metadata": {},
     "output_type": "execute_result"
    }
   ],
   "source": [
    "ground_truth[0][1]"
   ]
  },
  {
   "cell_type": "code",
   "execution_count": 145,
   "id": "71ea2028-f26c-4783-850b-29a3a0bb5a43",
   "metadata": {},
   "outputs": [
    {
     "data": {
      "text/plain": [
       "tensor([[ 0.0199,  0.1225,  0.1378,  0.1399,  0.1402,  0.1402,  0.1402,  0.1402,\n",
       "          0.1402,  0.1402,  0.1402,  0.1402,  0.1402,  0.1402,  0.1402,  0.1402,\n",
       "          0.1402,  0.1402,  0.1402,  0.1402],\n",
       "        [-0.6813, -0.9318, -0.9705, -0.9759, -0.9766, -0.9767, -0.9767, -0.9767,\n",
       "         -0.9767, -0.9767, -0.9767, -0.9767, -0.9767, -0.9767, -0.9767, -0.9767,\n",
       "         -0.9767, -0.9767, -0.9767, -0.9767]], grad_fn=<SelectBackward0>)"
      ]
     },
     "execution_count": 145,
     "metadata": {},
     "output_type": "execute_result"
    }
   ],
   "source": [
    "predict[0][2]"
   ]
  },
  {
   "cell_type": "code",
   "execution_count": 146,
   "id": "107d8ff4-2654-4c44-b5a1-ac5b4bbd8297",
   "metadata": {},
   "outputs": [
    {
     "data": {
      "text/plain": [
       "tensor([[ 0.0003,  0.0023,  0.0002,  0.0019,  0.0030,  0.0003, -0.0015,  0.0039,\n",
       "          0.0037,  0.0021,  0.0053,  0.0087,  0.0062,  0.0016,  0.0116,  0.0120,\n",
       "          0.0086,  0.0051,  0.0029,  0.0002],\n",
       "        [-0.0010, -0.0010, -0.0009, -0.0008, -0.0010, -0.0004, -0.0015,  0.0010,\n",
       "         -0.0018,  0.0018, -0.0006,  0.0039,  0.0003,  0.0004, -0.0003,  0.0026,\n",
       "         -0.0014,  0.0026, -0.0009, -0.0001]], dtype=torch.float64)"
      ]
     },
     "execution_count": 146,
     "metadata": {},
     "output_type": "execute_result"
    }
   ],
   "source": [
    "ground_truth[0][2]"
   ]
  },
  {
   "cell_type": "code",
   "execution_count": 147,
   "id": "9465019f-b948-4437-98e9-e19b3ace3366",
   "metadata": {},
   "outputs": [
    {
     "data": {
      "text/plain": [
       "array([[-0.41657421, -0.48759838, -0.43173689, -0.42366938, -0.41262398,\n",
       "        -0.45404134, -0.4134282 , -0.41038345, -0.3955261 , -0.43647969,\n",
       "        -0.38916883, -0.40672038, -0.39928049, -0.42765906, -0.39175846,\n",
       "        -0.38075405, -0.41619621, -0.39117519, -0.36637968, -0.38080115,\n",
       "        -0.35071744, -0.42421778, -0.37304376, -0.33889211, -0.37183087,\n",
       "        -0.36068559, -0.32204872, -0.30787944, -0.30817231, -0.31733483,\n",
       "        -0.31133603, -0.35491394, -0.31730788, -0.33738642, -0.26795437,\n",
       "        -0.29293786, -0.29342042, -0.31703405, -0.29643417, -0.34604471,\n",
       "        -0.26044754, -0.28330388, -0.29368253, -0.29151988, -0.29317796,\n",
       "        -0.29672931, -0.33390541, -0.30287283, -0.34689516],\n",
       "       [11.31789165, 11.66628243, 10.60298908, 10.64382847, 10.60710311,\n",
       "        11.65234993, 10.6337724 , 10.62407457, 10.6092171 , 11.68737544,\n",
       "        10.61496524, 10.63054353, 10.62572303, 11.68735901, 10.57899855,\n",
       "        10.6090932 , 11.67891999, 10.58468463, 10.62202706, 10.60289459,\n",
       "        10.60083496, 11.61320731, 11.69151346,  9.50238369, 10.56767346,\n",
       "        11.64525877, 10.59594836, 10.59864408, 10.61019376, 10.6165008 ,\n",
       "        10.59261671, 11.65487255, 10.60739884, 11.62610748,  9.56755075,\n",
       "        10.57876547, 10.66322412, 11.66257949, 10.59668264, 12.78432328,\n",
       "         9.56002003, 10.59242502, 10.62590686, 10.66273432, 10.59933203,\n",
       "        10.62060265, 11.71346708, 10.58854444, 11.66318455]])"
      ]
     },
     "execution_count": 147,
     "metadata": {},
     "output_type": "execute_result"
    }
   ],
   "source": [
    "train_data[20]"
   ]
  },
  {
   "cell_type": "code",
   "execution_count": 148,
   "id": "53ac8a1e-7e3c-4e83-980a-96dd6338507e",
   "metadata": {},
   "outputs": [
    {
     "data": {
      "text/plain": [
       "tensor([[6.2489, 6.2777, 6.2296, 6.2209, 6.2196, 6.2195, 6.2194, 6.2194, 6.2194,\n",
       "         6.2194, 6.2194, 6.2194, 6.2194, 6.2194, 6.2194, 6.2194, 6.2194, 6.2194,\n",
       "         6.2194, 6.2194],\n",
       "        [3.5430, 5.3784, 5.8100, 5.8748, 5.8838, 5.8850, 5.8851, 5.8851, 5.8852,\n",
       "         5.8852, 5.8852, 5.8852, 5.8852, 5.8852, 5.8852, 5.8852, 5.8852, 5.8852,\n",
       "         5.8852, 5.8852]], grad_fn=<SelectBackward0>)"
      ]
     },
     "execution_count": 148,
     "metadata": {},
     "output_type": "execute_result"
    }
   ],
   "source": [
    "predict[0][10]"
   ]
  },
  {
   "cell_type": "code",
   "execution_count": 149,
   "id": "fe85b9c8-2698-4b94-a116-0d819790be98",
   "metadata": {},
   "outputs": [
    {
     "data": {
      "text/plain": [
       "tensor([[7.8143, 8.6537, 7.8418, 7.8399, 7.8142, 7.8543, 7.8184, 8.6111, 7.8012,\n",
       "         7.7983, 8.5899, 7.7971, 6.2667, 8.5977, 7.7713, 9.3311, 8.4329, 7.5399,\n",
       "         7.4185, 7.9869],\n",
       "        [7.2666, 8.0369, 7.2781, 7.2856, 7.2687, 7.3185, 7.2673, 8.0193, 7.2949,\n",
       "         7.2867, 8.0141, 7.2733, 5.8367, 8.0320, 7.2624, 8.7405, 7.9131, 7.0994,\n",
       "         6.9877, 7.5252]], dtype=torch.float64)"
      ]
     },
     "execution_count": 149,
     "metadata": {},
     "output_type": "execute_result"
    }
   ],
   "source": [
    "ground_truth[0][10]"
   ]
  },
  {
   "cell_type": "code",
   "execution_count": 150,
   "id": "a428ce60-c5e6-4abb-8b15-d05a8948646d",
   "metadata": {},
   "outputs": [
    {
     "data": {
      "text/plain": [
       "tensor([[1.0897, 0.1069, 0.1926, 0.3432, 0.4943, 0.5356, 0.5420, 0.5429, 0.5430,\n",
       "         0.5430, 0.5430, 0.5430, 0.5430, 0.5430, 0.5430, 0.5430, 0.5430, 0.5430,\n",
       "         0.5430, 0.5430],\n",
       "        [4.9751, 5.0603, 5.5001, 6.6609, 7.8536, 8.1787, 8.2288, 8.2357, 8.2367,\n",
       "         8.2368, 8.2368, 8.2368, 8.2368, 8.2368, 8.2368, 8.2368, 8.2368, 8.2368,\n",
       "         8.2368, 8.2368]], grad_fn=<SelectBackward0>)"
      ]
     },
     "execution_count": 150,
     "metadata": {},
     "output_type": "execute_result"
    }
   ],
   "source": [
    "predict[0][15]"
   ]
  },
  {
   "cell_type": "code",
   "execution_count": 151,
   "id": "864f6399-5080-437d-aac6-ebc86a533618",
   "metadata": {},
   "outputs": [
    {
     "data": {
      "text/plain": [
       "tensor([[-0.2090, -0.2101, -0.2113, -0.1905, -0.1941, -0.2129, -0.1919, -0.1820,\n",
       "         -0.2065, -0.1945, -0.2073, -0.2169, -0.1684, -0.2187, -0.1747, -0.1821,\n",
       "         -0.2026, -0.1861, -0.1668, -0.1566],\n",
       "        [ 7.4332,  7.9561,  7.7518,  6.8768,  6.7369,  7.2297,  6.4252,  6.3219,\n",
       "          6.1805,  5.9899,  6.4958,  5.7661,  5.0272,  6.5180,  5.2758,  5.1724,\n",
       "          5.5107,  4.8604,  4.7265,  4.5635]], dtype=torch.float64)"
      ]
     },
     "execution_count": 151,
     "metadata": {},
     "output_type": "execute_result"
    }
   ],
   "source": [
    "ground_truth[0][15]"
   ]
  },
  {
   "cell_type": "code",
   "execution_count": 152,
   "id": "3ac978b5-9202-4db8-8af0-15101b49e516",
   "metadata": {},
   "outputs": [
    {
     "data": {
      "text/plain": [
       "tensor([[6.5380, 6.3327, 6.2374, 6.2219, 6.2198, 6.2195, 6.2194, 6.2194, 6.2194,\n",
       "         6.2194, 6.2194, 6.2194, 6.2194, 6.2194, 6.2194, 6.2194, 6.2194, 6.2194,\n",
       "         6.2194, 6.2194],\n",
       "        [3.8580, 5.4389, 5.8186, 5.8760, 5.8839, 5.8850, 5.8851, 5.8851, 5.8852,\n",
       "         5.8852, 5.8852, 5.8852, 5.8852, 5.8852, 5.8852, 5.8852, 5.8852, 5.8852,\n",
       "         5.8852, 5.8852]], grad_fn=<SelectBackward0>)"
      ]
     },
     "execution_count": 152,
     "metadata": {},
     "output_type": "execute_result"
    }
   ],
   "source": [
    "predict[0][20]"
   ]
  },
  {
   "cell_type": "code",
   "execution_count": 153,
   "id": "2711df3f-f763-400d-915a-011364e1f7f6",
   "metadata": {},
   "outputs": [
    {
     "data": {
      "text/plain": [
       "tensor([[5.6101, 6.0811, 5.4639, 5.4284, 5.4184, 5.4737, 5.5289, 6.1686, 5.6719,\n",
       "         5.7478, 5.7999, 6.5073, 5.9895, 6.0836, 6.1452, 6.1897, 6.8736, 6.3373,\n",
       "         6.3636, 6.4005],\n",
       "        [4.8400, 5.2747, 4.8511, 4.9187, 4.9352, 4.9961, 5.0144, 5.6189, 5.1858,\n",
       "         5.2585, 5.2924, 5.9350, 5.4517, 5.5377, 5.5875, 5.6217, 6.2403, 5.7577,\n",
       "         5.7802, 5.8356]], dtype=torch.float64)"
      ]
     },
     "execution_count": 153,
     "metadata": {},
     "output_type": "execute_result"
    }
   ],
   "source": [
    "ground_truth[0][20]"
   ]
  },
  {
   "cell_type": "code",
   "execution_count": 158,
   "id": "0e6a67ee-33e2-4e13-9090-51715e8ceaa1",
   "metadata": {},
   "outputs": [
    {
     "data": {
      "text/plain": [
       "tensor([[6.5376, 6.3305, 6.2370, 6.2219, 6.2198, 6.2195, 6.2194, 6.2194, 6.2194,\n",
       "         6.2194, 6.2194, 6.2194, 6.2194, 6.2194, 6.2194, 6.2194, 6.2194, 6.2194,\n",
       "         6.2194, 6.2194],\n",
       "        [3.8841, 5.4480, 5.8201, 5.8762, 5.8839, 5.8850, 5.8851, 5.8851, 5.8852,\n",
       "         5.8852, 5.8852, 5.8852, 5.8852, 5.8852, 5.8852, 5.8852, 5.8852, 5.8852,\n",
       "         5.8852, 5.8852]], grad_fn=<SelectBackward0>)"
      ]
     },
     "execution_count": 158,
     "metadata": {},
     "output_type": "execute_result"
    }
   ],
   "source": [
    "predict[0][100]"
   ]
  },
  {
   "cell_type": "code",
   "execution_count": 159,
   "id": "62d76a4a-cee7-4b0a-a1d2-6586f1719125",
   "metadata": {},
   "outputs": [
    {
     "data": {
      "text/plain": [
       "tensor([[5.9856, 6.6249, 6.0847, 6.7895, 6.2350, 6.2879, 6.4043, 7.0926, 6.5557,\n",
       "         6.6164, 7.3638, 8.1818, 8.2293, 8.3770, 7.0608, 7.1258, 7.9332, 7.2958,\n",
       "         7.3716, 7.4274],\n",
       "        [6.3805, 7.1094, 6.5977, 7.3970, 6.8145, 6.9286, 7.0518, 7.8725, 7.2658,\n",
       "         7.3501, 8.1769, 9.1101, 9.1604, 9.3089, 7.8120, 7.8569, 8.7033, 7.9571,\n",
       "         7.9924, 7.9981]], dtype=torch.float64)"
      ]
     },
     "execution_count": 159,
     "metadata": {},
     "output_type": "execute_result"
    }
   ],
   "source": [
    "ground_truth[0][100]"
   ]
  },
  {
   "cell_type": "markdown",
   "id": "39c47940-4d07-4cee-b581-d77db9ffeff3",
   "metadata": {},
   "source": [
    "# Ovserve the predicted trajectory"
   ]
  },
  {
   "cell_type": "code",
   "execution_count": 104,
   "id": "ec785b52-eaa6-4402-8fcf-248f5402d54b",
   "metadata": {},
   "outputs": [],
   "source": [
    "trajectory = np.load(\"train_trajectory.npy\")"
   ]
  },
  {
   "cell_type": "markdown",
   "id": "3fba30d0-8b90-4524-8916-e5fff16ef3da",
   "metadata": {},
   "source": [
    "## 20th test trajectory"
   ]
  },
  {
   "cell_type": "code",
   "execution_count": 296,
   "id": "85660075-cf02-4cd3-baff-40ae326a0ed4",
   "metadata": {},
   "outputs": [],
   "source": [
    "tra_20 = trajectory[1:208272:10][20]"
   ]
  },
  {
   "cell_type": "code",
   "execution_count": 297,
   "id": "64e9f929-7daa-481f-b303-c4700041dc4d",
   "metadata": {},
   "outputs": [
    {
     "data": {
      "text/plain": [
       "[<matplotlib.lines.Line2D at 0x2ba62eed67f0>]"
      ]
     },
     "execution_count": 297,
     "metadata": {},
     "output_type": "execute_result"
    },
    {
     "data": {
      "image/png": "[encoded data removed]",
      "text/plain": [
       "<Figure size 432x288 with 1 Axes>"
      ]
     },
     "metadata": {
      "needs_background": "light"
     },
     "output_type": "display_data"
    }
   ],
   "source": [
    "plt.plot(tra_20[0],tra_20[1])"
   ]
  },
  {
   "cell_type": "code",
   "execution_count": 302,
   "id": "6f78ca3f-be0e-4779-87e1-d548ff0a4424",
   "metadata": {},
   "outputs": [],
   "source": [
    "obs = tra_20[:,0:30]"
   ]
  },
  {
   "cell_type": "code",
   "execution_count": 303,
   "id": "a321f426-224f-4930-8369-5f97df6767bc",
   "metadata": {},
   "outputs": [],
   "source": [
    "pre_tra_20 = np.zeros((2,50))\n",
    "pre_tra_20[:,0:30] = obs"
   ]
  },
  {
   "cell_type": "code",
   "execution_count": 304,
   "id": "1290c157-39b6-4f09-887d-f57fbd5cf864",
   "metadata": {},
   "outputs": [],
   "source": [
    "for i in range(30,50):\n",
    "    pre_tra_20[:,i] = pre_tra_20[:,i-1] + predict[0][20].detach().numpy()[:,i-30]/10"
   ]
  },
  {
   "cell_type": "code",
   "execution_count": 305,
   "id": "e780722d-b34c-4cd8-b926-30a3d04ba7c2",
   "metadata": {},
   "outputs": [
    {
     "data": {
      "text/plain": [
       "<matplotlib.legend.Legend at 0x2ba62e1d8fd0>"
      ]
     },
     "execution_count": 305,
     "metadata": {},
     "output_type": "execute_result"
    },
    {
     "data": {
      "image/png": "[encoded data removed]",
      "text/plain": [
       "<Figure size 432x288 with 1 Axes>"
      ]
     },
     "metadata": {
      "needs_background": "light"
     },
     "output_type": "display_data"
    }
   ],
   "source": [
    "plt.plot(pre_tra_20[0],pre_tra_20[1],label = \"predicted trajectory\")\n",
    "plt.plot(tra_20[0],tra_20[1], label = \"ground truth\")\n",
    "plt.legend()"
   ]
  },
  {
   "cell_type": "markdown",
   "id": "63028154-c78c-4bb5-91ef-6b445d1a0861",
   "metadata": {},
   "source": [
    "# new one"
   ]
  },
  {
   "cell_type": "code",
   "execution_count": 316,
   "id": "35551221-5591-4171-a50c-2055d41cdda7",
   "metadata": {},
   "outputs": [
    {
     "data": {
      "text/plain": [
       "[<matplotlib.lines.Line2D at 0x2ba62f1dc190>]"
      ]
     },
     "execution_count": 316,
     "metadata": {},
     "output_type": "execute_result"
    },
    {
     "data": {
      "image/png": "[encoded data removed]",
      "text/plain": [
       "<Figure size 432x288 with 1 Axes>"
      ]
     },
     "metadata": {
      "needs_background": "light"
     },
     "output_type": "display_data"
    }
   ],
   "source": [
    "tra_20 = trajectory[1:208272:10][50]\n",
    "plt.plot(tra_20[0],tra_20[1])"
   ]
  },
  {
   "cell_type": "code",
   "execution_count": 317,
   "id": "b3daeb8e-3d8d-4935-af07-7165a6a6f1f3",
   "metadata": {},
   "outputs": [
    {
     "data": {
      "text/plain": [
       "tensor([[5.7928, 6.1590, 6.2117, 6.2184, 6.2193, 6.2194, 6.2194, 6.2194, 6.2194,\n",
       "         6.2194, 6.2194, 6.2194, 6.2194, 6.2194, 6.2194, 6.2194, 6.2194, 6.2194,\n",
       "         6.2194, 6.2194],\n",
       "        [2.9726, 5.2167, 5.7850, 5.8714, 5.8833, 5.8849, 5.8851, 5.8851, 5.8852,\n",
       "         5.8852, 5.8852, 5.8852, 5.8852, 5.8852, 5.8852, 5.8852, 5.8852, 5.8852,\n",
       "         5.8852, 5.8852]], grad_fn=<SelectBackward0>)"
      ]
     },
     "execution_count": 317,
     "metadata": {},
     "output_type": "execute_result"
    }
   ],
   "source": [
    "predict[0][50]"
   ]
  },
  {
   "cell_type": "code",
   "execution_count": 318,
   "id": "b470a7a1-3fcc-48ef-86e0-396a9a986223",
   "metadata": {},
   "outputs": [
    {
     "data": {
      "text/plain": [
       "tensor([[9.4896, 8.6230, 9.2560, 8.3362, 8.9395, 8.7660, 7.8633, 7.7422, 7.6074,\n",
       "         7.5355, 7.5221, 7.4763, 8.1592, 7.4236, 8.1405, 7.4935, 7.5216, 7.5422,\n",
       "         8.3468, 7.7094],\n",
       "        [8.4788, 7.6956, 8.2691, 7.4423, 8.0072, 7.7720, 7.0520, 6.9438, 6.8320,\n",
       "         6.7683, 6.7569, 6.7171, 7.3219, 6.6649, 7.3011, 6.6688, 6.7193, 6.7435,\n",
       "         7.4575, 6.8622]], dtype=torch.float64)"
      ]
     },
     "execution_count": 318,
     "metadata": {},
     "output_type": "execute_result"
    }
   ],
   "source": [
    "ground_truth[0][50]"
   ]
  },
  {
   "cell_type": "code",
   "execution_count": 312,
   "id": "93f56f0d-4bcd-4f85-a23a-205aad41918a",
   "metadata": {},
   "outputs": [
    {
     "data": {
      "text/plain": [
       "array([[ 129.25293176,  129.24775346,  129.24751983,  129.24422743,\n",
       "         129.24267349,  129.24239704,  129.24155506,  129.24450654,\n",
       "         129.24469284,  129.24479937,  129.24411059,  129.24322271,\n",
       "         129.23786592,  129.23492512,  129.23094236,  129.22233476,\n",
       "         129.21552237,  129.20766517,  129.19667188,  129.18855056,\n",
       "         129.17786357,  129.16372519,  129.15224716,  129.14144195,\n",
       "         129.12687855,  129.11468202,  129.09477171,  129.0798927 ,\n",
       "         129.06192099,  129.04631894,  129.02676106,  129.01010922,\n",
       "         128.99197764,  128.97678406,  128.95960053,  128.93945509,\n",
       "         128.92305326,  128.9046344 ,  128.88971377,  128.87410813,\n",
       "         128.85526147,  128.83605946,  128.81745407,  128.79849292,\n",
       "         128.78150873,  128.76499939,  128.74500015,  128.72932128,\n",
       "         128.70899372,  128.690735  ],\n",
       "       [3190.20073304, 3190.34421655, 3190.35762613, 3190.39672288,\n",
       "        3190.45456356, 3190.51893388, 3190.56498506, 3190.56561829,\n",
       "        3190.58078879, 3190.60349829, 3190.64610645, 3190.70062705,\n",
       "        3190.78076062, 3190.90171401, 3191.05339537, 3191.21064645,\n",
       "        3191.39941435, 3191.62265717, 3191.84746135, 3192.09923981,\n",
       "        3192.38771871, 3192.67395712, 3193.00275841, 3193.35368565,\n",
       "        3193.73130557, 3194.10904709, 3194.55354479, 3194.97798119,\n",
       "        3195.45119197, 3195.90299123, 3196.39477016, 3196.87085152,\n",
       "        3197.3488596 , 3197.80087931, 3198.29440234, 3198.75999862,\n",
       "        3199.22808372, 3199.69552177, 3200.13081551, 3200.63361388,\n",
       "        3201.06922642, 3201.5660606 , 3202.03396279, 3202.46548776,\n",
       "        3202.89182433, 3203.34722249, 3203.82305128, 3204.23756739,\n",
       "        3204.69370427, 3205.07809659]])"
      ]
     },
     "execution_count": 312,
     "metadata": {},
     "output_type": "execute_result"
    }
   ],
   "source": [
    "tra_20"
   ]
  },
  {
   "cell_type": "code",
   "execution_count": 319,
   "id": "a9e9e50b-99e7-417c-b309-11e680e47aec",
   "metadata": {},
   "outputs": [
    {
     "data": {
      "text/plain": [
       "<matplotlib.legend.Legend at 0x2ba62f22c520>"
      ]
     },
     "execution_count": 319,
     "metadata": {},
     "output_type": "execute_result"
    },
    {
     "data": {
      "image/png": "[encoded data removed]",
      "text/plain": [
       "<Figure size 432x288 with 1 Axes>"
      ]
     },
     "metadata": {
      "needs_background": "light"
     },
     "output_type": "display_data"
    }
   ],
   "source": [
    "obs = tra_20[:,0:30]\n",
    "pre_tra_20 = np.zeros((2,50))\n",
    "pre_tra_20[:,0:30] = obs\n",
    "for i in range(30,50):\n",
    "    pre_tra_20[:,i] = pre_tra_20[:,i-1] + predict[0][50].detach().numpy()[:,i-30]*0.1\n",
    "plt.plot(pre_tra_20[0],pre_tra_20[1],label = \"predicted trajectory\")\n",
    "plt.plot(tra_20[0],tra_20[1], label = \"ground truth\")\n",
    "plt.legend()"
   ]
  },
  {
   "cell_type": "code",
   "execution_count": 320,
   "id": "e464178d-ae70-4451-b74b-c667b1a30163",
   "metadata": {},
   "outputs": [
    {
     "data": {
      "text/plain": [
       "<matplotlib.legend.Legend at 0x2ba62f28feb0>"
      ]
     },
     "execution_count": 320,
     "metadata": {},
     "output_type": "execute_result"
    },
    {
     "data": {
      "image/png": "[encoded data removed]",
      "text/plain": [
       "<Figure size 432x288 with 1 Axes>"
      ]
     },
     "metadata": {
      "needs_background": "light"
     },
     "output_type": "display_data"
    }
   ],
   "source": [
    "obs = tra_20[:,0:30]\n",
    "pre_tra_20 = np.zeros((2,50))\n",
    "pre_tra_20[:,0:30] = obs\n",
    "for i in range(30,50):\n",
    "    pre_tra_20[:,i] = pre_tra_20[:,i-1] + ground_truth[0][50].detach().numpy()[:,i-30]/10\n",
    "plt.plot(pre_tra_20[0],pre_tra_20[1],label = \"computed by ground truth\")\n",
    "plt.plot(tra_20[0],tra_20[1], label = \"ground truth\")\n",
    "plt.legend()"
   ]
  },
  {
   "cell_type": "code",
   "execution_count": 335,
   "id": "8ece588a-b0df-4e87-9411-0ff72a567af6",
   "metadata": {},
   "outputs": [
    {
     "data": {
      "text/plain": [
       "<matplotlib.legend.Legend at 0x2ba62f6d01c0>"
      ]
     },
     "execution_count": 335,
     "metadata": {},
     "output_type": "execute_result"
    },
    {
     "data": {
      "image/png": "[encoded data removed]",
      "text/plain": [
       "<Figure size 432x288 with 1 Axes>"
      ]
     },
     "metadata": {
      "needs_background": "light"
     },
     "output_type": "display_data"
    }
   ],
   "source": [
    "tra_20 = trajectory[1:208272:10][100]\n",
    "#plt.plot(tra_20[0],tra_20[1])\n",
    "\n",
    "obs = tra_20[:,0:30]\n",
    "pre_tra_20 = np.zeros((2,50))\n",
    "pre_tra_20[:,0:30] = obs\n",
    "for i in range(30,50):\n",
    "    pre_tra_20[:,i] = pre_tra_20[:,i-1] + predict[0][100].detach().numpy()[:,i-30]*0.1\n",
    "plt.plot(pre_tra_20[0],pre_tra_20[1],label = \"predicted trajectory\")\n",
    "plt.plot(tra_20[0],tra_20[1], label = \"ground truth\")\n",
    "plt.legend()"
   ]
  },
  {
   "cell_type": "code",
   "execution_count": 328,
   "id": "0b7d4520-02ed-4cd3-bca0-0415d126e6af",
   "metadata": {},
   "outputs": [
    {
     "data": {
      "text/plain": [
       "tensor([[ 1.7623,  1.6462,  1.6423,  1.6428,  1.6429,  1.6430,  1.6430,  1.6430,\n",
       "          1.6430,  1.6430,  1.6430,  1.6430,  1.6435,  1.6470,  1.6728,  1.8509,\n",
       "          2.7179,  4.1108,  4.6356,  4.7243],\n",
       "        [-7.3789, -7.1704, -7.0649, -7.0466, -7.0441, -7.0437, -7.0437, -7.0436,\n",
       "         -7.0436, -7.0436, -7.0437, -7.0437, -7.0440, -7.0465, -7.0644, -7.1879,\n",
       "         -7.7895, -8.7560, -9.1201, -9.1816]], grad_fn=<SelectBackward0>)"
      ]
     },
     "execution_count": 328,
     "metadata": {},
     "output_type": "execute_result"
    }
   ],
   "source": [
    "predict[0][90]"
   ]
  },
  {
   "cell_type": "code",
   "execution_count": 329,
   "id": "4e887520-46ff-43d8-a898-65d504ad770f",
   "metadata": {},
   "outputs": [
    {
     "data": {
      "text/plain": [
       "tensor([[ 6.5590,  7.4326,  7.0611,  7.9971,  8.2938,  7.8223,  8.8152,  9.0059,\n",
       "         10.0636, 10.2690,  9.7423, 10.7545, 11.9184, 10.4385, 11.5614, 10.9153,\n",
       "         14.8459, 11.3128, 12.4820, 11.5950],\n",
       "        [-8.8939, -9.4828, -8.4759, -8.9999, -8.7091, -7.7685, -8.2897, -7.9780,\n",
       "         -8.3906, -8.0615, -7.2325, -7.5941, -7.8936, -6.5562, -6.9740, -6.1312,\n",
       "         -7.8527, -5.6212, -5.8844, -5.1471]], dtype=torch.float64)"
      ]
     },
     "execution_count": 329,
     "metadata": {},
     "output_type": "execute_result"
    }
   ],
   "source": [
    "ground_truth[0][90]"
   ]
  },
  {
   "cell_type": "code",
   "execution_count": 345,
   "id": "c09b266a-f1a4-4001-87b6-1c2dc678918d",
   "metadata": {},
   "outputs": [
    {
     "data": {
      "text/plain": [
       "<matplotlib.legend.Legend at 0x2ba62fa17b50>"
      ]
     },
     "execution_count": 345,
     "metadata": {},
     "output_type": "execute_result"
    },
    {
     "data": {
      "image/png": "[encoded data removed]",
      "text/plain": [
       "<Figure size 432x288 with 1 Axes>"
      ]
     },
     "metadata": {
      "needs_background": "light"
     },
     "output_type": "display_data"
    }
   ],
   "source": [
    "tra_20 = trajectory[1:208272:10][160]\n",
    "#plt.plot(tra_20[0],tra_20[1])\n",
    "\n",
    "obs = tra_20[:,0:30]\n",
    "pre_tra_20 = np.zeros((2,50))\n",
    "pre_tra_20[:,0:30] = obs\n",
    "for i in range(30,50):\n",
    "    pre_tra_20[:,i] = pre_tra_20[:,i-1] + predict[0][160].detach().numpy()[:,i-30]*0.1\n",
    "plt.plot(pre_tra_20[0],pre_tra_20[1],label = \"predicted trajectory\")\n",
    "plt.plot(tra_20[0],tra_20[1], label = \"ground truth\")\n",
    "plt.legend()"
   ]
  },
  {
   "cell_type": "code",
   "execution_count": 337,
   "id": "4c0fbeb4-b1f5-445a-beaf-ca125ae72a7f",
   "metadata": {},
   "outputs": [
    {
     "data": {
      "text/plain": [
       "tensor([[ 9.6544, 10.3085, 10.4812, 10.5043, 10.4834, 10.3135,  9.4513,  7.7165,\n",
       "          6.2221,  5.6332,  5.5269,  5.5118,  5.5097,  5.5095,  5.5094,  5.5094,\n",
       "          5.5094,  5.5094,  5.5094,  5.5094],\n",
       "        [-2.5009, -1.3450, -1.0376, -0.9935, -1.0097, -1.1660, -1.9702, -3.6981,\n",
       "         -5.4147, -6.1319, -6.2628, -6.2813, -6.2839, -6.2842, -6.2843, -6.2843,\n",
       "         -6.2843, -6.2843, -6.2843, -6.2843]], grad_fn=<SelectBackward0>)"
      ]
     },
     "execution_count": 337,
     "metadata": {},
     "output_type": "execute_result"
    }
   ],
   "source": [
    "predict[0][110]"
   ]
  },
  {
   "cell_type": "code",
   "execution_count": 338,
   "id": "d9f9350b-6035-4cf2-9613-b721fe729196",
   "metadata": {},
   "outputs": [
    {
     "data": {
      "text/plain": [
       "tensor([[8.7205, 7.8741, 9.3484, 7.6643, 7.6587, 8.3214, 7.4439, 7.4224, 7.3347,\n",
       "         7.2031, 6.4570, 7.7752, 7.7003, 7.5720, 7.4482, 7.4277, 6.6342, 7.7728,\n",
       "         7.0705, 5.6554],\n",
       "        [0.4279, 0.3997, 0.4724, 0.3938, 0.3908, 0.4182, 0.3789, 0.3685, 0.3643,\n",
       "         0.3511, 0.3161, 0.3887, 0.3705, 0.3584, 0.3541, 0.3514, 0.3106, 0.3593,\n",
       "         0.3189, 0.2503]], dtype=torch.float64)"
      ]
     },
     "execution_count": 338,
     "metadata": {},
     "output_type": "execute_result"
    }
   ],
   "source": [
    "ground_truth[0][110]"
   ]
  },
  {
   "cell_type": "code",
   "execution_count": 349,
   "id": "11385879-e6b2-449f-983d-a0b7d81a718d",
   "metadata": {},
   "outputs": [
    {
     "data": {
      "text/plain": [
       "<matplotlib.legend.Legend at 0x2ba62fbbe1c0>"
      ]
     },
     "execution_count": 349,
     "metadata": {},
     "output_type": "execute_result"
    },
    {
     "data": {
      "image/png": "[encoded data removed]",
      "text/plain": [
       "<Figure size 432x288 with 1 Axes>"
      ]
     },
     "metadata": {
      "needs_background": "light"
     },
     "output_type": "display_data"
    }
   ],
   "source": [
    "tra_20 = trajectory[1:208272:10][200]\n",
    "#plt.plot(tra_20[0],tra_20[1])\n",
    "\n",
    "obs = tra_20[:,0:30]\n",
    "pre_tra_20 = np.zeros((2,50))\n",
    "pre_tra_20[:,0:30] = obs\n",
    "for i in range(30,50):\n",
    "    pre_tra_20[:,i] = pre_tra_20[:,i-1] + predict[0][200].detach().numpy()[:,i-30]*0.1\n",
    "plt.plot(pre_tra_20[0],pre_tra_20[1],label = \"predicted trajectory\")\n",
    "plt.plot(tra_20[0],tra_20[1], label = \"ground truth\")\n",
    "plt.legend()"
   ]
  },
  {
   "cell_type": "markdown",
   "id": "f3c5bb67-b785-48bb-9e88-35bee4f78357",
   "metadata": {},
   "source": [
    "# compute the overall error"
   ]
  },
  {
   "cell_type": "code",
   "execution_count": 113,
   "id": "8f16defd-1992-41e0-b50a-11f6eb0247d4",
   "metadata": {},
   "outputs": [
    {
     "data": {
      "text/plain": [
       "(20828, 2, 50)"
      ]
     },
     "execution_count": 113,
     "metadata": {},
     "output_type": "execute_result"
    }
   ],
   "source": [
    "pre_tra = np.zeros(trajectory[1:208272:10].shape)\n",
    "pre_tra.shape"
   ]
  },
  {
   "cell_type": "code",
   "execution_count": 114,
   "id": "a3fcc4be-8aee-481c-80b4-5539e6ecf494",
   "metadata": {},
   "outputs": [
    {
     "data": {
      "text/plain": [
       "tensor([[[  0.0198,   0.1225,   0.1378,  ...,   0.1402,   0.1402,   0.1402],\n",
       "         [ -0.6814,  -0.9319,  -0.9705,  ...,  -0.9767,  -0.9767,  -0.9767]],\n",
       "\n",
       "        [[ -0.3115,  -2.2244,  -2.7241,  ...,   0.1402,   0.1402,   0.1402],\n",
       "         [  3.3539,   2.4825,   1.1004,  ...,  -0.9767,  -0.9767,  -0.9767]],\n",
       "\n",
       "        [[  0.0199,   0.1225,   0.1378,  ...,   0.1402,   0.1402,   0.1402],\n",
       "         [ -0.6813,  -0.9318,  -0.9705,  ...,  -0.9767,  -0.9767,  -0.9767]],\n",
       "\n",
       "        ...,\n",
       "\n",
       "        [[  6.7267,   6.8898,   6.0551,  ...,   5.5094,   5.5094,   5.5094],\n",
       "         [ -5.1657,  -4.6336,  -5.6065,  ...,  -6.2843,  -6.2843,  -6.2843]],\n",
       "\n",
       "        [[  1.1458,   0.0989,   0.1484,  ...,   0.1563,   0.1563,   0.1563],\n",
       "         [  5.0050,   5.0062,   5.1508,  ...,   5.1735,   5.1735,   5.1735]],\n",
       "\n",
       "        [[  1.0243,   0.1996,  -0.0204,  ...,  -0.0595,  -0.0595,  -0.0595],\n",
       "         [ -8.6990,  -9.7580, -10.0390,  ..., -10.0890, -10.0890, -10.0890]]],\n",
       "       grad_fn=<CopySlices>)"
      ]
     },
     "execution_count": 114,
     "metadata": {},
     "output_type": "execute_result"
    }
   ],
   "source": [
    "predict[0]"
   ]
  },
  {
   "cell_type": "code",
   "execution_count": 115,
   "id": "9fe882e5-37f7-43b7-8e5e-89ed5b894362",
   "metadata": {},
   "outputs": [],
   "source": [
    "pre_tra[:,:,0:30] = trajectory[1:208272:10][:,:,0:30]"
   ]
  },
  {
   "cell_type": "code",
   "execution_count": 117,
   "id": "86dbdd6e-ad28-4ac2-865f-6d0598f98ec6",
   "metadata": {},
   "outputs": [
    {
     "ename": "AttributeError",
     "evalue": "'numpy.ndarray' object has no attribute 'detach'",
     "output_type": "error",
     "traceback": [
      "\u001b[0;31m---------------------------------------------------------------------------\u001b[0m",
      "\u001b[0;31mAttributeError\u001b[0m                            Traceback (most recent call last)",
      "\u001b[0;32m/scratch/local/52692570/ipykernel_81387/2775099247.py\u001b[0m in \u001b[0;36m<module>\u001b[0;34m\u001b[0m\n\u001b[1;32m      1\u001b[0m \u001b[0;32mfor\u001b[0m \u001b[0mi\u001b[0m \u001b[0;32min\u001b[0m \u001b[0mrange\u001b[0m\u001b[0;34m(\u001b[0m\u001b[0mlen\u001b[0m\u001b[0;34m(\u001b[0m\u001b[0mpredict\u001b[0m\u001b[0;34m)\u001b[0m\u001b[0;34m)\u001b[0m\u001b[0;34m:\u001b[0m\u001b[0;34m\u001b[0m\u001b[0;34m\u001b[0m\u001b[0m\n\u001b[0;32m----> 2\u001b[0;31m     \u001b[0mpredict\u001b[0m\u001b[0;34m[\u001b[0m\u001b[0mi\u001b[0m\u001b[0;34m]\u001b[0m \u001b[0;34m=\u001b[0m \u001b[0mpredict\u001b[0m\u001b[0;34m[\u001b[0m\u001b[0mi\u001b[0m\u001b[0;34m]\u001b[0m\u001b[0;34m.\u001b[0m\u001b[0mdetach\u001b[0m\u001b[0;34m(\u001b[0m\u001b[0;34m)\u001b[0m\u001b[0;34m.\u001b[0m\u001b[0mnumpy\u001b[0m\u001b[0;34m(\u001b[0m\u001b[0;34m)\u001b[0m\u001b[0;34m\u001b[0m\u001b[0;34m\u001b[0m\u001b[0m\n\u001b[0m\u001b[1;32m      3\u001b[0m \u001b[0mpredict\u001b[0m\u001b[0;34m\u001b[0m\u001b[0;34m\u001b[0m\u001b[0m\n",
      "\u001b[0;31mAttributeError\u001b[0m: 'numpy.ndarray' object has no attribute 'detach'"
     ]
    }
   ],
   "source": [
    "for i in range(len(predict)):\n",
    "    predict[i] = predict[i].detach().numpy()"
   ]
  },
  {
   "cell_type": "code",
   "execution_count": 122,
   "id": "66a4b395-549c-447f-a1c3-e9084ef489e4",
   "metadata": {},
   "outputs": [
    {
     "name": "stderr",
     "output_type": "stream",
     "text": [
      "/scratch/local/52692570/ipykernel_81387/3932027576.py:1: VisibleDeprecationWarning: Creating an ndarray from ragged nested sequences (which is a list-or-tuple of lists-or-tuples-or ndarrays with different lengths or shapes) is deprecated. If you meant to do this, you must specify 'dtype=object' when creating the ndarray.\n",
      "  predict = np.array(predict)\n"
     ]
    }
   ],
   "source": [
    "predict = np.array(predict)"
   ]
  },
  {
   "cell_type": "code",
   "execution_count": 125,
   "id": "38606f2f-98ff-4217-8538-dbbd88f352be",
   "metadata": {},
   "outputs": [
    {
     "data": {
      "text/plain": [
       "(1000, 2, 20)"
      ]
     },
     "execution_count": 125,
     "metadata": {},
     "output_type": "execute_result"
    }
   ],
   "source": []
  },
  {
   "cell_type": "code",
   "execution_count": null,
   "id": "33deeaf7-4276-4a44-a929-b500102d7f03",
   "metadata": {},
   "outputs": [],
   "source": []
  }
 ],
 "metadata": {
  "kernelspec": {
   "display_name": "Python 3 (ipykernel)",
   "language": "python",
   "name": "python3"
  },
  "language_info": {
   "codemirror_mode": {
    "name": "ipython",
    "version": 3
   },
   "file_extension": ".py",
   "mimetype": "text/x-python",
   "name": "python",
   "nbconvert_exporter": "python",
   "pygments_lexer": "ipython3",
   "version": "3.8.1"
  }
 },
 "nbformat": 4,
 "nbformat_minor": 5
}
