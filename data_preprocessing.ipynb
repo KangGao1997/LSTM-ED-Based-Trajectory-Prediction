{
 "cells": [
  {
   "cell_type": "code",
   "execution_count": 1,
   "id": "0a6a1835-023d-4dd9-8446-957bd550cb87",
   "metadata": {},
   "outputs": [],
   "source": [
    "import pandas as pd\n",
    "import numpy as np\n",
    "import matplotlib.pyplot as plt\n",
    "import os"
   ]
  },
  {
   "cell_type": "code",
   "execution_count": 4,
   "id": "eec474a3-80c3-4302-8fab-f511d43f2fd9",
   "metadata": {},
   "outputs": [
    {
     "name": "stdout",
     "output_type": "stream",
     "text": [
      "the number of trajectory:  208272\n"
     ]
    }
   ],
   "source": [
    "path = \"/home/kang.gao/eel6935/kang.gao/project/train/data/\"\n",
    "\n",
    "dir_list = os.listdir(path)\n",
    "print(\"the number of trajectory: \", len(dir_list))"
   ]
  },
  {
   "cell_type": "code",
   "execution_count": 6,
   "id": "6420db7b-ce7d-460a-8743-49bccc452193",
   "metadata": {},
   "outputs": [],
   "source": [
    "train_trajectory = np.zeros((208272,2,50))"
   ]
  },
  {
   "cell_type": "markdown",
   "id": "c611f4c6-9cbd-4335-a3d8-5b9370ffd35b",
   "metadata": {},
   "source": [
    "## chose agent as target"
   ]
  },
  {
   "cell_type": "code",
   "execution_count": null,
   "id": "9f680954-54b3-4994-920e-cb28c5eba1ea",
   "metadata": {},
   "outputs": [],
   "source": [
    "for i in range(len(dir_list)):\n",
    "\n",
    "    data = pd.read_csv(path+dir_list[i])\n",
    "    av = data.loc[data['OBJECT_TYPE'] == \"AV\"]\n",
    "    train_trajectory[i][0] = av['X']\n",
    "    train_trajectory[i][1] = av['Y']"
   ]
  },
  {
   "cell_type": "code",
   "execution_count": null,
   "id": "7ddda056-b5e9-43d6-9275-29f609721f61",
   "metadata": {},
   "outputs": [],
   "source": [
    "#save\n",
    "\n",
    "np.save(\"train_trajectory\",train_trajectory)"
   ]
  },
  {
   "cell_type": "markdown",
   "id": "b49977f7-9ad0-4436-8235-93767fc5c6fd",
   "metadata": {},
   "source": [
    "## get the velocity value:"
   ]
  },
  {
   "cell_type": "code",
   "execution_count": 1,
   "id": "d908190d-7626-408c-b212-84d27ea967b2",
   "metadata": {},
   "outputs": [
    {
     "ename": "NameError",
     "evalue": "name 'np' is not defined",
     "output_type": "error",
     "traceback": [
      "\u001b[0;31m---------------------------------------------------------------------------\u001b[0m",
      "\u001b[0;31mNameError\u001b[0m                                 Traceback (most recent call last)",
      "\u001b[0;32m/scratch/local/52692570/ipykernel_102394/2266021877.py\u001b[0m in \u001b[0;36m<module>\u001b[0;34m\u001b[0m\n\u001b[0;32m----> 1\u001b[0;31m \u001b[0mtrain_trajectory\u001b[0m \u001b[0;34m=\u001b[0m \u001b[0mnp\u001b[0m\u001b[0;34m.\u001b[0m\u001b[0mload\u001b[0m\u001b[0;34m(\u001b[0m\u001b[0;34m\"train_trajectory.npy\"\u001b[0m\u001b[0;34m)\u001b[0m\u001b[0;34m\u001b[0m\u001b[0;34m\u001b[0m\u001b[0m\n\u001b[0m\u001b[1;32m      2\u001b[0m \u001b[0mtrain_velocity\u001b[0m \u001b[0;34m=\u001b[0m \u001b[0mnp\u001b[0m\u001b[0;34m.\u001b[0m\u001b[0mzeros\u001b[0m\u001b[0;34m(\u001b[0m\u001b[0;34m(\u001b[0m\u001b[0mlen\u001b[0m\u001b[0;34m(\u001b[0m\u001b[0mdir_list\u001b[0m\u001b[0;34m)\u001b[0m\u001b[0;34m,\u001b[0m\u001b[0;36m2\u001b[0m\u001b[0;34m,\u001b[0m\u001b[0;36m49\u001b[0m\u001b[0;34m)\u001b[0m\u001b[0;34m)\u001b[0m\u001b[0;34m\u001b[0m\u001b[0;34m\u001b[0m\u001b[0m\n",
      "\u001b[0;31mNameError\u001b[0m: name 'np' is not defined"
     ]
    }
   ],
   "source": [
    "train_trajectory = np.load(\"train_trajectory.npy\")\n",
    "train_velocity = np.zeros((len(dir_list),2,49))"
   ]
  },
  {
   "cell_type": "code",
   "execution_count": 14,
   "id": "a3c25d2a-d6bf-4836-b083-c0023d07980c",
   "metadata": {},
   "outputs": [],
   "source": [
    "for i in range(1,50):\n",
    "    train_velocity[:,0,i-1] = (train_trajectory[:,0,i] - train_trajectory[:,0,i-1])/(0.1)\n",
    "    train_velocity[:,1,i-1] = (train_trajectory[:,1,i] - train_trajectory[:,1,i-1])/(0.1)"
   ]
  },
  {
   "cell_type": "code",
   "execution_count": 15,
   "id": "eeffdf5e-31b3-4a16-9799-4a8206fd5964",
   "metadata": {},
   "outputs": [],
   "source": [
    "#save\n",
    "\n",
    "np.save(\"train_velocity\",train_velocity)"
   ]
  },
  {
   "cell_type": "code",
   "execution_count": 16,
   "id": "6976d1aa-baae-4052-8995-3b6f1b512546",
   "metadata": {},
   "outputs": [
    {
     "data": {
      "text/plain": [
       "array([[ 5.53585892e-04, -1.01930219e-03,  2.62127833e-05,\n",
       "        -1.79722981e-03,  1.49970828e-03,  2.74147160e-04,\n",
       "         4.08809969e-04,  1.88495554e-03,  1.07178003e-03,\n",
       "         4.53974544e-04,  1.20900968e-03, -1.75124347e-03,\n",
       "         2.65080910e-03, -4.63455558e-04,  1.06065898e-03,\n",
       "         1.97854116e-03,  1.52993680e-03,  2.49696743e-03,\n",
       "         1.74264100e-03,  8.34165789e-04,  4.31576107e-03,\n",
       "         1.33818785e-04,  1.95780757e-03,  5.50508891e-03,\n",
       "         4.30649599e-03,  2.03021540e-03,  4.89649604e-03,\n",
       "         4.89919130e-03,  2.22648459e-04,  2.61325486e-03,\n",
       "         6.52558670e-04,  4.17801105e-03,  4.57300880e-03,\n",
       "         3.15209149e-03, -1.14611654e-03,  1.64631897e-03,\n",
       "         4.87377629e-04, -1.96611765e-03,  2.51560828e-03,\n",
       "         5.15584943e-04, -3.75374371e-03, -2.03025891e-03,\n",
       "         9.51089255e-04, -1.84363227e-03, -1.99066737e-03,\n",
       "        -1.11835290e-03, -1.01662909e-03,  1.28836830e-03,\n",
       "        -2.00104358e-03],\n",
       "       [-1.79003961e-03, -1.42767419e-03, -6.42449351e-03,\n",
       "        -1.87990242e-03, -2.08155463e-03, -2.77480486e-03,\n",
       "        -3.34352433e-04,  1.05129766e-05, -6.51379405e-04,\n",
       "        -1.99640937e-03, -2.47539390e-03, -1.67304430e-03,\n",
       "        -1.68371459e-03, -8.07626504e-04, -3.76335572e-03,\n",
       "        -2.84568741e-04, -3.76453579e-03,  1.48600522e-03,\n",
       "        -4.27281952e-03,  1.57104105e-04, -3.18292683e-03,\n",
       "         1.41217413e-03, -3.47198236e-03,  1.83735543e-03,\n",
       "        -1.79730671e-03,  3.43184051e-04, -2.33601349e-03,\n",
       "        -2.73887689e-03,  2.44307644e-04, -1.75661038e-03,\n",
       "         9.13497458e-04,  2.49565603e-03,  6.01075506e-03,\n",
       "         6.42021816e-04, -4.51876215e-03, -7.51904779e-04,\n",
       "         2.35913867e-04, -1.78626628e-03,  7.26758267e-04,\n",
       "        -1.51598858e-03, -1.42055731e-03, -1.07121583e-03,\n",
       "        -1.52284974e-03, -2.17759373e-03, -1.21255729e-03,\n",
       "        -9.35947769e-04, -2.02578310e-04, -8.52230130e-04,\n",
       "        -9.94359120e-04]])"
      ]
     },
     "execution_count": 16,
     "metadata": {},
     "output_type": "execute_result"
    }
   ],
   "source": [
    "train_velocity[208271,:,:]"
   ]
  },
  {
   "cell_type": "code",
   "execution_count": null,
   "id": "5c7f3d42-af98-4b4c-8873-ab977b7c6a09",
   "metadata": {},
   "outputs": [],
   "source": []
  }
 ],
 "metadata": {
  "kernelspec": {
   "display_name": "Python 3 (ipykernel)",
   "language": "python",
   "name": "python3"
  },
  "language_info": {
   "codemirror_mode": {
    "name": "ipython",
    "version": 3
   },
   "file_extension": ".py",
   "mimetype": "text/x-python",
   "name": "python",
   "nbconvert_exporter": "python",
   "pygments_lexer": "ipython3",
   "version": "3.8.1"
  }
 },
 "nbformat": 4,
 "nbformat_minor": 5
}
