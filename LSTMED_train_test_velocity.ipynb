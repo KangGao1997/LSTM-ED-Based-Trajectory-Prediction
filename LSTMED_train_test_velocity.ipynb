{
 "cells": [
  {
   "cell_type": "code",
   "execution_count": 1,
   "id": "8a47383b",
   "metadata": {},
   "outputs": [],
   "source": [
    "import torch\n",
    "import torch.nn as nn\n",
    "import torch.nn.functional as F\n",
    "from typing import Any\n",
    "\n",
    "import numpy as np\n",
    "from torch.utils.data import DataLoader,TensorDataset\n",
    "import time\n",
    "import matplotlib.pyplot as plt"
   ]
  },
  {
   "cell_type": "code",
   "execution_count": 2,
   "id": "0fb10b2d",
   "metadata": {},
   "outputs": [],
   "source": [
    "class EncoderRNN(nn.Module):\n",
    "    \"\"\"Encoder Network.\"\"\"\n",
    "    def __init__(self,\n",
    "                 input_size: int = 2,\n",
    "                 embedding_size: int = 8,\n",
    "                 hidden_size: int = 16):\n",
    "        \"\"\"Initialize the encoder network.\n",
    "        Args:\n",
    "            input_size: number of features in the input\n",
    "            embedding_size: Embedding size\n",
    "            hidden_size: Hidden size of LSTM\n",
    "        \"\"\"\n",
    "        super(EncoderRNN, self).__init__()\n",
    "        self.hidden_size = hidden_size\n",
    "\n",
    "        self.linear1 = nn.Linear(input_size, embedding_size)\n",
    "        self.lstm1 = nn.LSTMCell(embedding_size, hidden_size)\n",
    "\n",
    "    def forward(self, x: torch.FloatTensor, hidden: Any) -> Any:\n",
    "        \"\"\"Run forward propagation.\n",
    "        Args:\n",
    "            x: input to the network\n",
    "            hidden: initial hidden state\n",
    "        Returns:\n",
    "            hidden: final hidden \n",
    "        \"\"\"\n",
    "        embedded = F.relu(self.linear1(x))\n",
    "        hidden = self.lstm1(embedded, hidden)\n",
    "        return hidden\n"
   ]
  },
  {
   "cell_type": "code",
   "execution_count": 3,
   "id": "66099191",
   "metadata": {},
   "outputs": [],
   "source": [
    "class DecoderRNN(nn.Module):\n",
    "    \"\"\"Decoder Network.\"\"\"\n",
    "    def __init__(self, embedding_size=8, hidden_size=16, output_size=2):\n",
    "        \"\"\"Initialize the decoder network.\n",
    "        Args:\n",
    "            embedding_size: Embedding size\n",
    "            hidden_size: Hidden size of LSTM\n",
    "            output_size: number of features in the output\n",
    "        \"\"\"\n",
    "        super(DecoderRNN, self).__init__()\n",
    "        self.hidden_size = hidden_size\n",
    "\n",
    "        self.linear1 = nn.Linear(output_size, embedding_size)\n",
    "        self.lstm1 = nn.LSTMCell(embedding_size, hidden_size)\n",
    "        self.linear2 = nn.Linear(hidden_size, output_size)\n",
    "\n",
    "    def forward(self, x, hidden):\n",
    "        \"\"\"Run forward propagation.\n",
    "        Args:\n",
    "            x: input to the network\n",
    "            hidden: initial hidden state\n",
    "        Returns:\n",
    "            output: output from lstm\n",
    "            hidden: final hidden state\n",
    "        \"\"\"\n",
    "        embedded = F.relu(self.linear1(x))\n",
    "        hidden = self.lstm1(embedded, hidden)\n",
    "        output = self.linear2(hidden[0])\n",
    "        return output, hidden"
   ]
  },
  {
   "cell_type": "code",
   "execution_count": null,
   "id": "81b469bf",
   "metadata": {},
   "outputs": [],
   "source": []
  },
  {
   "cell_type": "code",
   "execution_count": 4,
   "id": "55643f7b",
   "metadata": {},
   "outputs": [
    {
     "data": {
      "text/plain": [
       "(208272, 2, 49)"
      ]
     },
     "execution_count": 4,
     "metadata": {},
     "output_type": "execute_result"
    }
   ],
   "source": [
    "#train_set = train_set.transpose(0,2,1)\n",
    "#train_target = train_target.transpose(0,2,1)\n",
    "#train_set.shape,train_target.shape\n",
    "\n",
    "train_data = np.load(\"train_velocity.npy\")\n",
    "train_data.shape"
   ]
  },
  {
   "cell_type": "code",
   "execution_count": 5,
   "id": "389f521d",
   "metadata": {},
   "outputs": [],
   "source": [
    "toTensor_sig = torch.tensor(train_data)\n",
    "train_data_set = TensorDataset(toTensor_sig)"
   ]
  },
  {
   "cell_type": "code",
   "execution_count": 6,
   "id": "7cbdceb3",
   "metadata": {},
   "outputs": [],
   "source": [
    "#set up the train parameters\n",
    "batch_size = 1000 #1000 #600 #500\n",
    "epoch = 40\n",
    "lr = 0.01\n",
    "\n",
    "encoder = EncoderRNN()\n",
    "decoder = DecoderRNN()\n",
    "criterion = nn.MSELoss()\n",
    "encoder_optimizer = torch.optim.Adam(encoder.parameters(), lr=lr)\n",
    "decoder_optimizer = torch.optim.Adam(decoder.parameters(), lr=lr)\n",
    "tr_data_loader = DataLoader(train_data_set,batch_size = batch_size, shuffle = True)\n",
    "loss_overall = []"
   ]
  },
  {
   "cell_type": "code",
   "execution_count": 59,
   "id": "83d33685",
   "metadata": {},
   "outputs": [
    {
     "name": "stdout",
     "output_type": "stream",
     "text": [
      "============================================\n",
      "epoch:  1\n",
      "tensor(0.3212, grad_fn=<DivBackward0>)\n",
      "============================================\n",
      "epoch:  2\n",
      "tensor(0.3222, grad_fn=<DivBackward0>)\n",
      "============================================\n",
      "epoch:  3\n",
      "tensor(0.3211, grad_fn=<DivBackward0>)\n",
      "============================================\n",
      "epoch:  4\n",
      "tensor(0.3206, grad_fn=<DivBackward0>)\n",
      "============================================\n",
      "epoch:  5\n",
      "tensor(0.3207, grad_fn=<DivBackward0>)\n",
      "============================================\n",
      "epoch:  6\n",
      "tensor(0.3201, grad_fn=<DivBackward0>)\n",
      "============================================\n",
      "epoch:  7\n",
      "tensor(0.3191, grad_fn=<DivBackward0>)\n",
      "============================================\n",
      "epoch:  8\n",
      "tensor(0.3194, grad_fn=<DivBackward0>)\n",
      "============================================\n",
      "epoch:  9\n",
      "tensor(0.3188, grad_fn=<DivBackward0>)\n",
      "============================================\n",
      "epoch:  10\n",
      "tensor(0.3186, grad_fn=<DivBackward0>)\n",
      "============================================\n",
      "epoch:  11\n",
      "tensor(0.3183, grad_fn=<DivBackward0>)\n",
      "============================================\n",
      "epoch:  12\n",
      "tensor(0.3182, grad_fn=<DivBackward0>)\n",
      "============================================\n",
      "epoch:  13\n",
      "tensor(0.3173, grad_fn=<DivBackward0>)\n",
      "============================================\n",
      "epoch:  14\n",
      "tensor(0.3169, grad_fn=<DivBackward0>)\n",
      "============================================\n",
      "epoch:  15\n",
      "tensor(0.3166, grad_fn=<DivBackward0>)\n",
      "============================================\n",
      "epoch:  16\n",
      "tensor(0.3165, grad_fn=<DivBackward0>)\n",
      "============================================\n",
      "epoch:  17\n",
      "tensor(0.3160, grad_fn=<DivBackward0>)\n",
      "============================================\n",
      "epoch:  18\n",
      "tensor(0.3160, grad_fn=<DivBackward0>)\n",
      "============================================\n",
      "epoch:  19\n",
      "tensor(0.3152, grad_fn=<DivBackward0>)\n",
      "============================================\n",
      "epoch:  20\n",
      "tensor(0.3152, grad_fn=<DivBackward0>)\n"
     ]
    }
   ],
   "source": [
    "\n",
    "start = time.time()\n",
    "\n",
    "for i in range(20):\n",
    "    print(\"============================================\")\n",
    "    print(\"epoch: \", i+1)\n",
    "    loss_batch = 0\n",
    "    cur_MSE = 0\n",
    "    for (idx,data) in enumerate(tr_data_loader):\n",
    "        feature = data[0][:,:,0:19]#.permute(0,2,1)\n",
    "        #print(feature.shape)\n",
    "        target = data[0][:,:,19:49]\n",
    "        \n",
    "        encoder.train()\n",
    "        decoder.train()\n",
    "        \n",
    "        encoder_optimizer.zero_grad()\n",
    "        decoder_optimizer.zero_grad()\n",
    "        \n",
    "        #print(target)\n",
    "        encoder_hidden =(\n",
    "            torch.zeros(feature.shape[0], 16),\n",
    "            torch.zeros(feature.shape[0], 16),\n",
    "        )\n",
    "        \n",
    "        loss = 0\n",
    "        \n",
    "        \n",
    "        for cur_fea in range(feature.shape[2]):\n",
    "            encoder_input = feature[:,:,cur_fea]\n",
    "            #print((encoder_input.shape))\n",
    "            #print(encoder_hidden[0].dtype)\n",
    "            encoder_hidden = encoder(encoder_input.type(torch.FloatTensor), encoder_hidden)\n",
    "        \n",
    "        # Initialize decoder input with last coordinate in encoder\n",
    "        decoder_input = encoder_input[:, :2]\n",
    "        #print(decoder_input.shape)\n",
    "\n",
    "        # Initialize decoder hidden state as encoder hidden state\n",
    "        decoder_hidden = encoder_hidden\n",
    "        decoder_outputs = torch.zeros(target.shape)\n",
    "        \n",
    "        for di in range(30):\n",
    "            decoder_output, decoder_hidden = decoder(decoder_input.type(torch.FloatTensor),\n",
    "                                                     decoder_hidden)\n",
    "            decoder_outputs[:, :, di] = decoder_output\n",
    "\n",
    "            # Update losses for all benchmarks\n",
    "            loss += criterion(decoder_output[:, :], target[:, :, di].type(torch.FloatTensor))\n",
    "            \n",
    "\n",
    "            # Use own predictions as inputs at next step\n",
    "            decoder_input = decoder_output\n",
    "            \n",
    "        \n",
    "        #loss = criterion(decoder_outputs, target.type(torch.FloatTensor))\n",
    "        # Get average loss for pred_len\n",
    "        #loss = (loss/batch_size).type(torch.FloatTensor)\n",
    "        #cur_MSE += loss\n",
    "        #print(loss.dtype)\n",
    "        loss = loss/30\n",
    "        loss_batch+= loss\n",
    "        #print(loss)\n",
    "        loss.backward()\n",
    "        encoder_optimizer.step()\n",
    "        #print(\"decoder\")\n",
    "        decoder_optimizer.step()\n",
    "        #print(decoder_outputs)\n",
    "        #print(target)\n",
    "        #break\n",
    "    #loss_overall.append(cur_MSE)\n",
    "    lr = lr*0.95\n",
    "    encoder_optimizer = torch.optim.Adam(encoder.parameters(), lr=lr)\n",
    "    decoder_optimizer = torch.optim.Adam(decoder.parameters(), lr=lr)\n",
    "    print(loss_batch/batch_size)    #average loss per batch\n",
    "    loss_overall.append(loss_batch/batch_size)\n",
    "\n",
    "end = time.time()\n",
    "\n",
    "\n"
   ]
  },
  {
   "cell_type": "code",
   "execution_count": 8,
   "id": "2682424e",
   "metadata": {},
   "outputs": [
    {
     "name": "stdout",
     "output_type": "stream",
     "text": [
      "training time:  631.4254081249237\n"
     ]
    }
   ],
   "source": [
    "print(\"training time: \", end - start)"
   ]
  },
  {
   "cell_type": "code",
   "execution_count": 60,
   "id": "9d4dfb1c",
   "metadata": {},
   "outputs": [],
   "source": [
    "torch.save(encoder,'trained_encoder_1204_20.pth')\n",
    "torch.save(decoder,'trained_decoder_1204_20.pth')"
   ]
  },
  {
   "cell_type": "markdown",
   "id": "9e6becff-6ef5-4409-9d18-bed18615ea3a",
   "metadata": {},
   "source": [
    "## Print learning curve"
   ]
  },
  {
   "cell_type": "code",
   "execution_count": 61,
   "id": "00ec62b4",
   "metadata": {},
   "outputs": [
    {
     "ename": "AttributeError",
     "evalue": "'numpy.ndarray' object has no attribute 'detach'",
     "output_type": "error",
     "traceback": [
      "\u001b[0;31m---------------------------------------------------------------------------\u001b[0m",
      "\u001b[0;31mAttributeError\u001b[0m                            Traceback (most recent call last)",
      "\u001b[0;32m<ipython-input-61-a9a28d2bccaa>\u001b[0m in \u001b[0;36m<module>\u001b[0;34m\u001b[0m\n\u001b[1;32m      1\u001b[0m \u001b[0;32mfor\u001b[0m \u001b[0mi\u001b[0m \u001b[0;32min\u001b[0m \u001b[0mrange\u001b[0m\u001b[0;34m(\u001b[0m\u001b[0mlen\u001b[0m\u001b[0;34m(\u001b[0m\u001b[0mloss_overall\u001b[0m\u001b[0;34m)\u001b[0m\u001b[0;34m)\u001b[0m\u001b[0;34m:\u001b[0m\u001b[0;34m\u001b[0m\u001b[0;34m\u001b[0m\u001b[0m\n\u001b[0;32m----> 2\u001b[0;31m     \u001b[0mloss_overall\u001b[0m\u001b[0;34m[\u001b[0m\u001b[0mi\u001b[0m\u001b[0;34m]\u001b[0m \u001b[0;34m=\u001b[0m \u001b[0mloss_overall\u001b[0m\u001b[0;34m[\u001b[0m\u001b[0mi\u001b[0m\u001b[0;34m]\u001b[0m\u001b[0;34m.\u001b[0m\u001b[0mdetach\u001b[0m\u001b[0;34m(\u001b[0m\u001b[0;34m)\u001b[0m\u001b[0;34m.\u001b[0m\u001b[0mnumpy\u001b[0m\u001b[0;34m(\u001b[0m\u001b[0;34m)\u001b[0m\u001b[0;34m\u001b[0m\u001b[0;34m\u001b[0m\u001b[0m\n\u001b[0m",
      "\u001b[0;31mAttributeError\u001b[0m: 'numpy.ndarray' object has no attribute 'detach'"
     ]
    }
   ],
   "source": [
    "\n",
    "for i in range(len(loss_overall)):\n",
    "    loss_overall[i] = loss_overall[i].detach().numpy()\n"
   ]
  },
  {
   "cell_type": "code",
   "execution_count": 62,
   "id": "4cf0ff72",
   "metadata": {},
   "outputs": [
    {
     "name": "stdout",
     "output_type": "stream",
     "text": [
      "[array(2.0734725, dtype=float32), array(0.71824557, dtype=float32), array(0.54941624, dtype=float32), array(0.47815752, dtype=float32), array(0.44932774, dtype=float32), array(0.44196665, dtype=float32), array(0.41555315, dtype=float32), array(0.411501, dtype=float32), array(0.40277034, dtype=float32), array(0.4001226, dtype=float32), array(0.387788, dtype=float32), array(0.3803645, dtype=float32), array(0.3761935, dtype=float32), array(0.3746017, dtype=float32), array(0.36409134, dtype=float32), array(0.36078852, dtype=float32), array(0.35960364, dtype=float32), array(0.35576883, dtype=float32), array(0.35299125, dtype=float32), array(0.348497, dtype=float32), array(0.34557754, dtype=float32), array(0.344501, dtype=float32), array(0.34068924, dtype=float32), array(0.33925557, dtype=float32), array(0.33907682, dtype=float32), array(0.33670875, dtype=float32), array(0.33515802, dtype=float32), array(0.33336607, dtype=float32), array(0.3319897, dtype=float32), array(0.33329755, dtype=float32), array(0.331492, dtype=float32), array(0.32875422, dtype=float32), array(0.32793248, dtype=float32), array(0.32712063, dtype=float32), array(0.3267022, dtype=float32), array(0.32570708, dtype=float32), array(0.32451758, dtype=float32), array(0.3235976, dtype=float32), array(0.32347465, dtype=float32), array(0.3229368, dtype=float32), tensor(0.3212, grad_fn=<DivBackward0>), tensor(0.3222, grad_fn=<DivBackward0>), tensor(0.3211, grad_fn=<DivBackward0>), tensor(0.3206, grad_fn=<DivBackward0>), tensor(0.3207, grad_fn=<DivBackward0>), tensor(0.3201, grad_fn=<DivBackward0>), tensor(0.3191, grad_fn=<DivBackward0>), tensor(0.3194, grad_fn=<DivBackward0>), tensor(0.3188, grad_fn=<DivBackward0>), tensor(0.3186, grad_fn=<DivBackward0>), tensor(0.3183, grad_fn=<DivBackward0>), tensor(0.3182, grad_fn=<DivBackward0>), tensor(0.3173, grad_fn=<DivBackward0>), tensor(0.3169, grad_fn=<DivBackward0>), tensor(0.3166, grad_fn=<DivBackward0>), tensor(0.3165, grad_fn=<DivBackward0>), tensor(0.3160, grad_fn=<DivBackward0>), tensor(0.3160, grad_fn=<DivBackward0>), tensor(0.3152, grad_fn=<DivBackward0>), tensor(0.3152, grad_fn=<DivBackward0>)]\n"
     ]
    },
    {
     "data": {
      "text/plain": [
       "[<matplotlib.lines.Line2D at 0x7fdf2edcaee0>]"
      ]
     },
     "execution_count": 62,
     "metadata": {},
     "output_type": "execute_result"
    },
    {
     "data": {
      "image/png": "[encoded data removed]",
      "text/plain": [
       "<Figure size 432x288 with 1 Axes>"
      ]
     },
     "metadata": {
      "needs_background": "light"
     },
     "output_type": "display_data"
    }
   ],
   "source": [
    "print(loss_overall)\n",
    "plt.plot(loss_overall)\n",
    "    "
   ]
  },
  {
   "cell_type": "markdown",
   "id": "7aac2817",
   "metadata": {},
   "source": [
    "# Test"
   ]
  },
  {
   "cell_type": "markdown",
   "id": "f1b7ffb8-5010-480f-a996-328be9a01d0e",
   "metadata": {},
   "source": [
    "## test dataset"
   ]
  },
  {
   "cell_type": "code",
   "execution_count": 7,
   "id": "d87972fe-4e37-4e0f-a5fb-1907ec93fd9c",
   "metadata": {},
   "outputs": [],
   "source": [
    "toTensor_sig = torch.tensor(train_data)\n",
    "test_data_set = TensorDataset(toTensor_sig)"
   ]
  },
  {
   "cell_type": "code",
   "execution_count": 8,
   "id": "197499d1-f1de-4c6e-82de-f1dc46ee9c80",
   "metadata": {},
   "outputs": [],
   "source": [
    "encoder = torch.load(\"trained_encoder_1204_20.pth\")\n",
    "decoder = torch.load(\"trained_decoder_1204_20.pth\")"
   ]
  },
  {
   "cell_type": "code",
   "execution_count": 9,
   "id": "9a5f75e6-b2bf-47ce-b14b-25069ac33dd2",
   "metadata": {},
   "outputs": [],
   "source": [
    "te_data_loader = DataLoader(test_data_set,batch_size = batch_size, shuffle = False)"
   ]
  },
  {
   "cell_type": "code",
   "execution_count": 10,
   "id": "9471eaea-c87e-4955-8ef9-465058898f62",
   "metadata": {},
   "outputs": [],
   "source": [
    "predict = []\n",
    "ground_truth = []\n",
    "error = 0"
   ]
  },
  {
   "cell_type": "code",
   "execution_count": 11,
   "id": "27622614-44ed-4cef-9abc-7c12484885b6",
   "metadata": {},
   "outputs": [
    {
     "name": "stdout",
     "output_type": "stream",
     "text": [
      "0\n",
      "1\n",
      "2\n",
      "3\n",
      "4\n",
      "5\n",
      "6\n",
      "7\n",
      "8\n",
      "9\n",
      "10\n",
      "11\n",
      "12\n",
      "13\n",
      "14\n",
      "15\n",
      "16\n",
      "17\n",
      "18\n",
      "19\n",
      "20\n",
      "21\n",
      "22\n",
      "23\n",
      "24\n",
      "25\n",
      "26\n",
      "27\n",
      "28\n",
      "29\n",
      "30\n",
      "31\n",
      "32\n",
      "33\n",
      "34\n",
      "35\n",
      "36\n",
      "37\n",
      "38\n",
      "39\n",
      "40\n",
      "41\n",
      "42\n",
      "43\n",
      "44\n",
      "45\n",
      "46\n",
      "47\n",
      "48\n",
      "49\n",
      "50\n",
      "51\n",
      "52\n",
      "53\n",
      "54\n",
      "55\n",
      "56\n",
      "57\n",
      "58\n",
      "59\n",
      "60\n",
      "61\n",
      "62\n",
      "63\n",
      "64\n",
      "65\n",
      "66\n",
      "67\n",
      "68\n",
      "69\n",
      "70\n",
      "71\n",
      "72\n",
      "73\n",
      "74\n",
      "75\n",
      "76\n",
      "77\n",
      "78\n",
      "79\n",
      "80\n",
      "81\n",
      "82\n",
      "83\n",
      "84\n",
      "85\n",
      "86\n",
      "87\n",
      "88\n",
      "89\n",
      "90\n",
      "91\n",
      "92\n",
      "93\n",
      "94\n",
      "95\n",
      "96\n",
      "97\n",
      "98\n",
      "99\n",
      "100\n",
      "101\n",
      "102\n",
      "103\n",
      "104\n",
      "105\n",
      "106\n",
      "107\n",
      "108\n",
      "109\n",
      "110\n",
      "111\n",
      "112\n",
      "113\n",
      "114\n",
      "115\n",
      "116\n",
      "117\n",
      "118\n",
      "119\n",
      "120\n",
      "121\n",
      "122\n",
      "123\n",
      "124\n",
      "125\n",
      "126\n",
      "127\n",
      "128\n",
      "129\n",
      "130\n",
      "131\n",
      "132\n",
      "133\n",
      "134\n",
      "135\n",
      "136\n",
      "137\n",
      "138\n",
      "139\n",
      "140\n",
      "141\n",
      "142\n",
      "143\n",
      "144\n",
      "145\n",
      "146\n",
      "147\n",
      "148\n",
      "149\n",
      "150\n",
      "151\n",
      "152\n",
      "153\n",
      "154\n",
      "155\n",
      "156\n",
      "157\n",
      "158\n",
      "159\n",
      "160\n",
      "161\n",
      "162\n",
      "163\n",
      "164\n",
      "165\n",
      "166\n",
      "167\n",
      "168\n",
      "169\n",
      "170\n",
      "171\n",
      "172\n",
      "173\n",
      "174\n",
      "175\n",
      "176\n",
      "177\n",
      "178\n",
      "179\n",
      "180\n",
      "181\n",
      "182\n",
      "183\n",
      "184\n",
      "185\n",
      "186\n",
      "187\n",
      "188\n",
      "189\n",
      "190\n",
      "191\n",
      "192\n",
      "193\n",
      "194\n",
      "195\n",
      "196\n",
      "197\n",
      "198\n",
      "199\n",
      "200\n",
      "201\n",
      "202\n",
      "203\n",
      "204\n",
      "205\n",
      "206\n",
      "207\n",
      "208\n"
     ]
    }
   ],
   "source": [
    "for (idx,data) in enumerate(te_data_loader):\n",
    "        feature = data[0][:,:,0:19]#.permute(0,2,1)\n",
    "        #print(feature.shape)\n",
    "        target = data[0][:,:,19:49]\n",
    "        ground_truth.append(target)\n",
    "        encoder_hidden =(\n",
    "            torch.zeros(feature.shape[0], 16),\n",
    "            torch.zeros(feature.shape[0], 16),\n",
    "        )\n",
    "        \n",
    "        loss = 0\n",
    "        \n",
    "        \n",
    "        for cur_fea in range(feature.shape[2]):\n",
    "            encoder_input = feature[:,:,cur_fea]\n",
    "            #print((encoder_input.shape))\n",
    "            #print(encoder_hidden[0].dtype)\n",
    "            encoder_hidden = encoder(encoder_input.type(torch.FloatTensor), encoder_hidden)\n",
    "        \n",
    "        # Initialize decoder input with last coordinate in encoder\n",
    "        decoder_input = encoder_input[:, :2]\n",
    "\n",
    "        # Initialize decoder hidden state as encoder hidden state\n",
    "        decoder_hidden = encoder_hidden\n",
    "        decoder_outputs = torch.zeros(target.shape)\n",
    "        \n",
    "        for di in range(30):\n",
    "            decoder_output, decoder_hidden = decoder(decoder_input.type(torch.FloatTensor),decoder_hidden)\n",
    "            decoder_outputs[:, :, di] = decoder_output\n",
    "\n",
    "            # Update losses for all benchmarks\n",
    "            loss += criterion(decoder_output[:, :], target[:, :, di].type(torch.FloatTensor))\n",
    "\n",
    "            # Use own predictions as inputs at next step\n",
    "            decoder_input = decoder_output\n",
    "        error += loss\n",
    "        loss = loss / 20\n",
    "        predict.append(decoder_outputs)\n",
    "        print(idx)"
   ]
  },
  {
   "cell_type": "markdown",
   "id": "39c47940-4d07-4cee-b581-d77db9ffeff3",
   "metadata": {},
   "source": [
    "# Test"
   ]
  },
  {
   "cell_type": "code",
   "execution_count": 12,
   "id": "ec785b52-eaa6-4402-8fcf-248f5402d54b",
   "metadata": {},
   "outputs": [],
   "source": [
    "trajectory = np.load(\"train_trajectory.npy\")"
   ]
  },
  {
   "cell_type": "code",
   "execution_count": 13,
   "id": "33deeaf7-4276-4a44-a929-b500102d7f03",
   "metadata": {},
   "outputs": [
    {
     "data": {
      "text/plain": [
       "209"
      ]
     },
     "execution_count": 13,
     "metadata": {},
     "output_type": "execute_result"
    }
   ],
   "source": [
    "len(predict)"
   ]
  },
  {
   "cell_type": "code",
   "execution_count": 14,
   "id": "d508bf21-7884-4239-81dc-bd814395d999",
   "metadata": {},
   "outputs": [
    {
     "data": {
      "text/plain": [
       "1000"
      ]
     },
     "execution_count": 14,
     "metadata": {},
     "output_type": "execute_result"
    }
   ],
   "source": [
    "predict[0].size()[0]"
   ]
  },
  {
   "cell_type": "code",
   "execution_count": 15,
   "id": "3c7ad3b6-5f0a-4273-b016-4663b75575e4",
   "metadata": {},
   "outputs": [],
   "source": [
    "test = train_data"
   ]
  },
  {
   "cell_type": "code",
   "execution_count": 16,
   "id": "b73225d4-ecba-4833-b0a2-f3d004e94eab",
   "metadata": {},
   "outputs": [
    {
     "data": {
      "text/plain": [
       "(208272, 2, 30)"
      ]
     },
     "execution_count": 16,
     "metadata": {},
     "output_type": "execute_result"
    }
   ],
   "source": [
    "results = np.zeros((test.shape[0],2,30))\n",
    "results.shape"
   ]
  },
  {
   "cell_type": "code",
   "execution_count": 17,
   "id": "44e23711-682b-4fe3-a3d1-52c47307cbc4",
   "metadata": {},
   "outputs": [],
   "source": [
    "for i in range(len(predict)):\n",
    "    for j in range(predict[i].size()[0]):\n",
    "        results[i*1000+j] = predict[i][j].detach().numpy()"
   ]
  },
  {
   "cell_type": "code",
   "execution_count": 18,
   "id": "c5718ff2-54ce-48bf-9863-33c72d348181",
   "metadata": {},
   "outputs": [
    {
     "data": {
      "text/plain": [
       "tensor([[[ 8.9738e-01,  8.5654e-01,  7.9869e-01,  ...,  5.8759e-01,\n",
       "           5.8046e-01,  5.7316e-01],\n",
       "         [-8.5809e+00, -8.5057e+00, -8.6447e+00,  ..., -9.4804e+00,\n",
       "          -9.4653e+00, -9.4488e+00]],\n",
       "\n",
       "        [[ 4.2054e-01,  4.3225e-01,  4.5777e-01,  ...,  3.0332e+00,\n",
       "           3.1030e+00,  3.1547e+00],\n",
       "         [ 2.3995e-01,  2.9924e-01,  3.8943e-01,  ...,  2.0139e+00,\n",
       "           2.1137e+00,  2.2029e+00]],\n",
       "\n",
       "        [[ 9.4679e+00,  9.7695e+00,  9.8423e+00,  ...,  8.8557e+00,\n",
       "           8.8232e+00,  8.7897e+00],\n",
       "         [ 8.2156e+00,  8.3461e+00,  8.5359e+00,  ...,  8.1195e+00,\n",
       "           8.1035e+00,  8.0863e+00]],\n",
       "\n",
       "        ...,\n",
       "\n",
       "        [[ 8.1152e-02,  9.6414e-02,  7.3588e-02,  ...,  2.3893e-01,\n",
       "           2.5205e-01,  2.6933e-01],\n",
       "         [-1.2155e-02,  3.4838e-03,  5.0507e-02,  ...,  1.2454e-01,\n",
       "           1.3483e-01,  1.5430e-01]],\n",
       "\n",
       "        [[ 6.1188e-02,  7.7812e-02,  5.4613e-02,  ...,  3.2387e-01,\n",
       "           3.5633e-01,  3.9001e-01],\n",
       "         [ 2.7943e-02,  2.0025e-02,  7.5501e-02,  ...,  2.5166e-01,\n",
       "           2.9654e-01,  3.4432e-01]],\n",
       "\n",
       "        [[ 1.4863e-01,  1.7793e-01,  1.5584e-01,  ...,  8.1919e-02,\n",
       "           7.4660e-02,  6.7308e-02],\n",
       "         [ 9.0295e-01,  7.4605e-01,  7.6748e-01,  ...,  5.3768e-01,\n",
       "           5.4263e-01,  5.4759e-01]]], grad_fn=<CopySlices>)"
      ]
     },
     "execution_count": 18,
     "metadata": {},
     "output_type": "execute_result"
    }
   ],
   "source": [
    "predict[0]"
   ]
  },
  {
   "cell_type": "code",
   "execution_count": 19,
   "id": "025154fa-2d6a-4424-a8b5-aa6c5946ffa3",
   "metadata": {},
   "outputs": [
    {
     "data": {
      "text/plain": [
       "(208272, 2, 50)"
      ]
     },
     "execution_count": 19,
     "metadata": {},
     "output_type": "execute_result"
    }
   ],
   "source": [
    "tra = trajectory\n",
    "tra.shape"
   ]
  },
  {
   "cell_type": "code",
   "execution_count": 20,
   "id": "bf689f21-2b4b-4ad0-b878-402aa7d0276b",
   "metadata": {},
   "outputs": [],
   "source": [
    "predicted_tras = np.zeros(tra.shape)"
   ]
  },
  {
   "cell_type": "code",
   "execution_count": 21,
   "id": "a7ef1bdc-edf9-4cd5-a45a-dff19398dd51",
   "metadata": {},
   "outputs": [],
   "source": [
    "predicted_tras[:,:,0:20] = tra[:,:,0:20]\n",
    "for i in range(20,50):\n",
    "    predicted_tras[:,:,i] = predicted_tras[:,:,i-1] + results[:,:,i-30]*0.1"
   ]
  },
  {
   "cell_type": "code",
   "execution_count": 22,
   "id": "2e8a03a8",
   "metadata": {},
   "outputs": [
    {
     "data": {
      "text/plain": [
       "201"
      ]
     },
     "execution_count": 22,
     "metadata": {},
     "output_type": "execute_result"
    }
   ],
   "source": [
    "np.arange(1,208272,10)[20]"
   ]
  },
  {
   "cell_type": "code",
   "execution_count": 82,
   "id": "cb9f1227-488e-4c8b-897b-d0b1e08dfcea",
   "metadata": {},
   "outputs": [
    {
     "data": {
      "text/plain": [
       "4.361084941831755"
      ]
     },
     "execution_count": 82,
     "metadata": {},
     "output_type": "execute_result"
    }
   ],
   "source": [
    "# compute the MSE of predicted results\n",
    "\n",
    "np.sum((predicted_tras - tra)**2/(predicted_tras.shape[0]*30))"
   ]
  },
  {
   "cell_type": "code",
   "execution_count": 26,
   "id": "7ef1b057-9b26-4985-b5c8-22ac3014ba1a",
   "metadata": {},
   "outputs": [
    {
     "data": {
      "text/plain": [
       "(208272, 2, 50)"
      ]
     },
     "execution_count": 26,
     "metadata": {},
     "output_type": "execute_result"
    }
   ],
   "source": [
    "# compute the MSE of mean velocity\n",
    "results_mv = np.zeros((test.shape[0],2,50))\n",
    "results_mv.shape"
   ]
  },
  {
   "cell_type": "code",
   "execution_count": 27,
   "id": "540de643-9e61-452b-a669-38eb157c606a",
   "metadata": {},
   "outputs": [
    {
     "data": {
      "text/plain": [
       "(208272, 2)"
      ]
     },
     "execution_count": 27,
     "metadata": {},
     "output_type": "execute_result"
    }
   ],
   "source": [
    "np.mean(train_data[:,:,0:30],axis = 2).shape"
   ]
  },
  {
   "cell_type": "code",
   "execution_count": 28,
   "id": "de378b05-f574-4632-9c2a-57992e0c4ac7",
   "metadata": {},
   "outputs": [],
   "source": [
    "mean_velocity = np.mean(train_data[:,:,0:20],axis = 2)\n",
    "results_mv[:,:,0:20] = tra[:,:,0:20]\n",
    "for i in range(20,50):\n",
    "    results_mv[:,:,i] = results_mv[:,:,i-1] + mean_velocity*0.1"
   ]
  },
  {
   "cell_type": "code",
   "execution_count": 29,
   "id": "5c2755b5-59e0-4d0b-95ca-998ede18db30",
   "metadata": {},
   "outputs": [
    {
     "data": {
      "text/plain": [
       "11.988021580143991"
      ]
     },
     "execution_count": 29,
     "metadata": {},
     "output_type": "execute_result"
    }
   ],
   "source": [
    "np.sum((results_mv - tra)**2/(predicted_tras.shape[0]*30))"
   ]
  },
  {
   "cell_type": "markdown",
   "id": "64c9fbb0",
   "metadata": {},
   "source": [
    "# part result"
   ]
  },
  {
   "cell_type": "code",
   "execution_count": 65,
   "id": "037a2350",
   "metadata": {},
   "outputs": [
    {
     "data": {
      "text/plain": [
       "'\\nplt.figure()\\nplt.title(\"constant velocity\")\\nplt.plot(results_mv[203,0],results_mv[203,1],label = \"predicted\")\\nplt.plot(tra[203,0],tra[203,1],label = \"ground truth\")\\nplt.plot(tra[203,0][0:20],tra[203,1][0:20],label = \"observed\")\\nplt.xlabel(\"Map X\")\\nplt.ylabel(\"Map Y\")\\nplt.legend()\\n'"
      ]
     },
     "execution_count": 65,
     "metadata": {},
     "output_type": "execute_result"
    },
    {
     "data": {
      "image/png": "[encoded data removed]",
      "text/plain": [
       "<Figure size 720x720 with 4 Axes>"
      ]
     },
     "metadata": {
      "needs_background": "light"
     },
     "output_type": "display_data"
    }
   ],
   "source": [
    "plt.figure(figsize = (10,10))\n",
    "plt.subplot(2,2,1)\n",
    "plt.title(\"predicted trajectory\")\n",
    "plt.plot(np.flipud(predicted_tras[203,0]),np.flipud(predicted_tras[203,1]),label = \"predicted\")\n",
    "plt.plot(np.flipud(tra[203,0]),np.flipud(tra[203,1]),label = \"ground truth\")\n",
    "plt.plot(np.flipud(tra[203,0][0:20]),np.flipud(tra[203,1][0:20]), label = \"observed\")\n",
    "plt.xlabel(\"Map X\")\n",
    "plt.ylabel(\"Map Y\")\n",
    "plt.xlim(2835,2785)\n",
    "plt.ylim(1270,1315)\n",
    "plt.legend()\n",
    "\n",
    "plt.subplot(2,2,2)\n",
    "plt.title(\"predicted trajectory\")\n",
    "plt.plot(predicted_tras[224,0],predicted_tras[224,1],label = \"predicted\")\n",
    "plt.plot(tra[224,0],tra[224,1],label = \"ground truth\")\n",
    "plt.plot(tra[224,0][0:20],tra[224,1][0:20], label = \"observed\")\n",
    "plt.xlabel(\"Map X\")\n",
    "plt.ylabel(\"Map Y\")\n",
    "plt.xlim(670,620)\n",
    "plt.ylim(3867.5,3869.5)\n",
    "plt.legend()\n",
    "\n",
    "plt.subplot(2,2,3)\n",
    "plt.title(\"predicted trajectory\")\n",
    "plt.plot(predicted_tras[231,0],predicted_tras[231,1],label = \"predicted\")\n",
    "plt.plot(tra[231,0],tra[231,1],label = \"ground truth\")\n",
    "plt.plot(tra[231,0][0:20],tra[231,1][0:20], label = \"observed\")\n",
    "plt.xlabel(\"Map X\")\n",
    "plt.ylabel(\"Map Y\")\n",
    "plt.xlim(880,850)\n",
    "plt.ylim(2127,2150)\n",
    "plt.legend()\n",
    "\n",
    "\n",
    "plt.subplot(2,2,4)\n",
    "plt.title(\"velocity prediction\")\n",
    "plt.plot(predicted_tras[202,0],predicted_tras[202,1],label = \"predicted\")\n",
    "plt.plot(tra[202,0],tra[202,1],label = \"ground truth\")\n",
    "plt.plot(tra[202,0][0:20],tra[202,1][0:20], label = \"observed\")\n",
    "plt.xlabel(\"Map X\")\n",
    "plt.ylabel(\"Map Y\")\n",
    "plt.xlim(220,155)\n",
    "plt.ylim(2337,2341)\n",
    "plt.legend()\n",
    "\n",
    "\"\"\"\n",
    "plt.figure()\n",
    "plt.title(\"constant velocity\")\n",
    "plt.plot(results_mv[203,0],results_mv[203,1],label = \"predicted\")\n",
    "plt.plot(tra[203,0],tra[203,1],label = \"ground truth\")\n",
    "plt.plot(tra[203,0][0:20],tra[203,1][0:20],label = \"observed\")\n",
    "plt.xlabel(\"Map X\")\n",
    "plt.ylabel(\"Map Y\")\n",
    "plt.legend()\n",
    "\"\"\""
   ]
  },
  {
   "cell_type": "code",
   "execution_count": null,
   "id": "296a2fa6",
   "metadata": {},
   "outputs": [],
   "source": []
  }
 ],
 "metadata": {
  "kernelspec": {
   "display_name": "Python 3",
   "language": "python",
   "name": "python3"
  },
  "language_info": {
   "codemirror_mode": {
    "name": "ipython",
    "version": 3
   },
   "file_extension": ".py",
   "mimetype": "text/x-python",
   "name": "python",
   "nbconvert_exporter": "python",
   "pygments_lexer": "ipython3",
   "version": "3.8.8"
  }
 },
 "nbformat": 4,
 "nbformat_minor": 5
}
