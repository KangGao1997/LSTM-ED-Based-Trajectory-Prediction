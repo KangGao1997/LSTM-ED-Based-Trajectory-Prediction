{
 "cells": [
  {
   "cell_type": "code",
   "execution_count": 1,
   "id": "8a47383b",
   "metadata": {},
   "outputs": [],
   "source": [
    "import torch\n",
    "import torch.nn as nn\n",
    "import torch.nn.functional as F\n",
    "from typing import Any\n",
    "\n",
    "import numpy as np\n",
    "from torch.utils.data import DataLoader,TensorDataset\n",
    "import time\n",
    "import matplotlib.pyplot as plt"
   ]
  },
  {
   "cell_type": "code",
   "execution_count": 2,
   "id": "0fb10b2d",
   "metadata": {},
   "outputs": [],
   "source": [
    "class EncoderRNN(nn.Module):\n",
    "    \"\"\"Encoder Network.\"\"\"\n",
    "    def __init__(self,\n",
    "                 input_size: int = 2,\n",
    "                 embedding_size: int = 8,\n",
    "                 hidden_size: int = 16):\n",
    "        \"\"\"Initialize the encoder network.\n",
    "        Args:\n",
    "            input_size: number of features in the input\n",
    "            embedding_size: Embedding size\n",
    "            hidden_size: Hidden size of LSTM\n",
    "        \"\"\"\n",
    "        super(EncoderRNN, self).__init__()\n",
    "        self.hidden_size = hidden_size\n",
    "\n",
    "        self.linear1 = nn.Linear(input_size, embedding_size)\n",
    "        self.lstm1 = nn.LSTMCell(embedding_size, hidden_size)\n",
    "\n",
    "    def forward(self, x: torch.FloatTensor, hidden: Any) -> Any:\n",
    "        \"\"\"Run forward propagation.\n",
    "        Args:\n",
    "            x: input to the network\n",
    "            hidden: initial hidden state\n",
    "        Returns:\n",
    "            hidden: final hidden \n",
    "        \"\"\"\n",
    "        embedded = F.relu(self.linear1(x))\n",
    "        hidden = self.lstm1(embedded, hidden)\n",
    "        return hidden\n"
   ]
  },
  {
   "cell_type": "code",
   "execution_count": 3,
   "id": "66099191",
   "metadata": {},
   "outputs": [],
   "source": [
    "class DecoderRNN(nn.Module):\n",
    "    \"\"\"Decoder Network.\"\"\"\n",
    "    def __init__(self, embedding_size=8, hidden_size=16, output_size=2):\n",
    "        \"\"\"Initialize the decoder network.\n",
    "        Args:\n",
    "            embedding_size: Embedding size\n",
    "            hidden_size: Hidden size of LSTM\n",
    "            output_size: number of features in the output\n",
    "        \"\"\"\n",
    "        super(DecoderRNN, self).__init__()\n",
    "        self.hidden_size = hidden_size\n",
    "\n",
    "        self.linear1 = nn.Linear(output_size, embedding_size)\n",
    "        self.lstm1 = nn.LSTMCell(embedding_size, hidden_size)\n",
    "        self.linear2 = nn.Linear(hidden_size, output_size)\n",
    "\n",
    "    def forward(self, x, hidden):\n",
    "        \"\"\"Run forward propagation.\n",
    "        Args:\n",
    "            x: input to the network\n",
    "            hidden: initial hidden state\n",
    "        Returns:\n",
    "            output: output from lstm\n",
    "            hidden: final hidden state\n",
    "        \"\"\"\n",
    "        embedded = F.relu(self.linear1(x))\n",
    "        hidden = self.lstm1(embedded, hidden)\n",
    "        output = self.linear2(hidden[0])\n",
    "        return output, hidden"
   ]
  },
  {
   "cell_type": "code",
   "execution_count": null,
   "id": "81b469bf",
   "metadata": {},
   "outputs": [],
   "source": []
  },
  {
   "cell_type": "code",
   "execution_count": 4,
   "id": "55643f7b",
   "metadata": {},
   "outputs": [
    {
     "data": {
      "text/plain": [
       "(208272, 2, 49)"
      ]
     },
     "execution_count": 4,
     "metadata": {},
     "output_type": "execute_result"
    }
   ],
   "source": [
    "#train_set = train_set.transpose(0,2,1)\n",
    "#train_target = train_target.transpose(0,2,1)\n",
    "#train_set.shape,train_target.shape\n",
    "\n",
    "train_data = np.load(\"train_velocity.npy\")\n",
    "train_data.shape"
   ]
  },
  {
   "cell_type": "code",
   "execution_count": 5,
   "id": "389f521d",
   "metadata": {},
   "outputs": [],
   "source": [
    "toTensor_sig = torch.tensor(train_data)\n",
    "train_data_set = TensorDataset(toTensor_sig)"
   ]
  },
  {
   "cell_type": "code",
   "execution_count": 6,
   "id": "7cbdceb3",
   "metadata": {},
   "outputs": [],
   "source": [
    "#set up the train parameters\n",
    "batch_size = 1000 #1000 #600 #500\n",
    "epoch = 400\n",
    "lr = 0.00001\n",
    "\n",
    "encoder = EncoderRNN()\n",
    "decoder = DecoderRNN()\n",
    "criterion = nn.MSELoss()\n",
    "encoder_optimizer = torch.optim.Adam(encoder.parameters(), lr=lr)\n",
    "decoder_optimizer = torch.optim.Adam(decoder.parameters(), lr=lr)\n",
    "tr_data_loader = DataLoader(train_data_set,batch_size = batch_size, shuffle = True)\n",
    "loss_overall = []"
   ]
  },
  {
   "cell_type": "code",
   "execution_count": 35,
   "id": "83d33685",
   "metadata": {},
   "outputs": [
    {
     "name": "stdout",
     "output_type": "stream",
     "text": [
      "============================================\n",
      "epoch:  1\n",
      "tensor(0.7479, grad_fn=<DivBackward0>)\n",
      "============================================\n",
      "epoch:  2\n",
      "tensor(0.7478, grad_fn=<DivBackward0>)\n",
      "============================================\n",
      "epoch:  3\n",
      "tensor(0.7485, grad_fn=<DivBackward0>)\n",
      "============================================\n",
      "epoch:  4\n",
      "tensor(0.7480, grad_fn=<DivBackward0>)\n",
      "============================================\n",
      "epoch:  5\n",
      "tensor(0.7476, grad_fn=<DivBackward0>)\n",
      "============================================\n",
      "epoch:  6\n",
      "tensor(0.7476, grad_fn=<DivBackward0>)\n",
      "============================================\n",
      "epoch:  7\n",
      "tensor(0.7486, grad_fn=<DivBackward0>)\n",
      "============================================\n",
      "epoch:  8\n",
      "tensor(0.7476, grad_fn=<DivBackward0>)\n",
      "============================================\n",
      "epoch:  9\n",
      "tensor(0.7487, grad_fn=<DivBackward0>)\n",
      "============================================\n",
      "epoch:  10\n",
      "tensor(0.7476, grad_fn=<DivBackward0>)\n",
      "============================================\n",
      "epoch:  11\n",
      "tensor(0.7480, grad_fn=<DivBackward0>)\n",
      "============================================\n",
      "epoch:  12\n",
      "tensor(0.7477, grad_fn=<DivBackward0>)\n",
      "============================================\n",
      "epoch:  13\n",
      "tensor(0.7479, grad_fn=<DivBackward0>)\n",
      "============================================\n",
      "epoch:  14\n",
      "tensor(0.7475, grad_fn=<DivBackward0>)\n",
      "============================================\n",
      "epoch:  15\n",
      "tensor(0.7476, grad_fn=<DivBackward0>)\n",
      "============================================\n",
      "epoch:  16\n",
      "tensor(0.7480, grad_fn=<DivBackward0>)\n",
      "============================================\n",
      "epoch:  17\n",
      "tensor(0.7474, grad_fn=<DivBackward0>)\n",
      "============================================\n",
      "epoch:  18\n",
      "tensor(0.7472, grad_fn=<DivBackward0>)\n",
      "============================================\n",
      "epoch:  19\n",
      "tensor(0.7476, grad_fn=<DivBackward0>)\n",
      "============================================\n",
      "epoch:  20\n",
      "tensor(0.7475, grad_fn=<DivBackward0>)\n",
      "============================================\n",
      "epoch:  21\n",
      "tensor(0.7485, grad_fn=<DivBackward0>)\n",
      "============================================\n",
      "epoch:  22\n",
      "tensor(0.7477, grad_fn=<DivBackward0>)\n",
      "============================================\n",
      "epoch:  23\n",
      "tensor(0.7481, grad_fn=<DivBackward0>)\n",
      "============================================\n",
      "epoch:  24\n",
      "tensor(0.7476, grad_fn=<DivBackward0>)\n",
      "============================================\n",
      "epoch:  25\n",
      "tensor(0.7474, grad_fn=<DivBackward0>)\n",
      "============================================\n",
      "epoch:  26\n",
      "tensor(0.7471, grad_fn=<DivBackward0>)\n",
      "============================================\n",
      "epoch:  27\n",
      "tensor(0.7478, grad_fn=<DivBackward0>)\n",
      "============================================\n",
      "epoch:  28\n",
      "tensor(0.7479, grad_fn=<DivBackward0>)\n",
      "============================================\n",
      "epoch:  29\n",
      "tensor(0.7475, grad_fn=<DivBackward0>)\n",
      "============================================\n",
      "epoch:  30\n",
      "tensor(0.7473, grad_fn=<DivBackward0>)\n",
      "============================================\n",
      "epoch:  31\n",
      "tensor(0.7477, grad_fn=<DivBackward0>)\n",
      "============================================\n",
      "epoch:  32\n",
      "tensor(0.7474, grad_fn=<DivBackward0>)\n",
      "============================================\n",
      "epoch:  33\n",
      "tensor(0.7483, grad_fn=<DivBackward0>)\n",
      "============================================\n",
      "epoch:  34\n",
      "tensor(0.7473, grad_fn=<DivBackward0>)\n",
      "============================================\n",
      "epoch:  35\n",
      "tensor(0.7485, grad_fn=<DivBackward0>)\n",
      "============================================\n",
      "epoch:  36\n",
      "tensor(0.7478, grad_fn=<DivBackward0>)\n",
      "============================================\n",
      "epoch:  37\n",
      "tensor(0.7474, grad_fn=<DivBackward0>)\n",
      "============================================\n",
      "epoch:  38\n",
      "tensor(0.7476, grad_fn=<DivBackward0>)\n",
      "============================================\n",
      "epoch:  39\n",
      "tensor(0.7474, grad_fn=<DivBackward0>)\n",
      "============================================\n",
      "epoch:  40\n",
      "tensor(0.7476, grad_fn=<DivBackward0>)\n",
      "============================================\n",
      "epoch:  41\n",
      "tensor(0.7478, grad_fn=<DivBackward0>)\n",
      "============================================\n",
      "epoch:  42\n",
      "tensor(0.7473, grad_fn=<DivBackward0>)\n",
      "============================================\n",
      "epoch:  43\n",
      "tensor(0.7474, grad_fn=<DivBackward0>)\n",
      "============================================\n",
      "epoch:  44\n",
      "tensor(0.7474, grad_fn=<DivBackward0>)\n",
      "============================================\n",
      "epoch:  45\n",
      "tensor(0.7478, grad_fn=<DivBackward0>)\n",
      "============================================\n",
      "epoch:  46\n",
      "tensor(0.7477, grad_fn=<DivBackward0>)\n",
      "============================================\n",
      "epoch:  47\n",
      "tensor(0.7481, grad_fn=<DivBackward0>)\n",
      "============================================\n",
      "epoch:  48\n",
      "tensor(0.7480, grad_fn=<DivBackward0>)\n",
      "============================================\n",
      "epoch:  49\n",
      "tensor(0.7484, grad_fn=<DivBackward0>)\n",
      "============================================\n",
      "epoch:  50\n",
      "tensor(0.7478, grad_fn=<DivBackward0>)\n",
      "============================================\n",
      "epoch:  51\n",
      "tensor(0.7473, grad_fn=<DivBackward0>)\n",
      "============================================\n",
      "epoch:  52\n",
      "tensor(0.7475, grad_fn=<DivBackward0>)\n",
      "============================================\n",
      "epoch:  53\n",
      "tensor(0.7474, grad_fn=<DivBackward0>)\n",
      "============================================\n",
      "epoch:  54\n",
      "tensor(0.7474, grad_fn=<DivBackward0>)\n",
      "============================================\n",
      "epoch:  55\n",
      "tensor(0.7478, grad_fn=<DivBackward0>)\n",
      "============================================\n",
      "epoch:  56\n",
      "tensor(0.7477, grad_fn=<DivBackward0>)\n",
      "============================================\n",
      "epoch:  57\n",
      "tensor(0.7477, grad_fn=<DivBackward0>)\n",
      "============================================\n",
      "epoch:  58\n",
      "tensor(0.7477, grad_fn=<DivBackward0>)\n",
      "============================================\n",
      "epoch:  59\n",
      "tensor(0.7475, grad_fn=<DivBackward0>)\n",
      "============================================\n",
      "epoch:  60\n",
      "tensor(0.7475, grad_fn=<DivBackward0>)\n",
      "============================================\n",
      "epoch:  61\n",
      "tensor(0.7479, grad_fn=<DivBackward0>)\n",
      "============================================\n",
      "epoch:  62\n",
      "tensor(0.7474, grad_fn=<DivBackward0>)\n",
      "============================================\n",
      "epoch:  63\n",
      "tensor(0.7475, grad_fn=<DivBackward0>)\n",
      "============================================\n",
      "epoch:  64\n",
      "tensor(0.7476, grad_fn=<DivBackward0>)\n",
      "============================================\n",
      "epoch:  65\n",
      "tensor(0.7474, grad_fn=<DivBackward0>)\n",
      "============================================\n",
      "epoch:  66\n",
      "tensor(0.7474, grad_fn=<DivBackward0>)\n",
      "============================================\n",
      "epoch:  67\n",
      "tensor(0.7475, grad_fn=<DivBackward0>)\n",
      "============================================\n",
      "epoch:  68\n",
      "tensor(0.7474, grad_fn=<DivBackward0>)\n",
      "============================================\n",
      "epoch:  69\n",
      "tensor(0.7480, grad_fn=<DivBackward0>)\n",
      "============================================\n",
      "epoch:  70\n",
      "tensor(0.7478, grad_fn=<DivBackward0>)\n",
      "============================================\n",
      "epoch:  71\n",
      "tensor(0.7476, grad_fn=<DivBackward0>)\n",
      "============================================\n",
      "epoch:  72\n",
      "tensor(0.7476, grad_fn=<DivBackward0>)\n",
      "============================================\n",
      "epoch:  73\n",
      "tensor(0.7473, grad_fn=<DivBackward0>)\n",
      "============================================\n",
      "epoch:  74\n",
      "tensor(0.7472, grad_fn=<DivBackward0>)\n",
      "============================================\n",
      "epoch:  75\n",
      "tensor(0.7478, grad_fn=<DivBackward0>)\n",
      "============================================\n",
      "epoch:  76\n",
      "tensor(0.7475, grad_fn=<DivBackward0>)\n",
      "============================================\n",
      "epoch:  77\n",
      "tensor(0.7472, grad_fn=<DivBackward0>)\n",
      "============================================\n",
      "epoch:  78\n",
      "tensor(0.7475, grad_fn=<DivBackward0>)\n",
      "============================================\n",
      "epoch:  79\n",
      "tensor(0.7479, grad_fn=<DivBackward0>)\n",
      "============================================\n",
      "epoch:  80\n",
      "tensor(0.7481, grad_fn=<DivBackward0>)\n",
      "============================================\n",
      "epoch:  81\n",
      "tensor(0.7482, grad_fn=<DivBackward0>)\n",
      "============================================\n",
      "epoch:  82\n",
      "tensor(0.7479, grad_fn=<DivBackward0>)\n",
      "============================================\n",
      "epoch:  83\n",
      "tensor(0.7473, grad_fn=<DivBackward0>)\n",
      "============================================\n",
      "epoch:  84\n",
      "tensor(0.7482, grad_fn=<DivBackward0>)\n",
      "============================================\n",
      "epoch:  85\n",
      "tensor(0.7482, grad_fn=<DivBackward0>)\n",
      "============================================\n",
      "epoch:  86\n",
      "tensor(0.7475, grad_fn=<DivBackward0>)\n",
      "============================================\n",
      "epoch:  87\n"
     ]
    },
    {
     "name": "stdout",
     "output_type": "stream",
     "text": [
      "tensor(0.7482, grad_fn=<DivBackward0>)\n",
      "============================================\n",
      "epoch:  88\n",
      "tensor(0.7474, grad_fn=<DivBackward0>)\n",
      "============================================\n",
      "epoch:  89\n",
      "tensor(0.7474, grad_fn=<DivBackward0>)\n",
      "============================================\n",
      "epoch:  90\n",
      "tensor(0.7483, grad_fn=<DivBackward0>)\n",
      "============================================\n",
      "epoch:  91\n",
      "tensor(0.7472, grad_fn=<DivBackward0>)\n",
      "============================================\n",
      "epoch:  92\n",
      "tensor(0.7477, grad_fn=<DivBackward0>)\n",
      "============================================\n",
      "epoch:  93\n",
      "tensor(0.7480, grad_fn=<DivBackward0>)\n",
      "============================================\n",
      "epoch:  94\n",
      "tensor(0.7479, grad_fn=<DivBackward0>)\n",
      "============================================\n",
      "epoch:  95\n",
      "tensor(0.7475, grad_fn=<DivBackward0>)\n",
      "============================================\n",
      "epoch:  96\n",
      "tensor(0.7476, grad_fn=<DivBackward0>)\n",
      "============================================\n",
      "epoch:  97\n",
      "tensor(0.7474, grad_fn=<DivBackward0>)\n",
      "============================================\n",
      "epoch:  98\n",
      "tensor(0.7481, grad_fn=<DivBackward0>)\n",
      "============================================\n",
      "epoch:  99\n",
      "tensor(0.7477, grad_fn=<DivBackward0>)\n",
      "============================================\n",
      "epoch:  100\n",
      "tensor(0.7476, grad_fn=<DivBackward0>)\n"
     ]
    }
   ],
   "source": [
    "\n",
    "start = time.time()\n",
    "\n",
    "for i in range(100):\n",
    "    print(\"============================================\")\n",
    "    print(\"epoch: \", i+1)\n",
    "    loss_batch = 0\n",
    "    cur_MSE = 0\n",
    "    for (idx,data) in enumerate(tr_data_loader):\n",
    "        feature = data[0][:,:,0:29]#.permute(0,2,1)\n",
    "        #print(feature.shape)\n",
    "        target = data[0][:,:,29:49]\n",
    "        #print(target)\n",
    "        encoder_hidden =(\n",
    "            torch.zeros(feature.shape[0], 16),\n",
    "            torch.zeros(feature.shape[0], 16),\n",
    "        )\n",
    "        \n",
    "        loss = 0\n",
    "        \n",
    "        \n",
    "        for cur_fea in range(feature.shape[2]):\n",
    "            encoder_input = feature[:,:,cur_fea]\n",
    "            #print((encoder_input.shape))\n",
    "            #print(encoder_hidden[0].dtype)\n",
    "            encoder_hidden = encoder(encoder_input.type(torch.FloatTensor), encoder_hidden)\n",
    "        \n",
    "        # Initialize decoder input with last coordinate in encoder\n",
    "        decoder_input = encoder_input[:, :2]\n",
    "        #print(decoder_input.shape)\n",
    "\n",
    "        # Initialize decoder hidden state as encoder hidden state\n",
    "        decoder_hidden = encoder_hidden\n",
    "        decoder_outputs = torch.zeros(target.shape)\n",
    "        \n",
    "        for di in range(20):\n",
    "            decoder_output, decoder_hidden = decoder(decoder_input.type(torch.FloatTensor),\n",
    "                                                     decoder_hidden)\n",
    "            decoder_outputs[:, :, di] = decoder_output\n",
    "\n",
    "            # Update losses for all benchmarks\n",
    "            loss += criterion(decoder_output[:, :], target[:, :, di].type(torch.FloatTensor))\n",
    "            \n",
    "\n",
    "            # Use own predictions as inputs at next step\n",
    "            decoder_input = decoder_output\n",
    "            \n",
    "        \n",
    "        #loss = criterion(decoder_outputs, target.type(torch.FloatTensor))\n",
    "        # Get average loss for pred_len\n",
    "        #loss = (loss/batch_size).type(torch.FloatTensor)\n",
    "        #cur_MSE += loss\n",
    "        #print(loss.dtype)\n",
    "        loss = loss/20\n",
    "        loss_batch+= loss\n",
    "        #print(loss)\n",
    "        loss.backward()\n",
    "        encoder_optimizer.step()\n",
    "        #print(\"decoder\")\n",
    "        decoder_optimizer.step()\n",
    "        #print(decoder_outputs)\n",
    "        #print(target)\n",
    "        #break\n",
    "    #loss_overall.append(cur_MSE)\n",
    "    print(loss_batch/batch_size)    #average loss per batch\n",
    "    loss_overall.append(loss_batch/batch_size)\n",
    "\n",
    "\n",
    "\n"
   ]
  },
  {
   "cell_type": "code",
   "execution_count": 36,
   "id": "9d4dfb1c",
   "metadata": {},
   "outputs": [],
   "source": [
    "torch.save(encoder,'trained_encoder_1202_2.pth')\n",
    "torch.save(decoder,'trained_decoder_1202_2.pth')"
   ]
  },
  {
   "cell_type": "markdown",
   "id": "9e6becff-6ef5-4409-9d18-bed18615ea3a",
   "metadata": {},
   "source": [
    "## Print learning curve"
   ]
  },
  {
   "cell_type": "code",
   "execution_count": 37,
   "id": "00ec62b4",
   "metadata": {},
   "outputs": [
    {
     "ename": "AttributeError",
     "evalue": "'numpy.ndarray' object has no attribute 'detach'",
     "output_type": "error",
     "traceback": [
      "\u001b[0;31m---------------------------------------------------------------------------\u001b[0m",
      "\u001b[0;31mAttributeError\u001b[0m                            Traceback (most recent call last)",
      "\u001b[0;32m<ipython-input-37-a9a28d2bccaa>\u001b[0m in \u001b[0;36m<module>\u001b[0;34m\u001b[0m\n\u001b[1;32m      1\u001b[0m \u001b[0;32mfor\u001b[0m \u001b[0mi\u001b[0m \u001b[0;32min\u001b[0m \u001b[0mrange\u001b[0m\u001b[0;34m(\u001b[0m\u001b[0mlen\u001b[0m\u001b[0;34m(\u001b[0m\u001b[0mloss_overall\u001b[0m\u001b[0;34m)\u001b[0m\u001b[0;34m)\u001b[0m\u001b[0;34m:\u001b[0m\u001b[0;34m\u001b[0m\u001b[0;34m\u001b[0m\u001b[0m\n\u001b[0;32m----> 2\u001b[0;31m     \u001b[0mloss_overall\u001b[0m\u001b[0;34m[\u001b[0m\u001b[0mi\u001b[0m\u001b[0;34m]\u001b[0m \u001b[0;34m=\u001b[0m \u001b[0mloss_overall\u001b[0m\u001b[0;34m[\u001b[0m\u001b[0mi\u001b[0m\u001b[0;34m]\u001b[0m\u001b[0;34m.\u001b[0m\u001b[0mdetach\u001b[0m\u001b[0;34m(\u001b[0m\u001b[0;34m)\u001b[0m\u001b[0;34m.\u001b[0m\u001b[0mnumpy\u001b[0m\u001b[0;34m(\u001b[0m\u001b[0;34m)\u001b[0m\u001b[0;34m\u001b[0m\u001b[0;34m\u001b[0m\u001b[0m\n\u001b[0m",
      "\u001b[0;31mAttributeError\u001b[0m: 'numpy.ndarray' object has no attribute 'detach'"
     ]
    }
   ],
   "source": [
    "\n",
    "for i in range(len(loss_overall)):\n",
    "    loss_overall[i] = loss_overall[i].detach().numpy()\n"
   ]
  },
  {
   "cell_type": "code",
   "execution_count": 38,
   "id": "4cf0ff72",
   "metadata": {},
   "outputs": [
    {
     "name": "stdout",
     "output_type": "stream",
     "text": [
      "[array(6.3256183, dtype=float32), array(6.3140826, dtype=float32), array(6.306142, dtype=float32), array(6.2957854, dtype=float32), array(6.287679, dtype=float32), array(6.280286, dtype=float32), array(6.271278, dtype=float32), array(6.264508, dtype=float32), array(6.2542977, dtype=float32), array(6.2418613, dtype=float32), array(6.230923, dtype=float32), array(6.2220864, dtype=float32), array(6.204498, dtype=float32), array(6.1867037, dtype=float32), array(6.1695714, dtype=float32), array(6.1529603, dtype=float32), array(6.1257052, dtype=float32), array(6.1079416, dtype=float32), array(6.0777535, dtype=float32), array(6.0442324, dtype=float32), array(6.0081506, dtype=float32), array(5.9651723, dtype=float32), array(5.9156203, dtype=float32), array(5.8637786, dtype=float32), array(5.7992716, dtype=float32), array(5.719709, dtype=float32), array(5.6357536, dtype=float32), array(5.54032, dtype=float32), array(5.447449, dtype=float32), array(5.3611393, dtype=float32), array(5.2792277, dtype=float32), array(5.2032266, dtype=float32), array(5.1329565, dtype=float32), array(5.066591, dtype=float32), array(5.0057244, dtype=float32), array(4.94525, dtype=float32), array(4.889198, dtype=float32), array(4.833758, dtype=float32), array(4.7765617, dtype=float32), array(4.723834, dtype=float32), array(4.668492, dtype=float32), array(4.6172104, dtype=float32), array(4.5645475, dtype=float32), array(4.5129023, dtype=float32), array(4.4659615, dtype=float32), array(4.414473, dtype=float32), array(4.364328, dtype=float32), array(4.316258, dtype=float32), array(4.269878, dtype=float32), array(4.2235312, dtype=float32), array(4.1733284, dtype=float32), array(4.1293, dtype=float32), array(4.083793, dtype=float32), array(4.034994, dtype=float32), array(3.9881957, dtype=float32), array(3.9436505, dtype=float32), array(3.9036157, dtype=float32), array(3.8539574, dtype=float32), array(3.812769, dtype=float32), array(3.7686434, dtype=float32), array(3.7235928, dtype=float32), array(3.6829102, dtype=float32), array(3.6387055, dtype=float32), array(3.5988634, dtype=float32), array(3.558439, dtype=float32), array(3.517967, dtype=float32), array(3.4781523, dtype=float32), array(3.438923, dtype=float32), array(3.4004023, dtype=float32), array(3.3614612, dtype=float32), array(3.3225317, dtype=float32), array(3.2853944, dtype=float32), array(3.2502768, dtype=float32), array(3.211546, dtype=float32), array(3.1757548, dtype=float32), array(3.1394386, dtype=float32), array(3.1071746, dtype=float32), array(3.0723796, dtype=float32), array(3.0399592, dtype=float32), array(3.004657, dtype=float32), array(2.9735413, dtype=float32), array(2.940741, dtype=float32), array(2.9079251, dtype=float32), array(2.8739204, dtype=float32), array(2.8428607, dtype=float32), array(2.8108609, dtype=float32), array(2.7834365, dtype=float32), array(2.7536643, dtype=float32), array(2.7230005, dtype=float32), array(2.693278, dtype=float32), array(2.6647792, dtype=float32), array(2.6354263, dtype=float32), array(2.6069932, dtype=float32), array(2.5807323, dtype=float32), array(2.5521317, dtype=float32), array(2.5274675, dtype=float32), array(2.501215, dtype=float32), array(2.4740183, dtype=float32), array(2.4490826, dtype=float32), array(2.4248843, dtype=float32), array(2.3995345, dtype=float32), array(2.375568, dtype=float32), array(2.3531973, dtype=float32), array(2.3319137, dtype=float32), array(2.3088608, dtype=float32), array(2.2856882, dtype=float32), array(2.2649734, dtype=float32), array(2.2423375, dtype=float32), array(2.2207954, dtype=float32), array(2.1992784, dtype=float32), array(2.1781373, dtype=float32), array(2.1592796, dtype=float32), array(2.13823, dtype=float32), array(2.119909, dtype=float32), array(2.1009057, dtype=float32), array(2.0837283, dtype=float32), array(2.0664876, dtype=float32), array(2.0476725, dtype=float32), array(2.0316608, dtype=float32), array(2.0155828, dtype=float32), array(1.998356, dtype=float32), array(1.9822387, dtype=float32), array(1.9681025, dtype=float32), array(1.9508235, dtype=float32), array(1.9371356, dtype=float32), array(1.9220388, dtype=float32), array(1.908654, dtype=float32), array(1.8926479, dtype=float32), array(1.8777175, dtype=float32), array(1.8624132, dtype=float32), array(1.8497725, dtype=float32), array(1.8338838, dtype=float32), array(1.8209301, dtype=float32), array(1.8090571, dtype=float32), array(1.7972226, dtype=float32), array(1.7850085, dtype=float32), array(1.7747129, dtype=float32), array(1.7633488, dtype=float32), array(1.751015, dtype=float32), array(1.7426023, dtype=float32), array(1.7315984, dtype=float32), array(1.7208511, dtype=float32), array(1.7110817, dtype=float32), array(1.7027245, dtype=float32), array(1.6912211, dtype=float32), array(1.6797264, dtype=float32), array(1.6694163, dtype=float32), array(1.6582768, dtype=float32), array(1.6476351, dtype=float32), array(1.636801, dtype=float32), array(1.6286073, dtype=float32), array(1.6184925, dtype=float32), array(1.6068776, dtype=float32), array(1.5972621, dtype=float32), array(1.5886196, dtype=float32), array(1.5796535, dtype=float32), array(1.5690819, dtype=float32), array(1.5582118, dtype=float32), array(1.5490575, dtype=float32), array(1.5386976, dtype=float32), array(1.5296382, dtype=float32), array(1.5210122, dtype=float32), array(1.5118465, dtype=float32), array(1.5017161, dtype=float32), array(1.4919981, dtype=float32), array(1.483018, dtype=float32), array(1.472923, dtype=float32), array(1.4616832, dtype=float32), array(1.4523275, dtype=float32), array(1.4436462, dtype=float32), array(1.4354552, dtype=float32), array(1.4263175, dtype=float32), array(1.4180708, dtype=float32), array(1.41028, dtype=float32), array(1.4022368, dtype=float32), array(1.394278, dtype=float32), array(1.3864508, dtype=float32), array(1.379093, dtype=float32), array(1.3710195, dtype=float32), array(1.3636123, dtype=float32), array(1.3561637, dtype=float32), array(1.3483292, dtype=float32), array(1.3416009, dtype=float32), array(1.3361163, dtype=float32), array(1.3298957, dtype=float32), array(1.3232765, dtype=float32), array(1.3164055, dtype=float32), array(1.309882, dtype=float32), array(1.3026341, dtype=float32), array(1.2971103, dtype=float32), array(1.2913145, dtype=float32), array(1.2843642, dtype=float32), array(1.2791291, dtype=float32), array(1.2725941, dtype=float32), array(1.2675309, dtype=float32), array(1.2617198, dtype=float32), array(1.2561731, dtype=float32), array(1.2503803, dtype=float32), array(1.245452, dtype=float32), array(1.2395799, dtype=float32), array(1.2353126, dtype=float32), array(1.2293781, dtype=float32), array(1.2253635, dtype=float32), array(1.219775, dtype=float32), array(1.2149192, dtype=float32), array(1.2108608, dtype=float32), array(1.2073773, dtype=float32), array(1.2020097, dtype=float32), array(1.1972219, dtype=float32), array(1.1922784, dtype=float32), array(1.1871976, dtype=float32), array(1.1821318, dtype=float32), array(1.1764206, dtype=float32), array(1.1739762, dtype=float32), array(1.1692315, dtype=float32), array(1.164959, dtype=float32), array(1.161889, dtype=float32), array(1.1566342, dtype=float32), array(1.1536309, dtype=float32), array(1.151273, dtype=float32), array(1.1464148, dtype=float32), array(1.1436625, dtype=float32), array(1.1411672, dtype=float32), array(1.1374766, dtype=float32), array(1.1346453, dtype=float32), array(1.1325992, dtype=float32), array(1.1303544, dtype=float32), array(1.1270651, dtype=float32), array(1.1260326, dtype=float32), array(1.1232195, dtype=float32), array(1.1199008, dtype=float32), array(1.1179423, dtype=float32), array(1.115262, dtype=float32), array(1.1116347, dtype=float32), array(1.112329, dtype=float32), array(1.1079851, dtype=float32), array(1.106252, dtype=float32), array(1.1023763, dtype=float32), array(1.1009892, dtype=float32), array(1.0985831, dtype=float32), array(1.0963498, dtype=float32), array(1.0944768, dtype=float32), array(1.0921456, dtype=float32), array(1.0902295, dtype=float32), array(1.0879661, dtype=float32), array(1.0862597, dtype=float32), array(1.0834155, dtype=float32), array(1.0853022, dtype=float32), array(1.0858074, dtype=float32), array(1.0855004, dtype=float32), array(1.0828505, dtype=float32), array(1.0808586, dtype=float32), array(1.0772678, dtype=float32), array(1.075558, dtype=float32), array(1.0739588, dtype=float32), array(1.0719248, dtype=float32), array(1.0674157, dtype=float32), array(1.0646757, dtype=float32), array(1.0623192, dtype=float32), array(1.0602316, dtype=float32), array(1.0581447, dtype=float32), array(1.0558177, dtype=float32), array(1.0546875, dtype=float32), array(1.0531524, dtype=float32), array(1.0516701, dtype=float32), array(1.0500664, dtype=float32), array(1.04803, dtype=float32), array(1.0473688, dtype=float32), array(1.0432079, dtype=float32), array(1.0403605, dtype=float32), array(1.0377502, dtype=float32), array(1.035731, dtype=float32), array(1.0334249, dtype=float32), array(1.0304215, dtype=float32), array(1.0281693, dtype=float32), array(1.0250516, dtype=float32), array(1.0237359, dtype=float32), array(1.0188155, dtype=float32), array(1.0148779, dtype=float32), array(1.0116179, dtype=float32), array(1.0076953, dtype=float32), array(1.0038106, dtype=float32), array(0.9996608, dtype=float32), array(1.000751, dtype=float32), array(0.99641424, dtype=float32), array(0.9934925, dtype=float32), array(0.9922647, dtype=float32), array(0.9904757, dtype=float32), array(0.9892228, dtype=float32), array(0.98657036, dtype=float32), array(0.9857726, dtype=float32), array(0.9840011, dtype=float32), array(0.9819965, dtype=float32), array(0.9808736, dtype=float32), array(0.9801758, dtype=float32), array(0.9802717, dtype=float32), array(0.97862214, dtype=float32), array(0.97708726, dtype=float32), array(0.9747028, dtype=float32), array(0.9724381, dtype=float32), array(0.97010684, dtype=float32), array(0.9673988, dtype=float32), array(0.9646585, dtype=float32), array(0.96161205, dtype=float32), array(0.9582844, dtype=float32), array(0.9559664, dtype=float32), array(0.9538046, dtype=float32), array(0.9518515, dtype=float32), array(0.94866425, dtype=float32), array(0.94584405, dtype=float32), array(0.94198537, dtype=float32), array(0.9394983, dtype=float32), array(0.9369313, dtype=float32), array(0.93475527, dtype=float32), array(0.9326511, dtype=float32), array(0.9309232, dtype=float32), array(0.92929024, dtype=float32), array(0.924937, dtype=float32), array(0.92229, dtype=float32), array(0.92039907, dtype=float32), array(0.91756815, dtype=float32), array(0.9151352, dtype=float32), array(0.91295296, dtype=float32), array(0.91259605, dtype=float32), array(0.91270727, dtype=float32), array(0.9114547, dtype=float32), array(0.90886414, dtype=float32), array(0.907702, dtype=float32), array(0.90700096, dtype=float32), array(0.9078988, dtype=float32), array(0.905789, dtype=float32), array(0.90442306, dtype=float32), array(0.9028752, dtype=float32), array(0.89992917, dtype=float32), array(0.8974813, dtype=float32), array(0.89387125, dtype=float32), array(0.89199466, dtype=float32), array(0.89078313, dtype=float32), array(0.88950676, dtype=float32), array(0.887949, dtype=float32), array(0.8870267, dtype=float32), array(0.88498694, dtype=float32), array(0.8822193, dtype=float32), array(0.8803653, dtype=float32), array(0.8779734, dtype=float32), array(0.8759942, dtype=float32), array(0.87329936, dtype=float32), array(0.87087387, dtype=float32), array(0.86893934, dtype=float32), array(0.8649827, dtype=float32), array(0.86140776, dtype=float32), array(0.85850084, dtype=float32), array(0.8541728, dtype=float32), array(0.8506756, dtype=float32), array(0.84766036, dtype=float32), array(0.8438739, dtype=float32), array(0.8392719, dtype=float32), array(0.8353836, dtype=float32), array(0.8334108, dtype=float32), array(0.8307671, dtype=float32), array(0.8286632, dtype=float32), array(0.8256263, dtype=float32), array(0.82298064, dtype=float32), array(0.81988525, dtype=float32), array(0.8178243, dtype=float32), array(0.81527823, dtype=float32), array(0.81352514, dtype=float32), array(0.8106316, dtype=float32), array(0.80711806, dtype=float32), array(0.80254227, dtype=float32), array(0.79743654, dtype=float32), array(0.79364836, dtype=float32), array(0.7920853, dtype=float32), array(0.79048973, dtype=float32), array(0.7877584, dtype=float32), array(0.78511244, dtype=float32), array(0.78420097, dtype=float32), array(0.7818382, dtype=float32), array(0.78006333, dtype=float32), array(0.7784675, dtype=float32), array(0.77704436, dtype=float32), array(0.77667636, dtype=float32), array(0.7744951, dtype=float32), array(0.77320755, dtype=float32), array(0.7722918, dtype=float32), array(0.7701368, dtype=float32), array(0.7693578, dtype=float32), array(0.76792145, dtype=float32), array(0.7657511, dtype=float32), array(0.76371205, dtype=float32), array(0.76232916, dtype=float32), array(0.76063097, dtype=float32), array(0.7596686, dtype=float32), array(0.7589068, dtype=float32), array(0.7583905, dtype=float32), array(0.75431573, dtype=float32), array(0.75291145, dtype=float32), array(0.7516827, dtype=float32), array(0.7503261, dtype=float32), array(0.7485858, dtype=float32), tensor(0.7479, grad_fn=<DivBackward0>), tensor(0.7478, grad_fn=<DivBackward0>), tensor(0.7485, grad_fn=<DivBackward0>), tensor(0.7480, grad_fn=<DivBackward0>), tensor(0.7476, grad_fn=<DivBackward0>), tensor(0.7476, grad_fn=<DivBackward0>), tensor(0.7486, grad_fn=<DivBackward0>), tensor(0.7476, grad_fn=<DivBackward0>), tensor(0.7487, grad_fn=<DivBackward0>), tensor(0.7476, grad_fn=<DivBackward0>), tensor(0.7480, grad_fn=<DivBackward0>), tensor(0.7477, grad_fn=<DivBackward0>), tensor(0.7479, grad_fn=<DivBackward0>), tensor(0.7475, grad_fn=<DivBackward0>), tensor(0.7476, grad_fn=<DivBackward0>), tensor(0.7480, grad_fn=<DivBackward0>), tensor(0.7474, grad_fn=<DivBackward0>), tensor(0.7472, grad_fn=<DivBackward0>), tensor(0.7476, grad_fn=<DivBackward0>), tensor(0.7475, grad_fn=<DivBackward0>), tensor(0.7485, grad_fn=<DivBackward0>), tensor(0.7477, grad_fn=<DivBackward0>), tensor(0.7481, grad_fn=<DivBackward0>), tensor(0.7476, grad_fn=<DivBackward0>), tensor(0.7474, grad_fn=<DivBackward0>), tensor(0.7471, grad_fn=<DivBackward0>), tensor(0.7478, grad_fn=<DivBackward0>), tensor(0.7479, grad_fn=<DivBackward0>), tensor(0.7475, grad_fn=<DivBackward0>), tensor(0.7473, grad_fn=<DivBackward0>), tensor(0.7477, grad_fn=<DivBackward0>), tensor(0.7474, grad_fn=<DivBackward0>), tensor(0.7483, grad_fn=<DivBackward0>), tensor(0.7473, grad_fn=<DivBackward0>), tensor(0.7485, grad_fn=<DivBackward0>), tensor(0.7478, grad_fn=<DivBackward0>), tensor(0.7474, grad_fn=<DivBackward0>), tensor(0.7476, grad_fn=<DivBackward0>), tensor(0.7474, grad_fn=<DivBackward0>), tensor(0.7476, grad_fn=<DivBackward0>), tensor(0.7478, grad_fn=<DivBackward0>), tensor(0.7473, grad_fn=<DivBackward0>), tensor(0.7474, grad_fn=<DivBackward0>), tensor(0.7474, grad_fn=<DivBackward0>), tensor(0.7478, grad_fn=<DivBackward0>), tensor(0.7477, grad_fn=<DivBackward0>), tensor(0.7481, grad_fn=<DivBackward0>), tensor(0.7480, grad_fn=<DivBackward0>), tensor(0.7484, grad_fn=<DivBackward0>), tensor(0.7478, grad_fn=<DivBackward0>), tensor(0.7473, grad_fn=<DivBackward0>), tensor(0.7475, grad_fn=<DivBackward0>), tensor(0.7474, grad_fn=<DivBackward0>), tensor(0.7474, grad_fn=<DivBackward0>), tensor(0.7478, grad_fn=<DivBackward0>), tensor(0.7477, grad_fn=<DivBackward0>), tensor(0.7477, grad_fn=<DivBackward0>), tensor(0.7477, grad_fn=<DivBackward0>), tensor(0.7475, grad_fn=<DivBackward0>), tensor(0.7475, grad_fn=<DivBackward0>), tensor(0.7479, grad_fn=<DivBackward0>), tensor(0.7474, grad_fn=<DivBackward0>), tensor(0.7475, grad_fn=<DivBackward0>), tensor(0.7476, grad_fn=<DivBackward0>), tensor(0.7474, grad_fn=<DivBackward0>), tensor(0.7474, grad_fn=<DivBackward0>), tensor(0.7475, grad_fn=<DivBackward0>), tensor(0.7474, grad_fn=<DivBackward0>), tensor(0.7480, grad_fn=<DivBackward0>), tensor(0.7478, grad_fn=<DivBackward0>), tensor(0.7476, grad_fn=<DivBackward0>), tensor(0.7476, grad_fn=<DivBackward0>), tensor(0.7473, grad_fn=<DivBackward0>), tensor(0.7472, grad_fn=<DivBackward0>), tensor(0.7478, grad_fn=<DivBackward0>), tensor(0.7475, grad_fn=<DivBackward0>), tensor(0.7472, grad_fn=<DivBackward0>), tensor(0.7475, grad_fn=<DivBackward0>), tensor(0.7479, grad_fn=<DivBackward0>), tensor(0.7481, grad_fn=<DivBackward0>), tensor(0.7482, grad_fn=<DivBackward0>), tensor(0.7479, grad_fn=<DivBackward0>), tensor(0.7473, grad_fn=<DivBackward0>), tensor(0.7482, grad_fn=<DivBackward0>), tensor(0.7482, grad_fn=<DivBackward0>), tensor(0.7475, grad_fn=<DivBackward0>), tensor(0.7482, grad_fn=<DivBackward0>), tensor(0.7474, grad_fn=<DivBackward0>), tensor(0.7474, grad_fn=<DivBackward0>), tensor(0.7483, grad_fn=<DivBackward0>), tensor(0.7472, grad_fn=<DivBackward0>), tensor(0.7477, grad_fn=<DivBackward0>), tensor(0.7480, grad_fn=<DivBackward0>), tensor(0.7479, grad_fn=<DivBackward0>), tensor(0.7475, grad_fn=<DivBackward0>), tensor(0.7476, grad_fn=<DivBackward0>), tensor(0.7474, grad_fn=<DivBackward0>), tensor(0.7481, grad_fn=<DivBackward0>), tensor(0.7477, grad_fn=<DivBackward0>), tensor(0.7476, grad_fn=<DivBackward0>)]\n"
     ]
    },
    {
     "data": {
      "text/plain": [
       "[<matplotlib.lines.Line2D at 0x7f8ab6fca0d0>]"
      ]
     },
     "execution_count": 38,
     "metadata": {},
     "output_type": "execute_result"
    },
    {
     "data": {
      "image/png": "[encoded data removed]",
      "text/plain": [
       "<Figure size 432x288 with 1 Axes>"
      ]
     },
     "metadata": {
      "needs_background": "light"
     },
     "output_type": "display_data"
    }
   ],
   "source": [
    "print(loss_overall)\n",
    "plt.plot(loss_overall)\n",
    "    "
   ]
  },
  {
   "cell_type": "markdown",
   "id": "7aac2817",
   "metadata": {},
   "source": [
    "# Test"
   ]
  },
  {
   "cell_type": "markdown",
   "id": "f1b7ffb8-5010-480f-a996-328be9a01d0e",
   "metadata": {},
   "source": [
    "## test dataset"
   ]
  },
  {
   "cell_type": "code",
   "execution_count": 39,
   "id": "d87972fe-4e37-4e0f-a5fb-1907ec93fd9c",
   "metadata": {},
   "outputs": [],
   "source": [
    "toTensor_sig = torch.tensor(train_data)\n",
    "test_data_set = TensorDataset(toTensor_sig)"
   ]
  },
  {
   "cell_type": "code",
   "execution_count": 40,
   "id": "197499d1-f1de-4c6e-82de-f1dc46ee9c80",
   "metadata": {},
   "outputs": [],
   "source": [
    "encoder = torch.load(\"trained_encoder_1202.pth\")\n",
    "decoder = torch.load(\"trained_decoder_1202.pth\")"
   ]
  },
  {
   "cell_type": "code",
   "execution_count": 41,
   "id": "9a5f75e6-b2bf-47ce-b14b-25069ac33dd2",
   "metadata": {},
   "outputs": [],
   "source": [
    "te_data_loader = DataLoader(test_data_set,batch_size = batch_size, shuffle = False)"
   ]
  },
  {
   "cell_type": "code",
   "execution_count": 42,
   "id": "9471eaea-c87e-4955-8ef9-465058898f62",
   "metadata": {},
   "outputs": [],
   "source": [
    "predict = []\n",
    "ground_truth = []\n",
    "error = 0"
   ]
  },
  {
   "cell_type": "code",
   "execution_count": 43,
   "id": "27622614-44ed-4cef-9abc-7c12484885b6",
   "metadata": {},
   "outputs": [
    {
     "name": "stdout",
     "output_type": "stream",
     "text": [
      "0\n",
      "1\n",
      "2\n",
      "3\n",
      "4\n",
      "5\n",
      "6\n",
      "7\n",
      "8\n",
      "9\n",
      "10\n",
      "11\n",
      "12\n",
      "13\n",
      "14\n",
      "15\n",
      "16\n",
      "17\n",
      "18\n",
      "19\n",
      "20\n",
      "21\n",
      "22\n",
      "23\n",
      "24\n",
      "25\n",
      "26\n",
      "27\n",
      "28\n",
      "29\n",
      "30\n",
      "31\n",
      "32\n",
      "33\n",
      "34\n",
      "35\n",
      "36\n",
      "37\n",
      "38\n",
      "39\n",
      "40\n",
      "41\n",
      "42\n",
      "43\n",
      "44\n",
      "45\n",
      "46\n",
      "47\n",
      "48\n",
      "49\n",
      "50\n",
      "51\n",
      "52\n",
      "53\n",
      "54\n",
      "55\n",
      "56\n",
      "57\n",
      "58\n",
      "59\n",
      "60\n",
      "61\n",
      "62\n",
      "63\n",
      "64\n",
      "65\n",
      "66\n",
      "67\n",
      "68\n",
      "69\n",
      "70\n",
      "71\n",
      "72\n",
      "73\n",
      "74\n",
      "75\n",
      "76\n",
      "77\n",
      "78\n",
      "79\n",
      "80\n",
      "81\n",
      "82\n",
      "83\n",
      "84\n",
      "85\n",
      "86\n",
      "87\n",
      "88\n",
      "89\n",
      "90\n",
      "91\n",
      "92\n",
      "93\n",
      "94\n",
      "95\n",
      "96\n",
      "97\n",
      "98\n",
      "99\n",
      "100\n",
      "101\n",
      "102\n",
      "103\n",
      "104\n",
      "105\n",
      "106\n",
      "107\n",
      "108\n",
      "109\n",
      "110\n",
      "111\n",
      "112\n",
      "113\n",
      "114\n",
      "115\n",
      "116\n",
      "117\n",
      "118\n",
      "119\n",
      "120\n",
      "121\n",
      "122\n",
      "123\n",
      "124\n",
      "125\n",
      "126\n",
      "127\n",
      "128\n",
      "129\n",
      "130\n",
      "131\n",
      "132\n",
      "133\n",
      "134\n",
      "135\n",
      "136\n",
      "137\n",
      "138\n",
      "139\n",
      "140\n",
      "141\n",
      "142\n",
      "143\n",
      "144\n",
      "145\n",
      "146\n",
      "147\n",
      "148\n",
      "149\n",
      "150\n",
      "151\n",
      "152\n",
      "153\n",
      "154\n",
      "155\n",
      "156\n",
      "157\n",
      "158\n",
      "159\n",
      "160\n",
      "161\n",
      "162\n",
      "163\n",
      "164\n",
      "165\n",
      "166\n",
      "167\n",
      "168\n",
      "169\n",
      "170\n",
      "171\n",
      "172\n",
      "173\n",
      "174\n",
      "175\n",
      "176\n",
      "177\n",
      "178\n",
      "179\n",
      "180\n",
      "181\n",
      "182\n",
      "183\n",
      "184\n",
      "185\n",
      "186\n",
      "187\n",
      "188\n",
      "189\n",
      "190\n",
      "191\n",
      "192\n",
      "193\n",
      "194\n",
      "195\n",
      "196\n",
      "197\n",
      "198\n",
      "199\n",
      "200\n",
      "201\n",
      "202\n",
      "203\n",
      "204\n",
      "205\n",
      "206\n",
      "207\n",
      "208\n"
     ]
    }
   ],
   "source": [
    "for (idx,data) in enumerate(te_data_loader):\n",
    "        feature = data[0][:,:,0:29]#.permute(0,2,1)\n",
    "        #print(feature.shape)\n",
    "        target = data[0][:,:,29:49]\n",
    "        ground_truth.append(target)\n",
    "        encoder_hidden =(\n",
    "            torch.zeros(feature.shape[0], 16),\n",
    "            torch.zeros(feature.shape[0], 16),\n",
    "        )\n",
    "        \n",
    "        loss = 0\n",
    "        \n",
    "        \n",
    "        for cur_fea in range(feature.shape[2]):\n",
    "            encoder_input = feature[:,:,cur_fea]\n",
    "            #print((encoder_input.shape))\n",
    "            #print(encoder_hidden[0].dtype)\n",
    "            encoder_hidden = encoder(encoder_input.type(torch.FloatTensor), encoder_hidden)\n",
    "        \n",
    "        # Initialize decoder input with last coordinate in encoder\n",
    "        decoder_input = encoder_input[:, :2]\n",
    "\n",
    "        # Initialize decoder hidden state as encoder hidden state\n",
    "        decoder_hidden = encoder_hidden\n",
    "        decoder_outputs = torch.zeros(target.shape)\n",
    "        \n",
    "        for di in range(20):\n",
    "            decoder_output, decoder_hidden = decoder(decoder_input.type(torch.FloatTensor),decoder_hidden)\n",
    "            decoder_outputs[:, :, di] = decoder_output\n",
    "\n",
    "            # Update losses for all benchmarks\n",
    "            loss += criterion(decoder_output[:, :], target[:, :, di].type(torch.FloatTensor))\n",
    "\n",
    "            # Use own predictions as inputs at next step\n",
    "            decoder_input = decoder_output\n",
    "        error += loss\n",
    "        loss = loss / 20\n",
    "        predict.append(decoder_outputs)\n",
    "        print(idx)"
   ]
  },
  {
   "cell_type": "markdown",
   "id": "39c47940-4d07-4cee-b581-d77db9ffeff3",
   "metadata": {},
   "source": [
    "# Test"
   ]
  },
  {
   "cell_type": "code",
   "execution_count": 44,
   "id": "ec785b52-eaa6-4402-8fcf-248f5402d54b",
   "metadata": {},
   "outputs": [],
   "source": [
    "trajectory = np.load(\"train_trajectory.npy\")"
   ]
  },
  {
   "cell_type": "code",
   "execution_count": 45,
   "id": "33deeaf7-4276-4a44-a929-b500102d7f03",
   "metadata": {},
   "outputs": [
    {
     "data": {
      "text/plain": [
       "209"
      ]
     },
     "execution_count": 45,
     "metadata": {},
     "output_type": "execute_result"
    }
   ],
   "source": [
    "len(predict)"
   ]
  },
  {
   "cell_type": "code",
   "execution_count": 46,
   "id": "d508bf21-7884-4239-81dc-bd814395d999",
   "metadata": {},
   "outputs": [
    {
     "data": {
      "text/plain": [
       "1000"
      ]
     },
     "execution_count": 46,
     "metadata": {},
     "output_type": "execute_result"
    }
   ],
   "source": [
    "predict[0].size()[0]"
   ]
  },
  {
   "cell_type": "code",
   "execution_count": 47,
   "id": "3c7ad3b6-5f0a-4273-b016-4663b75575e4",
   "metadata": {},
   "outputs": [],
   "source": [
    "test = train_data"
   ]
  },
  {
   "cell_type": "code",
   "execution_count": 48,
   "id": "b73225d4-ecba-4833-b0a2-f3d004e94eab",
   "metadata": {},
   "outputs": [
    {
     "data": {
      "text/plain": [
       "(208272, 2, 20)"
      ]
     },
     "execution_count": 48,
     "metadata": {},
     "output_type": "execute_result"
    }
   ],
   "source": [
    "results = np.zeros((test.shape[0],2,20))\n",
    "results.shape"
   ]
  },
  {
   "cell_type": "code",
   "execution_count": 49,
   "id": "44e23711-682b-4fe3-a3d1-52c47307cbc4",
   "metadata": {},
   "outputs": [],
   "source": [
    "for i in range(len(predict)):\n",
    "    for j in range(predict[i].size()[0]):\n",
    "        results[i*1000+j] = predict[i][j].detach().numpy()"
   ]
  },
  {
   "cell_type": "code",
   "execution_count": 50,
   "id": "c5718ff2-54ce-48bf-9863-33c72d348181",
   "metadata": {},
   "outputs": [
    {
     "data": {
      "text/plain": [
       "tensor([[[ 1.8348e+00,  1.1678e+00, -9.0002e-01,  ..., -8.7037e-01,\n",
       "          -4.6124e-01,  3.1568e-01],\n",
       "         [-7.6949e+00, -8.1436e+00, -9.8827e+00,  ..., -8.7843e+00,\n",
       "          -8.3356e+00, -7.4836e+00]],\n",
       "\n",
       "        [[-3.1610e-01,  2.7391e-01, -3.7661e-01,  ..., -1.5950e-01,\n",
       "          -1.9197e-01, -1.8416e-01],\n",
       "         [-6.1070e-02,  1.1042e-01,  6.8043e-01,  ...,  7.1721e-02,\n",
       "          -7.5881e-03, -4.8456e-02]],\n",
       "\n",
       "        [[ 8.7814e+00,  9.1614e+00,  9.2186e+00,  ...,  9.2278e+00,\n",
       "           9.2278e+00,  9.2277e+00],\n",
       "         [ 7.7019e+00,  8.1324e+00,  8.1973e+00,  ...,  8.2077e+00,\n",
       "           8.2077e+00,  8.2077e+00]],\n",
       "\n",
       "        ...,\n",
       "\n",
       "        [[-3.2735e-01, -8.1438e-02, -1.8593e-01,  ..., -1.7497e-01,\n",
       "          -1.7725e-01, -1.7928e-01],\n",
       "         [-2.4689e-01,  1.1012e-01,  9.8084e-02,  ..., -3.5970e-02,\n",
       "          -4.0927e-02, -5.0822e-02]],\n",
       "\n",
       "        [[-3.2661e-01, -6.0787e-02, -2.1440e-01,  ..., -1.7797e-01,\n",
       "          -1.7961e-01, -1.7729e-01],\n",
       "         [-2.3071e-01,  1.0284e-01,  1.0866e-01,  ..., -3.7437e-02,\n",
       "          -5.0895e-02, -4.4740e-02]],\n",
       "\n",
       "        [[-1.1427e-01,  3.0067e-01, -1.7848e-01,  ..., -1.8429e-01,\n",
       "          -1.7587e-01, -1.7047e-01],\n",
       "         [ 3.0954e-01,  4.7069e-01,  1.0399e+00,  ..., -4.3103e-02,\n",
       "          -4.0309e-02, -1.3411e-02]]], grad_fn=<CopySlices>)"
      ]
     },
     "execution_count": 50,
     "metadata": {},
     "output_type": "execute_result"
    }
   ],
   "source": [
    "predict[0]"
   ]
  },
  {
   "cell_type": "code",
   "execution_count": 51,
   "id": "025154fa-2d6a-4424-a8b5-aa6c5946ffa3",
   "metadata": {},
   "outputs": [
    {
     "data": {
      "text/plain": [
       "(208272, 2, 50)"
      ]
     },
     "execution_count": 51,
     "metadata": {},
     "output_type": "execute_result"
    }
   ],
   "source": [
    "tra = trajectory\n",
    "tra.shape"
   ]
  },
  {
   "cell_type": "code",
   "execution_count": 52,
   "id": "bf689f21-2b4b-4ad0-b878-402aa7d0276b",
   "metadata": {},
   "outputs": [],
   "source": [
    "predicted_tras = np.zeros(tra.shape)"
   ]
  },
  {
   "cell_type": "code",
   "execution_count": 53,
   "id": "a7ef1bdc-edf9-4cd5-a45a-dff19398dd51",
   "metadata": {},
   "outputs": [],
   "source": [
    "predicted_tras[:,:,0:30] = tra[:,:,0:30]\n",
    "for i in range(30,50):\n",
    "    predicted_tras[:,:,i] = predicted_tras[:,:,i-1] + results[:,:,i-30]*0.1"
   ]
  },
  {
   "cell_type": "code",
   "execution_count": 54,
   "id": "2e8a03a8",
   "metadata": {},
   "outputs": [
    {
     "data": {
      "text/plain": [
       "201"
      ]
     },
     "execution_count": 54,
     "metadata": {},
     "output_type": "execute_result"
    }
   ],
   "source": [
    "np.arange(1,208272,10)[20]"
   ]
  },
  {
   "cell_type": "code",
   "execution_count": 55,
   "id": "4f036df7-7e9c-4c2e-beab-2c937491b739",
   "metadata": {},
   "outputs": [
    {
     "data": {
      "text/plain": [
       "[<matplotlib.lines.Line2D at 0x7f94281475b0>]"
      ]
     },
     "execution_count": 55,
     "metadata": {},
     "output_type": "execute_result"
    },
    {
     "data": {
      "image/png": "[encoded data removed]",
      "text/plain": [
       "<Figure size 432x288 with 1 Axes>"
      ]
     },
     "metadata": {
      "needs_background": "light"
     },
     "output_type": "display_data"
    }
   ],
   "source": [
    "plt.plot(predicted_tras[201,0],predicted_tras[201,1])\n",
    "plt.plot(tra[201,0],tra[201,1])"
   ]
  },
  {
   "cell_type": "code",
   "execution_count": 56,
   "id": "a451bb74",
   "metadata": {},
   "outputs": [
    {
     "data": {
      "text/plain": [
       "[<matplotlib.lines.Line2D at 0x7f8b28758c70>]"
      ]
     },
     "execution_count": 56,
     "metadata": {},
     "output_type": "execute_result"
    },
    {
     "data": {
      "image/png": "[encoded data removed]",
      "text/plain": [
       "<Figure size 432x288 with 1 Axes>"
      ]
     },
     "metadata": {
      "needs_background": "light"
     },
     "output_type": "display_data"
    }
   ],
   "source": [
    "plt.plot(predicted_tras[202,0],predicted_tras[202,1])\n",
    "plt.plot(tra[202,0],tra[202,1])"
   ]
  },
  {
   "cell_type": "code",
   "execution_count": 63,
   "id": "2360e30a",
   "metadata": {},
   "outputs": [
    {
     "data": {
      "text/plain": [
       "[<matplotlib.lines.Line2D at 0x7f953bb62130>]"
      ]
     },
     "execution_count": 63,
     "metadata": {},
     "output_type": "execute_result"
    },
    {
     "data": {
      "image/png": "[encoded data removed]",
      "text/plain": [
       "<Figure size 432x288 with 1 Axes>"
      ]
     },
     "metadata": {
      "needs_background": "light"
     },
     "output_type": "display_data"
    }
   ],
   "source": [
    "plt.plot(predicted_tras[203,0],predicted_tras[203,1])\n",
    "plt.plot(tra[203,0],tra[203,1])"
   ]
  },
  {
   "cell_type": "code",
   "execution_count": 109,
   "id": "104b3f7f",
   "metadata": {},
   "outputs": [
    {
     "data": {
      "text/plain": [
       "[<matplotlib.lines.Line2D at 0x7f8b50ce8dc0>]"
      ]
     },
     "execution_count": 109,
     "metadata": {},
     "output_type": "execute_result"
    },
    {
     "data": {
      "image/png": "[encoded data removed]",
      "text/plain": [
       "<Figure size 432x288 with 1 Axes>"
      ]
     },
     "metadata": {
      "needs_background": "light"
     },
     "output_type": "display_data"
    }
   ],
   "source": [
    "plt.figure()\n",
    "plt.plot(predicted_tras[217,0],predicted_tras[217,1])\n",
    "plt.plot(tra[217,0],tra[217,1])"
   ]
  },
  {
   "cell_type": "code",
   "execution_count": 105,
   "id": "1a008ffd",
   "metadata": {},
   "outputs": [
    {
     "data": {
      "text/plain": [
       "array([[ 721.52440047,  721.52438515,  721.52438954,  721.52434815,\n",
       "         721.52428268,  721.5242382 ,  721.52410657,  721.52434176,\n",
       "         721.5243832 ,  721.52421578,  721.52409226,  721.52442526,\n",
       "         721.52428135,  721.5243222 ,  721.52430183,  721.52417552,\n",
       "         721.52430341,  721.52411318,  721.52438343,  721.52422606,\n",
       "         721.52433878,  721.52410189,  721.5242565 ,  721.523966  ,\n",
       "         721.52421984,  721.52412232,  721.52431816,  721.52423947,\n",
       "         721.52440896,  721.52434665,  721.52429036,  721.52426622,\n",
       "         721.52427283,  721.52408125,  721.52417109,  721.52395896,\n",
       "         721.52408895,  721.52387442,  721.5235686 ,  721.52375299,\n",
       "         721.52337731,  721.5235763 ,  721.52326779,  721.52358472,\n",
       "         721.52357515,  721.52371887,  721.52371903,  721.52373988,\n",
       "         721.52360475,  721.52370956],\n",
       "       [2252.46720552, 2252.46716452, 2252.46725546, 2252.4674075 ,\n",
       "        2252.46721942, 2252.46697723, 2252.46678805, 2252.46623039,\n",
       "        2252.46625825, 2252.46625088, 2252.46618315, 2252.46625178,\n",
       "        2252.46642466, 2252.46611448, 2252.4660938 , 2252.4661316 ,\n",
       "        2252.46622761, 2252.46638379, 2252.46650762, 2252.46659403,\n",
       "        2252.46677875, 2252.46665957, 2252.46659409, 2252.46679955,\n",
       "        2252.4668235 , 2252.46683681, 2252.46676276, 2252.46692758,\n",
       "        2252.46667207, 2252.46673295, 2252.46657419, 2252.46671411,\n",
       "        2252.46628778, 2252.46612553, 2252.46588844, 2252.46541737,\n",
       "        2252.46550221, 2252.46543914, 2252.46535851, 2252.46532842,\n",
       "        2252.46518821, 2252.46505139, 2252.4647154 , 2252.46489928,\n",
       "        2252.46457321, 2252.46454406, 2252.46465651, 2252.46475454,\n",
       "        2252.46461987, 2252.46449808]])"
      ]
     },
     "execution_count": 105,
     "metadata": {},
     "output_type": "execute_result"
    }
   ],
   "source": [
    "tra[217]"
   ]
  },
  {
   "cell_type": "code",
   "execution_count": 107,
   "id": "b9190cf6",
   "metadata": {},
   "outputs": [
    {
     "data": {
      "text/plain": [
       "array([[ 721.52440047,  721.52438515,  721.52438954,  721.52434815,\n",
       "         721.52428268,  721.5242382 ,  721.52410657,  721.52434176,\n",
       "         721.5243832 ,  721.52421578,  721.52409226,  721.52442526,\n",
       "         721.52428135,  721.5243222 ,  721.52430183,  721.52417552,\n",
       "         721.52430341,  721.52411318,  721.52438343,  721.52422606,\n",
       "         721.52433878,  721.52410189,  721.5242565 ,  721.523966  ,\n",
       "         721.52421984,  721.52412232,  721.52431816,  721.52423947,\n",
       "         721.52440896,  721.52434665,  721.49204721,  721.48667752,\n",
       "         721.46441105,  721.46696007,  721.4624062 ,  721.42007727,\n",
       "         721.40193416,  721.37870881,  721.36219251,  721.34727678,\n",
       "         721.32804001,  721.30949503,  721.29322962,  721.27581158,\n",
       "         721.25731786,  721.2398183 ,  721.22260705,  721.20477594,\n",
       "         721.18681723,  721.16910809],\n",
       "       [2252.46720552, 2252.46716452, 2252.46725546, 2252.4674075 ,\n",
       "        2252.46721942, 2252.46697723, 2252.46678805, 2252.46623039,\n",
       "        2252.46625825, 2252.46625088, 2252.46618315, 2252.46625178,\n",
       "        2252.46642466, 2252.46611448, 2252.4660938 , 2252.4661316 ,\n",
       "        2252.46622761, 2252.46638379, 2252.46650762, 2252.46659403,\n",
       "        2252.46677875, 2252.46665957, 2252.46659409, 2252.46679955,\n",
       "        2252.4668235 , 2252.46683681, 2252.46676276, 2252.46692758,\n",
       "        2252.46667207, 2252.46673295, 2252.44396468, 2252.45416388,\n",
       "        2252.46547035, 2252.4713009 , 2252.52783852, 2252.50367248,\n",
       "        2252.51851816, 2252.50798005, 2252.50801797, 2252.51628734,\n",
       "        2252.51510667, 2252.50780697, 2252.50953402, 2252.50933462,\n",
       "        2252.50393554, 2252.50010946, 2252.49816779, 2252.4944254 ,\n",
       "        2252.48937395, 2252.48503081]])"
      ]
     },
     "execution_count": 107,
     "metadata": {},
     "output_type": "execute_result"
    }
   ],
   "source": [
    "predicted_tras[217]"
   ]
  },
  {
   "cell_type": "code",
   "execution_count": 88,
   "id": "cd0c77b3",
   "metadata": {},
   "outputs": [
    {
     "data": {
      "text/plain": [
       "[<matplotlib.lines.Line2D at 0x7f8a271be580>]"
      ]
     },
     "execution_count": 88,
     "metadata": {},
     "output_type": "execute_result"
    },
    {
     "data": {
      "image/png": "[encoded data removed]",
      "text/plain": [
       "<Figure size 432x288 with 1 Axes>"
      ]
     },
     "metadata": {
      "needs_background": "light"
     },
     "output_type": "display_data"
    }
   ],
   "source": [
    "plt.plot(predicted_tras[218,0],predicted_tras[218,1])\n",
    "plt.plot(tra[218,0],tra[218,1])"
   ]
  },
  {
   "cell_type": "code",
   "execution_count": 91,
   "id": "6e8dd03c",
   "metadata": {},
   "outputs": [
    {
     "data": {
      "text/plain": [
       "[<matplotlib.lines.Line2D at 0x7f89034368e0>]"
      ]
     },
     "execution_count": 91,
     "metadata": {},
     "output_type": "execute_result"
    },
    {
     "data": {
      "image/png": "[encoded data removed]",
      "text/plain": [
       "<Figure size 432x288 with 1 Axes>"
      ]
     },
     "metadata": {
      "needs_background": "light"
     },
     "output_type": "display_data"
    }
   ],
   "source": [
    "plt.plot(predicted_tras[219,0],predicted_tras[219,1])\n",
    "plt.plot(tra[219,0],tra[219,1])"
   ]
  },
  {
   "cell_type": "code",
   "execution_count": 97,
   "id": "2a3762ea",
   "metadata": {},
   "outputs": [
    {
     "data": {
      "text/plain": [
       "[<matplotlib.lines.Line2D at 0x7f8a3002dd90>]"
      ]
     },
     "execution_count": 97,
     "metadata": {},
     "output_type": "execute_result"
    },
    {
     "data": {
      "image/png": "[encoded data removed]",
      "text/plain": [
       "<Figure size 432x288 with 1 Axes>"
      ]
     },
     "metadata": {
      "needs_background": "light"
     },
     "output_type": "display_data"
    }
   ],
   "source": [
    "plt.plot(predicted_tras[224,0],predicted_tras[224,1])\n",
    "plt.plot(tra[224,0],tra[224,1])"
   ]
  },
  {
   "cell_type": "code",
   "execution_count": 98,
   "id": "c179c987",
   "metadata": {},
   "outputs": [
    {
     "data": {
      "text/plain": [
       "[<matplotlib.lines.Line2D at 0x7f8b50aa5370>]"
      ]
     },
     "execution_count": 98,
     "metadata": {},
     "output_type": "execute_result"
    },
    {
     "data": {
      "image/png": "[encoded data removed]",
      "text/plain": [
       "<Figure size 432x288 with 1 Axes>"
      ]
     },
     "metadata": {
      "needs_background": "light"
     },
     "output_type": "display_data"
    }
   ],
   "source": [
    "plt.plot(predicted_tras[225,0],predicted_tras[225,1])\n",
    "plt.plot(tra[225,0],tra[225,1])"
   ]
  },
  {
   "cell_type": "code",
   "execution_count": 104,
   "id": "b69841e1",
   "metadata": {},
   "outputs": [
    {
     "data": {
      "text/plain": [
       "[<matplotlib.lines.Line2D at 0x7f8b50c18340>]"
      ]
     },
     "execution_count": 104,
     "metadata": {},
     "output_type": "execute_result"
    },
    {
     "data": {
      "image/png": "[encoded data removed]",
      "text/plain": [
       "<Figure size 432x288 with 1 Axes>"
      ]
     },
     "metadata": {
      "needs_background": "light"
     },
     "output_type": "display_data"
    },
    {
     "data": {
      "image/png": "[encoded data removed]",
      "text/plain": [
       "<Figure size 432x288 with 1 Axes>"
      ]
     },
     "metadata": {
      "needs_background": "light"
     },
     "output_type": "display_data"
    }
   ],
   "source": [
    "#plt.plot(predicted_tras[225,0],predicted_tras[225,1])\n",
    "plt.figure()\n",
    "plt.plot(tra[227,0],tra[227,1])\n",
    "plt.figure()\n",
    "plt.plot(tra[225,0],tra[225,1])"
   ]
  },
  {
   "cell_type": "code",
   "execution_count": 100,
   "id": "8c10d4a5",
   "metadata": {},
   "outputs": [
    {
     "data": {
      "text/plain": [
       "[<matplotlib.lines.Line2D at 0x7f8b50bc0880>]"
      ]
     },
     "execution_count": 100,
     "metadata": {},
     "output_type": "execute_result"
    },
    {
     "data": {
      "image/png": "[encoded data removed]",
      "text/plain": [
       "<Figure size 432x288 with 1 Axes>"
      ]
     },
     "metadata": {
      "needs_background": "light"
     },
     "output_type": "display_data"
    }
   ],
   "source": [
    "plt.plot(predicted_tras[227,0],predicted_tras[227,1])\n",
    "plt.plot(tra[227,0],tra[227,1])"
   ]
  },
  {
   "cell_type": "code",
   "execution_count": 57,
   "id": "cb9f1227-488e-4c8b-897b-d0b1e08dfcea",
   "metadata": {},
   "outputs": [
    {
     "data": {
      "text/plain": [
       "7.255452225060625"
      ]
     },
     "execution_count": 57,
     "metadata": {},
     "output_type": "execute_result"
    }
   ],
   "source": [
    "# compute the MSE of predicted results\n",
    "\n",
    "np.sum((predicted_tras - tra)**2/(predicted_tras.shape[0]*20))"
   ]
  },
  {
   "cell_type": "code",
   "execution_count": 58,
   "id": "7ef1b057-9b26-4985-b5c8-22ac3014ba1a",
   "metadata": {},
   "outputs": [
    {
     "data": {
      "text/plain": [
       "(208272, 2, 50)"
      ]
     },
     "execution_count": 58,
     "metadata": {},
     "output_type": "execute_result"
    }
   ],
   "source": [
    "# compute the MSE of mean velocity\n",
    "results_mv = np.zeros((test.shape[0],2,50))\n",
    "results_mv.shape"
   ]
  },
  {
   "cell_type": "code",
   "execution_count": 59,
   "id": "540de643-9e61-452b-a669-38eb157c606a",
   "metadata": {},
   "outputs": [
    {
     "data": {
      "text/plain": [
       "(208272, 2)"
      ]
     },
     "execution_count": 59,
     "metadata": {},
     "output_type": "execute_result"
    }
   ],
   "source": [
    "np.mean(train_data[:,:,0:30],axis = 2).shape"
   ]
  },
  {
   "cell_type": "code",
   "execution_count": 60,
   "id": "de378b05-f574-4632-9c2a-57992e0c4ac7",
   "metadata": {},
   "outputs": [],
   "source": [
    "mean_velocity = np.mean(train_data[:,:,0:30],axis = 2)\n",
    "results_mv[:,:,0:30] = tra[:,:,0:30]\n",
    "for i in range(30,50):\n",
    "    results_mv[:,:,i] = results_mv[:,:,i-1] + mean_velocity*0.1"
   ]
  },
  {
   "cell_type": "code",
   "execution_count": 61,
   "id": "5c2755b5-59e0-4d0b-95ca-998ede18db30",
   "metadata": {},
   "outputs": [
    {
     "data": {
      "text/plain": [
       "5.931030273515191"
      ]
     },
     "execution_count": 61,
     "metadata": {},
     "output_type": "execute_result"
    }
   ],
   "source": [
    "np.sum((results_mv - tra)**2/(predicted_tras.shape[0]*20))"
   ]
  },
  {
   "cell_type": "code",
   "execution_count": 62,
   "id": "2c15bdf2",
   "metadata": {},
   "outputs": [
    {
     "data": {
      "text/plain": [
       "[<matplotlib.lines.Line2D at 0x7f8aa4e1a250>]"
      ]
     },
     "execution_count": 62,
     "metadata": {},
     "output_type": "execute_result"
    },
    {
     "data": {
      "image/png": "[encoded data removed]",
      "text/plain": [
       "<Figure size 432x288 with 1 Axes>"
      ]
     },
     "metadata": {
      "needs_background": "light"
     },
     "output_type": "display_data"
    }
   ],
   "source": [
    "plt.plot(results_mv[202,0],results_mv[202,1])\n",
    "plt.plot(tra[202,0],tra[202,1])"
   ]
  },
  {
   "cell_type": "code",
   "execution_count": 90,
   "id": "d87819a7",
   "metadata": {},
   "outputs": [
    {
     "data": {
      "text/plain": [
       "[<matplotlib.lines.Line2D at 0x7f8a2729c7c0>]"
      ]
     },
     "execution_count": 90,
     "metadata": {},
     "output_type": "execute_result"
    },
    {
     "data": {
      "image/png": "[encoded data removed]",
      "text/plain": [
       "<Figure size 432x288 with 1 Axes>"
      ]
     },
     "metadata": {
      "needs_background": "light"
     },
     "output_type": "display_data"
    }
   ],
   "source": [
    "plt.plot(results_mv[203,0],results_mv[203,1])\n",
    "plt.plot(tra[203,0],tra[203,1])"
   ]
  },
  {
   "cell_type": "code",
   "execution_count": 85,
   "id": "68a5c0e5-235d-4ea2-85ef-07657f77e3d2",
   "metadata": {},
   "outputs": [
    {
     "data": {
      "text/plain": [
       "[<matplotlib.lines.Line2D at 0x7f8b50118e80>]"
      ]
     },
     "execution_count": 85,
     "metadata": {},
     "output_type": "execute_result"
    },
    {
     "data": {
      "image/png": "[encoded data removed]",
      "text/plain": [
       "<Figure size 432x288 with 1 Axes>"
      ]
     },
     "metadata": {
      "needs_background": "light"
     },
     "output_type": "display_data"
    }
   ],
   "source": [
    "plt.plot(results_mv[217,0],results_mv[217,1])\n",
    "plt.plot(tra[217,0],tra[217,1])"
   ]
  },
  {
   "cell_type": "code",
   "execution_count": null,
   "id": "ae6afb4d",
   "metadata": {},
   "outputs": [],
   "source": []
  }
 ],
 "metadata": {
  "kernelspec": {
   "display_name": "Python 3",
   "language": "python",
   "name": "python3"
  },
  "language_info": {
   "codemirror_mode": {
    "name": "ipython",
    "version": 3
   },
   "file_extension": ".py",
   "mimetype": "text/x-python",
   "name": "python",
   "nbconvert_exporter": "python",
   "pygments_lexer": "ipython3",
   "version": "3.8.8"
  }
 },
 "nbformat": 4,
 "nbformat_minor": 5
}
