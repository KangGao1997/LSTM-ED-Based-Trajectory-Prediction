{
 "cells": [
  {
   "cell_type": "code",
   "execution_count": 1,
   "id": "8a47383b",
   "metadata": {},
   "outputs": [],
   "source": [
    "import torch\n",
    "import torch.nn as nn\n",
    "import torch.nn.functional as F\n",
    "from typing import Any\n",
    "\n",
    "import numpy as np\n",
    "from torch.utils.data import DataLoader,TensorDataset\n",
    "import time\n",
    "import matplotlib.pyplot as plt"
   ]
  },
  {
   "cell_type": "code",
   "execution_count": 2,
   "id": "0fb10b2d",
   "metadata": {},
   "outputs": [],
   "source": [
    "class EncoderRNN(nn.Module):\n",
    "    \"\"\"Encoder Network.\"\"\"\n",
    "    def __init__(self,\n",
    "                 input_size: int = 2,\n",
    "                 embedding_size: int = 8,\n",
    "                 hidden_size: int = 16):\n",
    "        \"\"\"Initialize the encoder network.\n",
    "        Args:\n",
    "            input_size: number of features in the input\n",
    "            embedding_size: Embedding size\n",
    "            hidden_size: Hidden size of LSTM\n",
    "        \"\"\"\n",
    "        super(EncoderRNN, self).__init__()\n",
    "        self.hidden_size = hidden_size\n",
    "\n",
    "        self.linear1 = nn.Linear(input_size, embedding_size)\n",
    "        self.lstm1 = nn.LSTMCell(embedding_size, hidden_size)\n",
    "\n",
    "    def forward(self, x: torch.FloatTensor, hidden: Any) -> Any:\n",
    "        \"\"\"Run forward propagation.\n",
    "        Args:\n",
    "            x: input to the network\n",
    "            hidden: initial hidden state\n",
    "        Returns:\n",
    "            hidden: final hidden \n",
    "        \"\"\"\n",
    "        embedded = F.relu(self.linear1(x))\n",
    "        hidden = self.lstm1(embedded, hidden)\n",
    "        return hidden\n"
   ]
  },
  {
   "cell_type": "code",
   "execution_count": 3,
   "id": "66099191",
   "metadata": {},
   "outputs": [],
   "source": [
    "class DecoderRNN(nn.Module):\n",
    "    \"\"\"Decoder Network.\"\"\"\n",
    "    def __init__(self, embedding_size=8, hidden_size=16, output_size=2):\n",
    "        \"\"\"Initialize the decoder network.\n",
    "        Args:\n",
    "            embedding_size: Embedding size\n",
    "            hidden_size: Hidden size of LSTM\n",
    "            output_size: number of features in the output\n",
    "        \"\"\"\n",
    "        super(DecoderRNN, self).__init__()\n",
    "        self.hidden_size = hidden_size\n",
    "\n",
    "        self.linear1 = nn.Linear(output_size, embedding_size)\n",
    "        self.lstm1 = nn.LSTMCell(embedding_size, hidden_size)\n",
    "        self.linear2 = nn.Linear(hidden_size, output_size)\n",
    "\n",
    "    def forward(self, x, hidden):\n",
    "        \"\"\"Run forward propagation.\n",
    "        Args:\n",
    "            x: input to the network\n",
    "            hidden: initial hidden state\n",
    "        Returns:\n",
    "            output: output from lstm\n",
    "            hidden: final hidden state\n",
    "        \"\"\"\n",
    "        embedded = F.relu(self.linear1(x))\n",
    "        hidden = self.lstm1(embedded, hidden)\n",
    "        output = self.linear2(hidden[0])\n",
    "        return output, hidden"
   ]
  },
  {
   "cell_type": "code",
   "execution_count": 4,
   "id": "b2fc3131",
   "metadata": {},
   "outputs": [
    {
     "data": {
      "text/plain": [
       "((208272, 2, 19), (208272, 2, 30))"
      ]
     },
     "execution_count": 4,
     "metadata": {},
     "output_type": "execute_result"
    }
   ],
   "source": [
    "train_set = np.load(\"train_set2.npy\")\n",
    "train_target = np.load(\"train_target2.npy\")\n",
    "l = train_set.shape[0]\n",
    "train_set.shape,train_target.shape"
   ]
  },
  {
   "cell_type": "code",
   "execution_count": 5,
   "id": "55643f7b",
   "metadata": {},
   "outputs": [
    {
     "data": {
      "text/plain": [
       "(208272, 2, 49)"
      ]
     },
     "execution_count": 5,
     "metadata": {},
     "output_type": "execute_result"
    }
   ],
   "source": [
    "#train_set = train_set.transpose(0,2,1)\n",
    "#train_target = train_target.transpose(0,2,1)\n",
    "#train_set.shape,train_target.shape\n",
    "\n",
    "train_data = np.concatenate((train_set,train_target),axis = 2)\n",
    "train_data.shape"
   ]
  },
  {
   "cell_type": "code",
   "execution_count": 6,
   "id": "389f521d",
   "metadata": {},
   "outputs": [],
   "source": [
    "toTensor_sig = torch.tensor(train_data[0:208272:10]*10)\n",
    "train_data_set = TensorDataset(toTensor_sig)"
   ]
  },
  {
   "cell_type": "code",
   "execution_count": 7,
   "id": "7cbdceb3",
   "metadata": {},
   "outputs": [],
   "source": [
    "#set up the train parameters\n",
    "batch_size = 1000 #600 #500\n",
    "epoch = 500\n",
    "lr = 0.0001\n",
    "\n",
    "encoder = EncoderRNN()\n",
    "decoder = DecoderRNN()\n",
    "criterion = nn.MSELoss()\n",
    "encoder_optimizer = torch.optim.Adam(encoder.parameters(), lr=lr)\n",
    "decoder_optimizer = torch.optim.Adam(decoder.parameters(), lr=lr)\n",
    "tr_data_loader = DataLoader(train_data_set,batch_size = batch_size, shuffle = True)\n",
    "loss_overall = []"
   ]
  },
  {
   "cell_type": "code",
   "execution_count": null,
   "id": "83d33685",
   "metadata": {},
   "outputs": [
    {
     "name": "stdout",
     "output_type": "stream",
     "text": [
      "============================================\n",
      "epoch:  1\n",
      "tensor(0.6315, grad_fn=<DivBackward0>)\n",
      "============================================\n",
      "epoch:  2\n",
      "tensor(0.6305, grad_fn=<DivBackward0>)\n",
      "============================================\n",
      "epoch:  3\n",
      "tensor(0.6293, grad_fn=<DivBackward0>)\n",
      "============================================\n",
      "epoch:  4\n",
      "tensor(0.6282, grad_fn=<DivBackward0>)\n",
      "============================================\n",
      "epoch:  5\n",
      "tensor(0.6268, grad_fn=<DivBackward0>)\n",
      "============================================\n",
      "epoch:  6\n",
      "tensor(0.6259, grad_fn=<DivBackward0>)\n",
      "============================================\n",
      "epoch:  7\n",
      "tensor(0.6244, grad_fn=<DivBackward0>)\n",
      "============================================\n",
      "epoch:  8\n",
      "tensor(0.6224, grad_fn=<DivBackward0>)\n",
      "============================================\n",
      "epoch:  9\n",
      "tensor(0.6208, grad_fn=<DivBackward0>)\n",
      "============================================\n",
      "epoch:  10\n",
      "tensor(0.6185, grad_fn=<DivBackward0>)\n",
      "============================================\n",
      "epoch:  11\n",
      "tensor(0.6160, grad_fn=<DivBackward0>)\n",
      "============================================\n",
      "epoch:  12\n",
      "tensor(0.6127, grad_fn=<DivBackward0>)\n",
      "============================================\n",
      "epoch:  13\n",
      "tensor(0.6092, grad_fn=<DivBackward0>)\n",
      "============================================\n",
      "epoch:  14\n"
     ]
    }
   ],
   "source": [
    "\n",
    "start = time.time()\n",
    "\n",
    "for i in range(epoch):\n",
    "    print(\"============================================\")\n",
    "    print(\"epoch: \", i+1)\n",
    "    loss_batch = 0\n",
    "    cur_MSE = 0\n",
    "    for (idx,data) in enumerate(tr_data_loader):\n",
    "        feature = data[0][:,:,0:29]#.permute(0,2,1)\n",
    "        #print(feature.shape)\n",
    "        target = data[0][:,:,29:49]\n",
    "        #print(target)\n",
    "        encoder_hidden =(\n",
    "            torch.zeros(feature.shape[0], 16),\n",
    "            torch.zeros(feature.shape[0], 16),\n",
    "        )\n",
    "        \n",
    "        loss = 0\n",
    "        \n",
    "        \n",
    "        for cur_fea in range(feature.shape[2]):\n",
    "            encoder_input = feature[:,:,cur_fea]\n",
    "            #print((encoder_input.shape))\n",
    "            #print(encoder_hidden[0].dtype)\n",
    "            encoder_hidden = encoder(encoder_input.type(torch.FloatTensor), encoder_hidden)\n",
    "        \n",
    "        # Initialize decoder input with last coordinate in encoder\n",
    "        decoder_input = encoder_input[:, :2]\n",
    "        #print(decoder_input.shape)\n",
    "\n",
    "        # Initialize decoder hidden state as encoder hidden state\n",
    "        decoder_hidden = encoder_hidden\n",
    "        decoder_outputs = torch.zeros(target.shape)\n",
    "        \n",
    "        for di in range(20):\n",
    "            decoder_output, decoder_hidden = decoder(decoder_input.type(torch.FloatTensor),\n",
    "                                                     decoder_hidden)\n",
    "            decoder_outputs[:, :, di] = decoder_output\n",
    "            #print(decoder_output)\n",
    "\n",
    "            # Update losses for all benchmarks\n",
    "            loss += criterion(decoder_output[:, :], target[:, :, di].type(torch.FloatTensor))\n",
    "            \n",
    "\n",
    "            # Use own predictions as inputs at next step\n",
    "            decoder_input = decoder_output\n",
    "            \n",
    "        \n",
    "        #loss = criterion(decoder_outputs, target.type(torch.FloatTensor))\n",
    "        # Get average loss for pred_len\n",
    "        #loss = (loss/batch_size).type(torch.FloatTensor)\n",
    "        #cur_MSE += loss\n",
    "        #print(loss.dtype)\n",
    "        loss = loss/20\n",
    "        loss_batch+=loss\n",
    "        #print(loss)\n",
    "        loss.backward()\n",
    "        encoder_optimizer.step()\n",
    "        #print(\"decoder\")\n",
    "        decoder_optimizer.step()\n",
    "        #print(decoder_outputs)\n",
    "        #print(target)\n",
    "        #break\n",
    "    #loss_overall.append(cur_MSE)\n",
    "    print(loss_batch/batch_size)    #average loss per batch\n",
    "    loss_overall.append(loss_batch/batch_size)\n",
    "\n",
    "torch.save(encoder,'trained_encoder_1125.pth')\n",
    "torch.save(decoder,'trained_decoder_1125.pth')\n",
    "\n",
    "end = time.time()"
   ]
  },
  {
   "cell_type": "code",
   "execution_count": 13,
   "id": "9d4dfb1c",
   "metadata": {},
   "outputs": [],
   "source": [
    "torch.save(encoder,'trained_encoder8.pth')\n",
    "torch.save(decoder,'trained_decoder8.pth')"
   ]
  },
  {
   "cell_type": "markdown",
   "id": "9e6becff-6ef5-4409-9d18-bed18615ea3a",
   "metadata": {},
   "source": [
    "## Print learning curve"
   ]
  },
  {
   "cell_type": "code",
   "execution_count": null,
   "id": "00ec62b4",
   "metadata": {},
   "outputs": [],
   "source": [
    "\n",
    "for i in range(len(loss_overall)):\n",
    "    loss_overall[i] = loss_overall[i].detach().numpy()\n"
   ]
  },
  {
   "cell_type": "code",
   "execution_count": null,
   "id": "4cf0ff72",
   "metadata": {},
   "outputs": [],
   "source": [
    "print(loss_overall)\n",
    "plt.plot(loss_overall)\n",
    "    "
   ]
  },
  {
   "cell_type": "code",
   "execution_count": null,
   "id": "bb124035",
   "metadata": {},
   "outputs": [],
   "source": [
    "\n",
    "print(\"training time: \", end - start)"
   ]
  },
  {
   "cell_type": "markdown",
   "id": "7aac2817",
   "metadata": {},
   "source": [
    "# Test"
   ]
  },
  {
   "cell_type": "markdown",
   "id": "c28ea6d6",
   "metadata": {},
   "source": [
    "## Test on Training Dataset"
   ]
  },
  {
   "cell_type": "code",
   "execution_count": 15,
   "id": "11353b74",
   "metadata": {},
   "outputs": [
    {
     "name": "stdout",
     "output_type": "stream",
     "text": [
      "ok\n"
     ]
    }
   ],
   "source": [
    "l = train_data[0:208272:100].shape[0]\n",
    "to_tensor_test = torch.tensor(train_data[0:208272:10]*10)\n",
    "test_data_set = TensorDataset(to_tensor_test)\n",
    "te_data_loader = DataLoader(test_data_set,batch_size = batch_size, shuffle = False)\n",
    "\n",
    "\n",
    "encoder = torch.load(\"trained_encoder8.pth\")\n",
    "decoder = torch.load(\"trained_decoder8.pth\")\n",
    "\n",
    "\n",
    "ground_truth = []\n",
    "predict = []\n",
    "print(\"ok\")"
   ]
  },
  {
   "cell_type": "code",
   "execution_count": 16,
   "id": "c941cd7c",
   "metadata": {},
   "outputs": [
    {
     "name": "stdout",
     "output_type": "stream",
     "text": [
      "0\n",
      "1\n",
      "2\n",
      "3\n",
      "4\n",
      "5\n",
      "6\n",
      "7\n",
      "8\n",
      "9\n",
      "10\n",
      "11\n",
      "12\n",
      "13\n",
      "14\n",
      "15\n",
      "16\n",
      "17\n",
      "18\n",
      "19\n",
      "20\n"
     ]
    }
   ],
   "source": [
    "for (idx,data) in enumerate(te_data_loader):\n",
    "        feature = data[0][:,:,0:29]#.permute(0,2,1)\n",
    "        #print(feature.shape)\n",
    "        target = data[0][:,:,29:49]\n",
    "        ground_truth.append(target)\n",
    "        encoder_hidden =(\n",
    "            torch.zeros(feature.shape[0], 16),\n",
    "            torch.zeros(feature.shape[0], 16),\n",
    "        )\n",
    "        \n",
    "        loss = 0\n",
    "        \n",
    "        \n",
    "        for cur_fea in range(feature.shape[2]):\n",
    "            encoder_input = feature[:,:,cur_fea]\n",
    "            #print((encoder_input.shape))\n",
    "            #print(encoder_hidden[0].dtype)\n",
    "            encoder_hidden = encoder(encoder_input.type(torch.FloatTensor), encoder_hidden)\n",
    "        \n",
    "        # Initialize decoder input with last coordinate in encoder\n",
    "        decoder_input = encoder_input[:, :2]\n",
    "\n",
    "        # Initialize decoder hidden state as encoder hidden state\n",
    "        decoder_hidden = encoder_hidden\n",
    "        decoder_outputs = torch.zeros(target.shape)\n",
    "        \n",
    "        for di in range(20):\n",
    "            decoder_output, decoder_hidden = decoder(decoder_input.type(torch.FloatTensor),\n",
    "                                                     decoder_hidden)\n",
    "            decoder_outputs[:, :, di] = decoder_output\n",
    "\n",
    "            # Update losses for all benchmarks\n",
    "            loss += criterion(decoder_output[:, :], target[:, :, di].type(torch.FloatTensor))\n",
    "            \n",
    "\n",
    "            # Use own predictions as inputs at next step\n",
    "            decoder_input = decoder_output\n",
    "        predict.append(decoder_outputs)\n",
    "        print(idx)"
   ]
  },
  {
   "cell_type": "code",
   "execution_count": 17,
   "id": "199f2876",
   "metadata": {},
   "outputs": [
    {
     "data": {
      "text/plain": [
       "(torch.Size([1000, 2, 20]),\n",
       " torch.Size([1000, 2, 20]),\n",
       " 21,\n",
       " 21,\n",
       " torch.Size([20]))"
      ]
     },
     "execution_count": 17,
     "metadata": {},
     "output_type": "execute_result"
    }
   ],
   "source": [
    "ground_truth[0].shape, predict[0].shape, len(ground_truth), len(predict),ground_truth[0][15,:,:][0].shape\n",
    "\n"
   ]
  },
  {
   "cell_type": "code",
   "execution_count": 18,
   "id": "0545e026",
   "metadata": {},
   "outputs": [
    {
     "name": "stdout",
     "output_type": "stream",
     "text": [
      "[0.05380608 0.05022216 0.04932667 0.04808149 0.05323355 0.04701837\n",
      " 0.04797148 0.05152708 0.04672548 0.04612165 0.04512323 0.04741597\n",
      " 0.04259974 0.04180918 0.04047923 0.0398205  0.03867161 0.04116073\n",
      " 0.03618091 0.03602675]\n",
      "=================\n",
      "tensor([0.5381, 0.5022, 0.4933, 0.4808, 0.5323, 0.4702, 0.4797, 0.5153, 0.4673,\n",
      "        0.4612, 0.4512, 0.4742, 0.4260, 0.4181, 0.4048, 0.3982, 0.3867, 0.4116,\n",
      "        0.3618, 0.3603], dtype=torch.float64)\n",
      "=================\n",
      "tensor([-0.3164, -0.0571, -0.0170, -0.0115, -0.0107, -0.0106, -0.0106, -0.0106,\n",
      "        -0.0106, -0.0106, -0.0106, -0.0106, -0.0106, -0.0106, -0.0106, -0.0104,\n",
      "        -0.0095, -0.0025,  0.0428,  0.2114], grad_fn=<SliceBackward0>)\n"
     ]
    }
   ],
   "source": [
    "print(train_data[0:208272:10][0][0,29:])  #first batch first trajectory\n",
    "print(\"=================\")\n",
    "print(ground_truth[0][0,0,:])  #first batch first trajectory\n",
    "print(\"=================\")\n",
    "print(predict[0][0,0,:])\n",
    "#print(predict[0][30,:,:])"
   ]
  },
  {
   "cell_type": "code",
   "execution_count": 19,
   "id": "9a152c96",
   "metadata": {},
   "outputs": [
    {
     "data": {
      "text/plain": [
       "<matplotlib.legend.Legend at 0x2b8ddfa5b400>"
      ]
     },
     "execution_count": 19,
     "metadata": {},
     "output_type": "execute_result"
    },
    {
     "data": {
      "image/png": "[encoded data removed]",
      "text/plain": [
       "<Figure size 432x288 with 1 Axes>"
      ]
     },
     "metadata": {
      "needs_background": "light"
     },
     "output_type": "display_data"
    }
   ],
   "source": [
    "plt.plot(ground_truth[0][28,:,:][1].detach().numpy(),label = \"ground truth\")\n",
    "plt.plot(predict[0][28,:,:][1].detach().numpy(), label = \"predict\")\n",
    "plt.legend()\n"
   ]
  },
  {
   "cell_type": "code",
   "execution_count": 20,
   "id": "182e027e",
   "metadata": {},
   "outputs": [],
   "source": [
    "trajectory = np.load(\"trajectory_train.npy\")[0:208272:100]"
   ]
  },
  {
   "cell_type": "code",
   "execution_count": 21,
   "id": "a683de04",
   "metadata": {},
   "outputs": [
    {
     "name": "stdout",
     "output_type": "stream",
     "text": [
      "(2083, 2, 50)\n"
     ]
    },
    {
     "data": {
      "text/plain": [
       "array([[3840.38026748, 3840.76168095, 3841.04545339, 3841.33687289,\n",
       "        3841.66647875, 3841.96974797, 3842.28210721, 3842.59442629,\n",
       "        3842.94835477, 3843.27626787, 3843.64428733, 3843.9864728 ,\n",
       "        3844.36880395, 3844.68747638, 3845.08515908, 3845.49356624,\n",
       "        3845.83150934, 3846.25823055, 3846.65449224, 3847.14115706,\n",
       "        3847.51567294, 3847.97445246, 3848.40632433, 3848.84079175,\n",
       "        3849.32652167, 3849.77572298, 3850.27740457, 3850.64665649,\n",
       "        3851.16016988, 3851.63396889, 3852.11179148, 3852.59469834,\n",
       "        3853.08422102, 3853.63307262, 3854.13932841, 3854.70670282,\n",
       "        3855.2281618 , 3855.75653559, 3856.34727692, 3856.94229808,\n",
       "        3857.43535533, 3858.04372322, 3858.6036512 , 3859.16591865,\n",
       "        3859.7310933 , 3860.30404809, 3860.93284813, 3861.5098939 ,\n",
       "        3862.1546132 , 3862.74178006],\n",
       "       [2345.93018682, 2346.29921357, 2346.5617862 , 2346.83232619,\n",
       "        2347.13754923, 2347.41983518, 2347.71169469, 2348.00372922,\n",
       "        2348.33615642, 2348.64467782, 2348.99329751, 2349.31842951,\n",
       "        2349.68381935, 2349.98945217, 2350.37341729, 2350.77090383,\n",
       "        2351.1020462 , 2351.52032816, 2351.912119  , 2352.39047462,\n",
       "        2352.76450468, 2353.22578468, 2353.66000638, 2354.09282341,\n",
       "        2354.58298137, 2355.03987152, 2355.55352034, 2355.9288039 ,\n",
       "        2356.455524  , 2356.94183002, 2357.43175741, 2357.92731624,\n",
       "        2358.43169425, 2358.99495554, 2359.51157009, 2360.09033033,\n",
       "        2360.62136943, 2361.15802891, 2361.75638113, 2362.35846338,\n",
       "        2362.8564071 , 2363.47024507, 2364.03160285, 2364.59711043,\n",
       "        2365.16659698, 2365.74382657, 2366.38084926, 2366.96687447,\n",
       "        2367.61507891, 2368.20627885]])"
      ]
     },
     "execution_count": 21,
     "metadata": {},
     "output_type": "execute_result"
    },
    {
     "data": {
      "image/png": "[encoded data removed]",
      "text/plain": [
       "<Figure size 432x288 with 1 Axes>"
      ]
     },
     "metadata": {
      "needs_background": "light"
     },
     "output_type": "display_data"
    }
   ],
   "source": [
    "print(trajectory.shape)\n",
    "plt.plot(trajectory[28][0],trajectory[28][1])\n",
    "trajectory[28]"
   ]
  },
  {
   "cell_type": "code",
   "execution_count": 22,
   "id": "4fa8e570",
   "metadata": {},
   "outputs": [
    {
     "data": {
      "text/plain": [
       "(array([3840.38026748, 3840.76168095, 3841.04545339, 3841.33687289,\n",
       "        3841.66647875, 3841.96974797, 3842.28210721, 3842.59442629,\n",
       "        3842.94835477, 3843.27626787, 3843.64428733, 3843.9864728 ,\n",
       "        3844.36880395, 3844.68747638, 3845.08515908, 3845.49356624,\n",
       "        3845.83150934, 3846.25823055, 3846.65449224, 3847.14115706,\n",
       "        3847.51567294, 3847.97445246, 3848.40632433, 3848.84079175,\n",
       "        3849.32652167, 3849.77572298, 3850.27740457, 3850.64665649,\n",
       "        3851.16016988,    0.        ,    0.        ,    0.        ,\n",
       "           0.        ,    0.        ,    0.        ,    0.        ,\n",
       "           0.        ,    0.        ,    0.        ,    0.        ,\n",
       "           0.        ,    0.        ,    0.        ,    0.        ,\n",
       "           0.        ,    0.        ,    0.        ,    0.        ,\n",
       "           0.        ,    0.        ]),\n",
       " array([[3840.38026748, 3840.76168095, 3841.04545339, 3841.33687289,\n",
       "         3841.66647875, 3841.96974797, 3842.28210721, 3842.59442629,\n",
       "         3842.94835477, 3843.27626787, 3843.64428733, 3843.9864728 ,\n",
       "         3844.36880395, 3844.68747638, 3845.08515908, 3845.49356624,\n",
       "         3845.83150934, 3846.25823055, 3846.65449224, 3847.14115706,\n",
       "         3847.51567294, 3847.97445246, 3848.40632433, 3848.84079175,\n",
       "         3849.32652167, 3849.77572298, 3850.27740457, 3850.64665649,\n",
       "         3851.16016988],\n",
       "        [2345.93018682, 2346.29921357, 2346.5617862 , 2346.83232619,\n",
       "         2347.13754923, 2347.41983518, 2347.71169469, 2348.00372922,\n",
       "         2348.33615642, 2348.64467782, 2348.99329751, 2349.31842951,\n",
       "         2349.68381935, 2349.98945217, 2350.37341729, 2350.77090383,\n",
       "         2351.1020462 , 2351.52032816, 2351.912119  , 2352.39047462,\n",
       "         2352.76450468, 2353.22578468, 2353.66000638, 2354.09282341,\n",
       "         2354.58298137, 2355.03987152, 2355.55352034, 2355.9288039 ,\n",
       "         2356.455524  ]]))"
      ]
     },
     "execution_count": 22,
     "metadata": {},
     "output_type": "execute_result"
    }
   ],
   "source": [
    "position = trajectory[28,:,29]\n",
    "obs = trajectory[28,:,0:29]\n",
    "predict_tr = np.zeros((2,50))\n",
    "predict_tr[:,0:29] = obs\n",
    "predict_tr[0],obs"
   ]
  },
  {
   "cell_type": "code",
   "execution_count": 23,
   "id": "b7cc1966",
   "metadata": {},
   "outputs": [
    {
     "name": "stdout",
     "output_type": "stream",
     "text": [
      "3849.160412111542\n",
      "3848.5777575876923\n",
      "3847.833999791405\n",
      "3847.9738050368046\n",
      "3847.6404230740286\n",
      "3847.471799340508\n",
      "3847.2114146139834\n",
      "3846.9962644961092\n",
      "3846.751862015984\n",
      "3846.5233561661457\n",
      "3846.2832682755206\n",
      "3846.0496896412587\n",
      "3845.8108911183094\n",
      "3845.5750253823016\n",
      "3845.33659769561\n",
      "3845.0995746996614\n",
      "3844.8612167742463\n",
      "3844.62355641391\n",
      "3844.3851707365725\n",
      "3844.147138228676\n"
     ]
    }
   ],
   "source": [
    "\"\"\"\n",
    "[-0.1085,  0.0399,  0.2210,  0.4163,  0.5873,  0.7096,  0.7858,  0.8328,\n",
    "         0.8615,  0.8791,  0.8900,  0.8968,  0.9011,  0.9038,  0.9054,  0.9064,\n",
    "         0.9070,  0.9073,  0.9074,  0.9074]\"\"\"\n",
    "\n",
    "\n",
    "for i in range(29,49):\n",
    "    print(predict_tr[0][i-1]+predict[0][28,0,i-29].detach().numpy())\n",
    "    #print(p(predict_tr[1][i-1]+predict[0][28,1,i-29].detach().numpy()))\n",
    "    #print(predict[0][28,0,i-29])\n",
    "    predict_tr[0][i] = (predict_tr[0][i-1]+predict[0][28,0,i-29].detach().numpy()/10)\n",
    "    predict_tr[1][i] = (predict_tr[1][i-1]+predict[0][28,1,i-29].detach().numpy()/10)\n"
   ]
  },
  {
   "cell_type": "code",
   "execution_count": 24,
   "id": "3e101fd7",
   "metadata": {},
   "outputs": [
    {
     "data": {
      "text/plain": [
       "(array([3850.9601941 , 3850.72195045, 3850.43315538, 3850.18722035,\n",
       "        3849.93254062, 3849.68646649, 3849.43896131, 3849.19469162,\n",
       "        3848.95040866, 3848.70770341, 3848.4652599 , 3848.22370287,\n",
       "        3847.9824217 , 3847.74168207, 3847.50117363, 3847.26101374,\n",
       "        3847.02103404, 3846.78128628, 3846.54167472, 3846.30222107,\n",
       "           0.        ]),\n",
       " array([3463.77534597, 3463.79121176, 3463.80222967, 3463.80299179,\n",
       "        3463.80189206, 3463.80061932, 3463.79938925, 3463.80710756,\n",
       "        3463.80393689, 3463.8073403 , 3463.80785434, 3463.80865627,\n",
       "        3463.80889491, 3463.80643614, 3463.81027401, 3463.811218  ,\n",
       "        3463.81178596, 3463.80967154, 3463.81040509, 3463.81119927,\n",
       "        3463.81149049, 3463.81223609]),\n",
       " array([0.48992739, 0.49555883, 0.50437801, 0.56326129, 0.51661456,\n",
       "        0.57876023, 0.53103911, 0.53665948, 0.59835222, 0.60208225,\n",
       "        0.49794372, 0.61383797, 0.56135778, 0.56550758, 0.56948656,\n",
       "        0.57722959, 0.63702269, 0.5860252 , 0.64820444, 0.59119994]))"
      ]
     },
     "execution_count": 24,
     "metadata": {},
     "output_type": "execute_result"
    }
   ],
   "source": [
    "predict_tr[0][29:], (trajectory[28][0][28:]), train_data[0:208272:100][28][1][29:]"
   ]
  },
  {
   "cell_type": "code",
   "execution_count": 25,
   "id": "b1ddf78a",
   "metadata": {},
   "outputs": [
    {
     "data": {
      "text/plain": [
       "<matplotlib.legend.Legend at 0x2b8df3838250>"
      ]
     },
     "execution_count": 25,
     "metadata": {},
     "output_type": "execute_result"
    },
    {
     "data": {
      "image/png": "[encoded data removed]",
      "text/plain": [
       "<Figure size 432x288 with 1 Axes>"
      ]
     },
     "metadata": {
      "needs_background": "light"
     },
     "output_type": "display_data"
    },
    {
     "data": {
      "image/png": "[encoded data removed]",
      "text/plain": [
       "<Figure size 432x288 with 1 Axes>"
      ]
     },
     "metadata": {
      "needs_background": "light"
     },
     "output_type": "display_data"
    }
   ],
   "source": [
    "\n",
    "plt.figure()\n",
    "plt.plot(obs[0],obs[1])\n",
    "plt.figure()\n",
    "plt.title(\"prediction and ground truth\")\n",
    "plt.plot(predict_tr[0][0:49],predict_tr[1][0:49],label = \"predict\") #,predict_tr[1][0:49]\n",
    "#plt.figure()\n",
    "plt.plot(trajectory[28][0],trajectory[28][1],label = \"ground truth\")    #,trajectory[28][1]\n",
    "plt.legend()"
   ]
  },
  {
   "cell_type": "code",
   "execution_count": null,
   "id": "d4705234",
   "metadata": {},
   "outputs": [],
   "source": [
    "predict_tr"
   ]
  },
  {
   "cell_type": "code",
   "execution_count": null,
   "id": "8881a47f",
   "metadata": {},
   "outputs": [],
   "source": []
  },
  {
   "cell_type": "code",
   "execution_count": null,
   "id": "16d4dce5",
   "metadata": {},
   "outputs": [],
   "source": [
    "np.save(\"sccc.npy\",np.ones(1000))"
   ]
  },
  {
   "cell_type": "code",
   "execution_count": null,
   "id": "77e1911f",
   "metadata": {},
   "outputs": [],
   "source": []
  },
  {
   "cell_type": "code",
   "execution_count": null,
   "id": "e07f1b7f",
   "metadata": {},
   "outputs": [],
   "source": []
  }
 ],
 "metadata": {
  "kernelspec": {
   "display_name": "Python 3 (ipykernel)",
   "language": "python",
   "name": "python3"
  },
  "language_info": {
   "codemirror_mode": {
    "name": "ipython",
    "version": 3
   },
   "file_extension": ".py",
   "mimetype": "text/x-python",
   "name": "python",
   "nbconvert_exporter": "python",
   "pygments_lexer": "ipython3",
   "version": "3.8.1"
  }
 },
 "nbformat": 4,
 "nbformat_minor": 5
}
